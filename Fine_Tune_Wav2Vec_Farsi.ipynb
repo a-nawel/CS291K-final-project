{
  "nbformat": 4,
  "nbformat_minor": 0,
  "metadata": {
    "accelerator": "GPU",
    "colab": {
      "provenance": [],
      "machine_shape": "hm",
      "include_colab_link": true
    },
    "kernelspec": {
      "display_name": "Python 3",
      "name": "python3"
    },
    "widgets": {
      "application/vnd.jupyter.widget-state+json": {
        "ae4984db0cf344c9836405d5aee460b9": {
          "model_module": "@jupyter-widgets/controls",
          "model_name": "VBoxModel",
          "model_module_version": "1.5.0",
          "state": {
            "_dom_classes": [],
            "_model_module": "@jupyter-widgets/controls",
            "_model_module_version": "1.5.0",
            "_model_name": "VBoxModel",
            "_view_count": null,
            "_view_module": "@jupyter-widgets/controls",
            "_view_module_version": "1.5.0",
            "_view_name": "VBoxView",
            "box_style": "",
            "children": [
              "IPY_MODEL_6077290f1a254179af581d53234fb794",
              "IPY_MODEL_b01fe86c71444719810373a46c445b7d",
              "IPY_MODEL_2360b0c3de724d52bac5dafb648a98a9",
              "IPY_MODEL_502fe13b66d7427cb9b8b095af4aaeda"
            ],
            "layout": "IPY_MODEL_71f75249e01a4da7a4e3fc15cc382666"
          }
        },
        "6077290f1a254179af581d53234fb794": {
          "model_module": "@jupyter-widgets/controls",
          "model_name": "HTMLModel",
          "model_module_version": "1.5.0",
          "state": {
            "_dom_classes": [],
            "_model_module": "@jupyter-widgets/controls",
            "_model_module_version": "1.5.0",
            "_model_name": "HTMLModel",
            "_view_count": null,
            "_view_module": "@jupyter-widgets/controls",
            "_view_module_version": "1.5.0",
            "_view_name": "HTMLView",
            "description": "",
            "description_tooltip": null,
            "layout": "IPY_MODEL_c1814ebe057145629e77212128bb3b77",
            "placeholder": "​",
            "style": "IPY_MODEL_74e7d0f6f1064ca8ad04534496d8951c",
            "value": "<center> <img\nsrc=https://huggingface.co/front/assets/huggingface_logo-noborder.svg\nalt='Hugging Face'> <br> Copy a token from <a\nhref=\"https://huggingface.co/settings/tokens\" target=\"_blank\">your Hugging Face\ntokens page</a> and paste it below. <br> Immediately click login after copying\nyour token or it might be stored in plain text in this notebook file. </center>"
          }
        },
        "b01fe86c71444719810373a46c445b7d": {
          "model_module": "@jupyter-widgets/controls",
          "model_name": "PasswordModel",
          "model_module_version": "1.5.0",
          "state": {
            "_dom_classes": [],
            "_model_module": "@jupyter-widgets/controls",
            "_model_module_version": "1.5.0",
            "_model_name": "PasswordModel",
            "_view_count": null,
            "_view_module": "@jupyter-widgets/controls",
            "_view_module_version": "1.5.0",
            "_view_name": "PasswordView",
            "continuous_update": true,
            "description": "Token:",
            "description_tooltip": null,
            "disabled": false,
            "layout": "IPY_MODEL_cd8126155ee0456dbd5b769dc4f6dc28",
            "placeholder": "​",
            "style": "IPY_MODEL_79a67131deec400783dfefc97a92aef9",
            "value": ""
          }
        },
        "2360b0c3de724d52bac5dafb648a98a9": {
          "model_module": "@jupyter-widgets/controls",
          "model_name": "ButtonModel",
          "model_module_version": "1.5.0",
          "state": {
            "_dom_classes": [],
            "_model_module": "@jupyter-widgets/controls",
            "_model_module_version": "1.5.0",
            "_model_name": "ButtonModel",
            "_view_count": null,
            "_view_module": "@jupyter-widgets/controls",
            "_view_module_version": "1.5.0",
            "_view_name": "ButtonView",
            "button_style": "",
            "description": "Login",
            "disabled": false,
            "icon": "",
            "layout": "IPY_MODEL_b079193f889b451fb10a7e363b03cb55",
            "style": "IPY_MODEL_e0c5a4b7f41e4e9f80f92e5240834cb9",
            "tooltip": ""
          }
        },
        "502fe13b66d7427cb9b8b095af4aaeda": {
          "model_module": "@jupyter-widgets/controls",
          "model_name": "HTMLModel",
          "model_module_version": "1.5.0",
          "state": {
            "_dom_classes": [],
            "_model_module": "@jupyter-widgets/controls",
            "_model_module_version": "1.5.0",
            "_model_name": "HTMLModel",
            "_view_count": null,
            "_view_module": "@jupyter-widgets/controls",
            "_view_module_version": "1.5.0",
            "_view_name": "HTMLView",
            "description": "",
            "description_tooltip": null,
            "layout": "IPY_MODEL_3e198f62fab34e0c9cd153cc57cddce6",
            "placeholder": "​",
            "style": "IPY_MODEL_6adea8439d5a4e18b2585f73de4bf01a",
            "value": "\n<b>Pro Tip:</b> If you don't already have one, you can create a dedicated\n'notebooks' token with 'write' access, that you can then easily reuse for all\nnotebooks. </center>"
          }
        },
        "71f75249e01a4da7a4e3fc15cc382666": {
          "model_module": "@jupyter-widgets/base",
          "model_name": "LayoutModel",
          "model_module_version": "1.2.0",
          "state": {
            "_model_module": "@jupyter-widgets/base",
            "_model_module_version": "1.2.0",
            "_model_name": "LayoutModel",
            "_view_count": null,
            "_view_module": "@jupyter-widgets/base",
            "_view_module_version": "1.2.0",
            "_view_name": "LayoutView",
            "align_content": null,
            "align_items": "center",
            "align_self": null,
            "border": null,
            "bottom": null,
            "display": "flex",
            "flex": null,
            "flex_flow": "column",
            "grid_area": null,
            "grid_auto_columns": null,
            "grid_auto_flow": null,
            "grid_auto_rows": null,
            "grid_column": null,
            "grid_gap": null,
            "grid_row": null,
            "grid_template_areas": null,
            "grid_template_columns": null,
            "grid_template_rows": null,
            "height": null,
            "justify_content": null,
            "justify_items": null,
            "left": null,
            "margin": null,
            "max_height": null,
            "max_width": null,
            "min_height": null,
            "min_width": null,
            "object_fit": null,
            "object_position": null,
            "order": null,
            "overflow": null,
            "overflow_x": null,
            "overflow_y": null,
            "padding": null,
            "right": null,
            "top": null,
            "visibility": null,
            "width": "50%"
          }
        },
        "c1814ebe057145629e77212128bb3b77": {
          "model_module": "@jupyter-widgets/base",
          "model_name": "LayoutModel",
          "model_module_version": "1.2.0",
          "state": {
            "_model_module": "@jupyter-widgets/base",
            "_model_module_version": "1.2.0",
            "_model_name": "LayoutModel",
            "_view_count": null,
            "_view_module": "@jupyter-widgets/base",
            "_view_module_version": "1.2.0",
            "_view_name": "LayoutView",
            "align_content": null,
            "align_items": null,
            "align_self": null,
            "border": null,
            "bottom": null,
            "display": null,
            "flex": null,
            "flex_flow": null,
            "grid_area": null,
            "grid_auto_columns": null,
            "grid_auto_flow": null,
            "grid_auto_rows": null,
            "grid_column": null,
            "grid_gap": null,
            "grid_row": null,
            "grid_template_areas": null,
            "grid_template_columns": null,
            "grid_template_rows": null,
            "height": null,
            "justify_content": null,
            "justify_items": null,
            "left": null,
            "margin": null,
            "max_height": null,
            "max_width": null,
            "min_height": null,
            "min_width": null,
            "object_fit": null,
            "object_position": null,
            "order": null,
            "overflow": null,
            "overflow_x": null,
            "overflow_y": null,
            "padding": null,
            "right": null,
            "top": null,
            "visibility": null,
            "width": null
          }
        },
        "74e7d0f6f1064ca8ad04534496d8951c": {
          "model_module": "@jupyter-widgets/controls",
          "model_name": "DescriptionStyleModel",
          "model_module_version": "1.5.0",
          "state": {
            "_model_module": "@jupyter-widgets/controls",
            "_model_module_version": "1.5.0",
            "_model_name": "DescriptionStyleModel",
            "_view_count": null,
            "_view_module": "@jupyter-widgets/base",
            "_view_module_version": "1.2.0",
            "_view_name": "StyleView",
            "description_width": ""
          }
        },
        "cd8126155ee0456dbd5b769dc4f6dc28": {
          "model_module": "@jupyter-widgets/base",
          "model_name": "LayoutModel",
          "model_module_version": "1.2.0",
          "state": {
            "_model_module": "@jupyter-widgets/base",
            "_model_module_version": "1.2.0",
            "_model_name": "LayoutModel",
            "_view_count": null,
            "_view_module": "@jupyter-widgets/base",
            "_view_module_version": "1.2.0",
            "_view_name": "LayoutView",
            "align_content": null,
            "align_items": null,
            "align_self": null,
            "border": null,
            "bottom": null,
            "display": null,
            "flex": null,
            "flex_flow": null,
            "grid_area": null,
            "grid_auto_columns": null,
            "grid_auto_flow": null,
            "grid_auto_rows": null,
            "grid_column": null,
            "grid_gap": null,
            "grid_row": null,
            "grid_template_areas": null,
            "grid_template_columns": null,
            "grid_template_rows": null,
            "height": null,
            "justify_content": null,
            "justify_items": null,
            "left": null,
            "margin": null,
            "max_height": null,
            "max_width": null,
            "min_height": null,
            "min_width": null,
            "object_fit": null,
            "object_position": null,
            "order": null,
            "overflow": null,
            "overflow_x": null,
            "overflow_y": null,
            "padding": null,
            "right": null,
            "top": null,
            "visibility": null,
            "width": null
          }
        },
        "79a67131deec400783dfefc97a92aef9": {
          "model_module": "@jupyter-widgets/controls",
          "model_name": "DescriptionStyleModel",
          "model_module_version": "1.5.0",
          "state": {
            "_model_module": "@jupyter-widgets/controls",
            "_model_module_version": "1.5.0",
            "_model_name": "DescriptionStyleModel",
            "_view_count": null,
            "_view_module": "@jupyter-widgets/base",
            "_view_module_version": "1.2.0",
            "_view_name": "StyleView",
            "description_width": ""
          }
        },
        "b079193f889b451fb10a7e363b03cb55": {
          "model_module": "@jupyter-widgets/base",
          "model_name": "LayoutModel",
          "model_module_version": "1.2.0",
          "state": {
            "_model_module": "@jupyter-widgets/base",
            "_model_module_version": "1.2.0",
            "_model_name": "LayoutModel",
            "_view_count": null,
            "_view_module": "@jupyter-widgets/base",
            "_view_module_version": "1.2.0",
            "_view_name": "LayoutView",
            "align_content": null,
            "align_items": null,
            "align_self": null,
            "border": null,
            "bottom": null,
            "display": null,
            "flex": null,
            "flex_flow": null,
            "grid_area": null,
            "grid_auto_columns": null,
            "grid_auto_flow": null,
            "grid_auto_rows": null,
            "grid_column": null,
            "grid_gap": null,
            "grid_row": null,
            "grid_template_areas": null,
            "grid_template_columns": null,
            "grid_template_rows": null,
            "height": null,
            "justify_content": null,
            "justify_items": null,
            "left": null,
            "margin": null,
            "max_height": null,
            "max_width": null,
            "min_height": null,
            "min_width": null,
            "object_fit": null,
            "object_position": null,
            "order": null,
            "overflow": null,
            "overflow_x": null,
            "overflow_y": null,
            "padding": null,
            "right": null,
            "top": null,
            "visibility": null,
            "width": null
          }
        },
        "e0c5a4b7f41e4e9f80f92e5240834cb9": {
          "model_module": "@jupyter-widgets/controls",
          "model_name": "ButtonStyleModel",
          "model_module_version": "1.5.0",
          "state": {
            "_model_module": "@jupyter-widgets/controls",
            "_model_module_version": "1.5.0",
            "_model_name": "ButtonStyleModel",
            "_view_count": null,
            "_view_module": "@jupyter-widgets/base",
            "_view_module_version": "1.2.0",
            "_view_name": "StyleView",
            "button_color": null,
            "font_weight": ""
          }
        },
        "3e198f62fab34e0c9cd153cc57cddce6": {
          "model_module": "@jupyter-widgets/base",
          "model_name": "LayoutModel",
          "model_module_version": "1.2.0",
          "state": {
            "_model_module": "@jupyter-widgets/base",
            "_model_module_version": "1.2.0",
            "_model_name": "LayoutModel",
            "_view_count": null,
            "_view_module": "@jupyter-widgets/base",
            "_view_module_version": "1.2.0",
            "_view_name": "LayoutView",
            "align_content": null,
            "align_items": null,
            "align_self": null,
            "border": null,
            "bottom": null,
            "display": null,
            "flex": null,
            "flex_flow": null,
            "grid_area": null,
            "grid_auto_columns": null,
            "grid_auto_flow": null,
            "grid_auto_rows": null,
            "grid_column": null,
            "grid_gap": null,
            "grid_row": null,
            "grid_template_areas": null,
            "grid_template_columns": null,
            "grid_template_rows": null,
            "height": null,
            "justify_content": null,
            "justify_items": null,
            "left": null,
            "margin": null,
            "max_height": null,
            "max_width": null,
            "min_height": null,
            "min_width": null,
            "object_fit": null,
            "object_position": null,
            "order": null,
            "overflow": null,
            "overflow_x": null,
            "overflow_y": null,
            "padding": null,
            "right": null,
            "top": null,
            "visibility": null,
            "width": null
          }
        },
        "6adea8439d5a4e18b2585f73de4bf01a": {
          "model_module": "@jupyter-widgets/controls",
          "model_name": "DescriptionStyleModel",
          "model_module_version": "1.5.0",
          "state": {
            "_model_module": "@jupyter-widgets/controls",
            "_model_module_version": "1.5.0",
            "_model_name": "DescriptionStyleModel",
            "_view_count": null,
            "_view_module": "@jupyter-widgets/base",
            "_view_module_version": "1.2.0",
            "_view_name": "StyleView",
            "description_width": ""
          }
        },
        "683579bf0ef3443eaadcd4a90446f8b7": {
          "model_module": "@jupyter-widgets/controls",
          "model_name": "HBoxModel",
          "model_module_version": "1.5.0",
          "state": {
            "_dom_classes": [],
            "_model_module": "@jupyter-widgets/controls",
            "_model_module_version": "1.5.0",
            "_model_name": "HBoxModel",
            "_view_count": null,
            "_view_module": "@jupyter-widgets/controls",
            "_view_module_version": "1.5.0",
            "_view_name": "HBoxView",
            "box_style": "",
            "children": [
              "IPY_MODEL_63f9592e587d4bc79280015bdc3600d1",
              "IPY_MODEL_a0391278e310463d897d00c7a15d4237",
              "IPY_MODEL_8834543e506a4a52b7568cf160757396"
            ],
            "layout": "IPY_MODEL_fb79408f1d724f5a8db4027f87e33675"
          }
        },
        "63f9592e587d4bc79280015bdc3600d1": {
          "model_module": "@jupyter-widgets/controls",
          "model_name": "HTMLModel",
          "model_module_version": "1.5.0",
          "state": {
            "_dom_classes": [],
            "_model_module": "@jupyter-widgets/controls",
            "_model_module_version": "1.5.0",
            "_model_name": "HTMLModel",
            "_view_count": null,
            "_view_module": "@jupyter-widgets/controls",
            "_view_module_version": "1.5.0",
            "_view_name": "HTMLView",
            "description": "",
            "description_tooltip": null,
            "layout": "IPY_MODEL_c054465718cf4cb6afeec20773f5ef2e",
            "placeholder": "​",
            "style": "IPY_MODEL_981154b141de4bd4a9894c0f894c6db0",
            "value": ""
          }
        },
        "a0391278e310463d897d00c7a15d4237": {
          "model_module": "@jupyter-widgets/controls",
          "model_name": "FloatProgressModel",
          "model_module_version": "1.5.0",
          "state": {
            "_dom_classes": [],
            "_model_module": "@jupyter-widgets/controls",
            "_model_module_version": "1.5.0",
            "_model_name": "FloatProgressModel",
            "_view_count": null,
            "_view_module": "@jupyter-widgets/controls",
            "_view_module_version": "1.5.0",
            "_view_name": "ProgressView",
            "bar_style": "success",
            "description": "",
            "description_tooltip": null,
            "layout": "IPY_MODEL_7997c73b9a944ab995bc6765eca69c02",
            "max": 1,
            "min": 0,
            "orientation": "horizontal",
            "style": "IPY_MODEL_82db58fa4a25469d902271e612af3504",
            "value": 1
          }
        },
        "8834543e506a4a52b7568cf160757396": {
          "model_module": "@jupyter-widgets/controls",
          "model_name": "HTMLModel",
          "model_module_version": "1.5.0",
          "state": {
            "_dom_classes": [],
            "_model_module": "@jupyter-widgets/controls",
            "_model_module_version": "1.5.0",
            "_model_name": "HTMLModel",
            "_view_count": null,
            "_view_module": "@jupyter-widgets/controls",
            "_view_module_version": "1.5.0",
            "_view_name": "HTMLView",
            "description": "",
            "description_tooltip": null,
            "layout": "IPY_MODEL_7b6005e6c3654c3cad04c452b8bdec27",
            "placeholder": "​",
            "style": "IPY_MODEL_e3a2fa5dd3874a00b09451752d56a699",
            "value": " 10199/? [00:03&lt;00:00, 1818.11ex/s]"
          }
        },
        "fb79408f1d724f5a8db4027f87e33675": {
          "model_module": "@jupyter-widgets/base",
          "model_name": "LayoutModel",
          "model_module_version": "1.2.0",
          "state": {
            "_model_module": "@jupyter-widgets/base",
            "_model_module_version": "1.2.0",
            "_model_name": "LayoutModel",
            "_view_count": null,
            "_view_module": "@jupyter-widgets/base",
            "_view_module_version": "1.2.0",
            "_view_name": "LayoutView",
            "align_content": null,
            "align_items": null,
            "align_self": null,
            "border": null,
            "bottom": null,
            "display": null,
            "flex": null,
            "flex_flow": null,
            "grid_area": null,
            "grid_auto_columns": null,
            "grid_auto_flow": null,
            "grid_auto_rows": null,
            "grid_column": null,
            "grid_gap": null,
            "grid_row": null,
            "grid_template_areas": null,
            "grid_template_columns": null,
            "grid_template_rows": null,
            "height": null,
            "justify_content": null,
            "justify_items": null,
            "left": null,
            "margin": null,
            "max_height": null,
            "max_width": null,
            "min_height": null,
            "min_width": null,
            "object_fit": null,
            "object_position": null,
            "order": null,
            "overflow": null,
            "overflow_x": null,
            "overflow_y": null,
            "padding": null,
            "right": null,
            "top": null,
            "visibility": null,
            "width": null
          }
        },
        "c054465718cf4cb6afeec20773f5ef2e": {
          "model_module": "@jupyter-widgets/base",
          "model_name": "LayoutModel",
          "model_module_version": "1.2.0",
          "state": {
            "_model_module": "@jupyter-widgets/base",
            "_model_module_version": "1.2.0",
            "_model_name": "LayoutModel",
            "_view_count": null,
            "_view_module": "@jupyter-widgets/base",
            "_view_module_version": "1.2.0",
            "_view_name": "LayoutView",
            "align_content": null,
            "align_items": null,
            "align_self": null,
            "border": null,
            "bottom": null,
            "display": null,
            "flex": null,
            "flex_flow": null,
            "grid_area": null,
            "grid_auto_columns": null,
            "grid_auto_flow": null,
            "grid_auto_rows": null,
            "grid_column": null,
            "grid_gap": null,
            "grid_row": null,
            "grid_template_areas": null,
            "grid_template_columns": null,
            "grid_template_rows": null,
            "height": null,
            "justify_content": null,
            "justify_items": null,
            "left": null,
            "margin": null,
            "max_height": null,
            "max_width": null,
            "min_height": null,
            "min_width": null,
            "object_fit": null,
            "object_position": null,
            "order": null,
            "overflow": null,
            "overflow_x": null,
            "overflow_y": null,
            "padding": null,
            "right": null,
            "top": null,
            "visibility": null,
            "width": null
          }
        },
        "981154b141de4bd4a9894c0f894c6db0": {
          "model_module": "@jupyter-widgets/controls",
          "model_name": "DescriptionStyleModel",
          "model_module_version": "1.5.0",
          "state": {
            "_model_module": "@jupyter-widgets/controls",
            "_model_module_version": "1.5.0",
            "_model_name": "DescriptionStyleModel",
            "_view_count": null,
            "_view_module": "@jupyter-widgets/base",
            "_view_module_version": "1.2.0",
            "_view_name": "StyleView",
            "description_width": ""
          }
        },
        "7997c73b9a944ab995bc6765eca69c02": {
          "model_module": "@jupyter-widgets/base",
          "model_name": "LayoutModel",
          "model_module_version": "1.2.0",
          "state": {
            "_model_module": "@jupyter-widgets/base",
            "_model_module_version": "1.2.0",
            "_model_name": "LayoutModel",
            "_view_count": null,
            "_view_module": "@jupyter-widgets/base",
            "_view_module_version": "1.2.0",
            "_view_name": "LayoutView",
            "align_content": null,
            "align_items": null,
            "align_self": null,
            "border": null,
            "bottom": null,
            "display": null,
            "flex": null,
            "flex_flow": null,
            "grid_area": null,
            "grid_auto_columns": null,
            "grid_auto_flow": null,
            "grid_auto_rows": null,
            "grid_column": null,
            "grid_gap": null,
            "grid_row": null,
            "grid_template_areas": null,
            "grid_template_columns": null,
            "grid_template_rows": null,
            "height": null,
            "justify_content": null,
            "justify_items": null,
            "left": null,
            "margin": null,
            "max_height": null,
            "max_width": null,
            "min_height": null,
            "min_width": null,
            "object_fit": null,
            "object_position": null,
            "order": null,
            "overflow": null,
            "overflow_x": null,
            "overflow_y": null,
            "padding": null,
            "right": null,
            "top": null,
            "visibility": null,
            "width": "20px"
          }
        },
        "82db58fa4a25469d902271e612af3504": {
          "model_module": "@jupyter-widgets/controls",
          "model_name": "ProgressStyleModel",
          "model_module_version": "1.5.0",
          "state": {
            "_model_module": "@jupyter-widgets/controls",
            "_model_module_version": "1.5.0",
            "_model_name": "ProgressStyleModel",
            "_view_count": null,
            "_view_module": "@jupyter-widgets/base",
            "_view_module_version": "1.2.0",
            "_view_name": "StyleView",
            "bar_color": null,
            "description_width": ""
          }
        },
        "7b6005e6c3654c3cad04c452b8bdec27": {
          "model_module": "@jupyter-widgets/base",
          "model_name": "LayoutModel",
          "model_module_version": "1.2.0",
          "state": {
            "_model_module": "@jupyter-widgets/base",
            "_model_module_version": "1.2.0",
            "_model_name": "LayoutModel",
            "_view_count": null,
            "_view_module": "@jupyter-widgets/base",
            "_view_module_version": "1.2.0",
            "_view_name": "LayoutView",
            "align_content": null,
            "align_items": null,
            "align_self": null,
            "border": null,
            "bottom": null,
            "display": null,
            "flex": null,
            "flex_flow": null,
            "grid_area": null,
            "grid_auto_columns": null,
            "grid_auto_flow": null,
            "grid_auto_rows": null,
            "grid_column": null,
            "grid_gap": null,
            "grid_row": null,
            "grid_template_areas": null,
            "grid_template_columns": null,
            "grid_template_rows": null,
            "height": null,
            "justify_content": null,
            "justify_items": null,
            "left": null,
            "margin": null,
            "max_height": null,
            "max_width": null,
            "min_height": null,
            "min_width": null,
            "object_fit": null,
            "object_position": null,
            "order": null,
            "overflow": null,
            "overflow_x": null,
            "overflow_y": null,
            "padding": null,
            "right": null,
            "top": null,
            "visibility": null,
            "width": null
          }
        },
        "e3a2fa5dd3874a00b09451752d56a699": {
          "model_module": "@jupyter-widgets/controls",
          "model_name": "DescriptionStyleModel",
          "model_module_version": "1.5.0",
          "state": {
            "_model_module": "@jupyter-widgets/controls",
            "_model_module_version": "1.5.0",
            "_model_name": "DescriptionStyleModel",
            "_view_count": null,
            "_view_module": "@jupyter-widgets/base",
            "_view_module_version": "1.2.0",
            "_view_name": "StyleView",
            "description_width": ""
          }
        },
        "b977f505c6ab4933bd0b8119522b3db8": {
          "model_module": "@jupyter-widgets/controls",
          "model_name": "HBoxModel",
          "model_module_version": "1.5.0",
          "state": {
            "_dom_classes": [],
            "_model_module": "@jupyter-widgets/controls",
            "_model_module_version": "1.5.0",
            "_model_name": "HBoxModel",
            "_view_count": null,
            "_view_module": "@jupyter-widgets/controls",
            "_view_module_version": "1.5.0",
            "_view_name": "HBoxView",
            "box_style": "",
            "children": [
              "IPY_MODEL_48b1160027d0426cacd874ac2b473ce3",
              "IPY_MODEL_3988d7f26a6e4342a515e34cdcd40eb6",
              "IPY_MODEL_e95f71e29a6b43579308226d9b8b3e6b"
            ],
            "layout": "IPY_MODEL_a0832e6d1dd0467995a5fd5f19493fc2"
          }
        },
        "48b1160027d0426cacd874ac2b473ce3": {
          "model_module": "@jupyter-widgets/controls",
          "model_name": "HTMLModel",
          "model_module_version": "1.5.0",
          "state": {
            "_dom_classes": [],
            "_model_module": "@jupyter-widgets/controls",
            "_model_module_version": "1.5.0",
            "_model_name": "HTMLModel",
            "_view_count": null,
            "_view_module": "@jupyter-widgets/controls",
            "_view_module_version": "1.5.0",
            "_view_name": "HTMLView",
            "description": "",
            "description_tooltip": null,
            "layout": "IPY_MODEL_afabd2d205b2476f9dc40ae662a418af",
            "placeholder": "​",
            "style": "IPY_MODEL_12e39ad448184106aae0dddc53340fa4",
            "value": ""
          }
        },
        "3988d7f26a6e4342a515e34cdcd40eb6": {
          "model_module": "@jupyter-widgets/controls",
          "model_name": "FloatProgressModel",
          "model_module_version": "1.5.0",
          "state": {
            "_dom_classes": [],
            "_model_module": "@jupyter-widgets/controls",
            "_model_module_version": "1.5.0",
            "_model_name": "FloatProgressModel",
            "_view_count": null,
            "_view_module": "@jupyter-widgets/controls",
            "_view_module_version": "1.5.0",
            "_view_name": "ProgressView",
            "bar_style": "success",
            "description": "",
            "description_tooltip": null,
            "layout": "IPY_MODEL_dc836591d94f4fec918ce62a8afa1bf3",
            "max": 1,
            "min": 0,
            "orientation": "horizontal",
            "style": "IPY_MODEL_1020a2c9824c4f64ab9e4634980c339e",
            "value": 1
          }
        },
        "e95f71e29a6b43579308226d9b8b3e6b": {
          "model_module": "@jupyter-widgets/controls",
          "model_name": "HTMLModel",
          "model_module_version": "1.5.0",
          "state": {
            "_dom_classes": [],
            "_model_module": "@jupyter-widgets/controls",
            "_model_module_version": "1.5.0",
            "_model_name": "HTMLModel",
            "_view_count": null,
            "_view_module": "@jupyter-widgets/controls",
            "_view_module_version": "1.5.0",
            "_view_name": "HTMLView",
            "description": "",
            "description_tooltip": null,
            "layout": "IPY_MODEL_83e91ec63a4c481fb8fc030c9c795ae0",
            "placeholder": "​",
            "style": "IPY_MODEL_310d5822825445b4994f8e9e2bd07001",
            "value": " 2606/? [00:01&lt;00:00, 2399.93ex/s]"
          }
        },
        "a0832e6d1dd0467995a5fd5f19493fc2": {
          "model_module": "@jupyter-widgets/base",
          "model_name": "LayoutModel",
          "model_module_version": "1.2.0",
          "state": {
            "_model_module": "@jupyter-widgets/base",
            "_model_module_version": "1.2.0",
            "_model_name": "LayoutModel",
            "_view_count": null,
            "_view_module": "@jupyter-widgets/base",
            "_view_module_version": "1.2.0",
            "_view_name": "LayoutView",
            "align_content": null,
            "align_items": null,
            "align_self": null,
            "border": null,
            "bottom": null,
            "display": null,
            "flex": null,
            "flex_flow": null,
            "grid_area": null,
            "grid_auto_columns": null,
            "grid_auto_flow": null,
            "grid_auto_rows": null,
            "grid_column": null,
            "grid_gap": null,
            "grid_row": null,
            "grid_template_areas": null,
            "grid_template_columns": null,
            "grid_template_rows": null,
            "height": null,
            "justify_content": null,
            "justify_items": null,
            "left": null,
            "margin": null,
            "max_height": null,
            "max_width": null,
            "min_height": null,
            "min_width": null,
            "object_fit": null,
            "object_position": null,
            "order": null,
            "overflow": null,
            "overflow_x": null,
            "overflow_y": null,
            "padding": null,
            "right": null,
            "top": null,
            "visibility": null,
            "width": null
          }
        },
        "afabd2d205b2476f9dc40ae662a418af": {
          "model_module": "@jupyter-widgets/base",
          "model_name": "LayoutModel",
          "model_module_version": "1.2.0",
          "state": {
            "_model_module": "@jupyter-widgets/base",
            "_model_module_version": "1.2.0",
            "_model_name": "LayoutModel",
            "_view_count": null,
            "_view_module": "@jupyter-widgets/base",
            "_view_module_version": "1.2.0",
            "_view_name": "LayoutView",
            "align_content": null,
            "align_items": null,
            "align_self": null,
            "border": null,
            "bottom": null,
            "display": null,
            "flex": null,
            "flex_flow": null,
            "grid_area": null,
            "grid_auto_columns": null,
            "grid_auto_flow": null,
            "grid_auto_rows": null,
            "grid_column": null,
            "grid_gap": null,
            "grid_row": null,
            "grid_template_areas": null,
            "grid_template_columns": null,
            "grid_template_rows": null,
            "height": null,
            "justify_content": null,
            "justify_items": null,
            "left": null,
            "margin": null,
            "max_height": null,
            "max_width": null,
            "min_height": null,
            "min_width": null,
            "object_fit": null,
            "object_position": null,
            "order": null,
            "overflow": null,
            "overflow_x": null,
            "overflow_y": null,
            "padding": null,
            "right": null,
            "top": null,
            "visibility": null,
            "width": null
          }
        },
        "12e39ad448184106aae0dddc53340fa4": {
          "model_module": "@jupyter-widgets/controls",
          "model_name": "DescriptionStyleModel",
          "model_module_version": "1.5.0",
          "state": {
            "_model_module": "@jupyter-widgets/controls",
            "_model_module_version": "1.5.0",
            "_model_name": "DescriptionStyleModel",
            "_view_count": null,
            "_view_module": "@jupyter-widgets/base",
            "_view_module_version": "1.2.0",
            "_view_name": "StyleView",
            "description_width": ""
          }
        },
        "dc836591d94f4fec918ce62a8afa1bf3": {
          "model_module": "@jupyter-widgets/base",
          "model_name": "LayoutModel",
          "model_module_version": "1.2.0",
          "state": {
            "_model_module": "@jupyter-widgets/base",
            "_model_module_version": "1.2.0",
            "_model_name": "LayoutModel",
            "_view_count": null,
            "_view_module": "@jupyter-widgets/base",
            "_view_module_version": "1.2.0",
            "_view_name": "LayoutView",
            "align_content": null,
            "align_items": null,
            "align_self": null,
            "border": null,
            "bottom": null,
            "display": null,
            "flex": null,
            "flex_flow": null,
            "grid_area": null,
            "grid_auto_columns": null,
            "grid_auto_flow": null,
            "grid_auto_rows": null,
            "grid_column": null,
            "grid_gap": null,
            "grid_row": null,
            "grid_template_areas": null,
            "grid_template_columns": null,
            "grid_template_rows": null,
            "height": null,
            "justify_content": null,
            "justify_items": null,
            "left": null,
            "margin": null,
            "max_height": null,
            "max_width": null,
            "min_height": null,
            "min_width": null,
            "object_fit": null,
            "object_position": null,
            "order": null,
            "overflow": null,
            "overflow_x": null,
            "overflow_y": null,
            "padding": null,
            "right": null,
            "top": null,
            "visibility": null,
            "width": "20px"
          }
        },
        "1020a2c9824c4f64ab9e4634980c339e": {
          "model_module": "@jupyter-widgets/controls",
          "model_name": "ProgressStyleModel",
          "model_module_version": "1.5.0",
          "state": {
            "_model_module": "@jupyter-widgets/controls",
            "_model_module_version": "1.5.0",
            "_model_name": "ProgressStyleModel",
            "_view_count": null,
            "_view_module": "@jupyter-widgets/base",
            "_view_module_version": "1.2.0",
            "_view_name": "StyleView",
            "bar_color": null,
            "description_width": ""
          }
        },
        "83e91ec63a4c481fb8fc030c9c795ae0": {
          "model_module": "@jupyter-widgets/base",
          "model_name": "LayoutModel",
          "model_module_version": "1.2.0",
          "state": {
            "_model_module": "@jupyter-widgets/base",
            "_model_module_version": "1.2.0",
            "_model_name": "LayoutModel",
            "_view_count": null,
            "_view_module": "@jupyter-widgets/base",
            "_view_module_version": "1.2.0",
            "_view_name": "LayoutView",
            "align_content": null,
            "align_items": null,
            "align_self": null,
            "border": null,
            "bottom": null,
            "display": null,
            "flex": null,
            "flex_flow": null,
            "grid_area": null,
            "grid_auto_columns": null,
            "grid_auto_flow": null,
            "grid_auto_rows": null,
            "grid_column": null,
            "grid_gap": null,
            "grid_row": null,
            "grid_template_areas": null,
            "grid_template_columns": null,
            "grid_template_rows": null,
            "height": null,
            "justify_content": null,
            "justify_items": null,
            "left": null,
            "margin": null,
            "max_height": null,
            "max_width": null,
            "min_height": null,
            "min_width": null,
            "object_fit": null,
            "object_position": null,
            "order": null,
            "overflow": null,
            "overflow_x": null,
            "overflow_y": null,
            "padding": null,
            "right": null,
            "top": null,
            "visibility": null,
            "width": null
          }
        },
        "310d5822825445b4994f8e9e2bd07001": {
          "model_module": "@jupyter-widgets/controls",
          "model_name": "DescriptionStyleModel",
          "model_module_version": "1.5.0",
          "state": {
            "_model_module": "@jupyter-widgets/controls",
            "_model_module_version": "1.5.0",
            "_model_name": "DescriptionStyleModel",
            "_view_count": null,
            "_view_module": "@jupyter-widgets/base",
            "_view_module_version": "1.2.0",
            "_view_name": "StyleView",
            "description_width": ""
          }
        },
        "4ddd4b9ace534a67ba35a177a52645b5": {
          "model_module": "@jupyter-widgets/controls",
          "model_name": "HBoxModel",
          "model_module_version": "1.5.0",
          "state": {
            "_dom_classes": [],
            "_model_module": "@jupyter-widgets/controls",
            "_model_module_version": "1.5.0",
            "_model_name": "HBoxModel",
            "_view_count": null,
            "_view_module": "@jupyter-widgets/controls",
            "_view_module_version": "1.5.0",
            "_view_name": "HBoxView",
            "box_style": "",
            "children": [
              "IPY_MODEL_3b975c458b4c44779c0c884c19802393",
              "IPY_MODEL_7709a4749569406ba16d9e95afff76de",
              "IPY_MODEL_d41af031751145ef926471be005144b9"
            ],
            "layout": "IPY_MODEL_630d93b541284a618e85c02a964aae2f"
          }
        },
        "3b975c458b4c44779c0c884c19802393": {
          "model_module": "@jupyter-widgets/controls",
          "model_name": "HTMLModel",
          "model_module_version": "1.5.0",
          "state": {
            "_dom_classes": [],
            "_model_module": "@jupyter-widgets/controls",
            "_model_module_version": "1.5.0",
            "_model_name": "HTMLModel",
            "_view_count": null,
            "_view_module": "@jupyter-widgets/controls",
            "_view_module_version": "1.5.0",
            "_view_name": "HTMLView",
            "description": "",
            "description_tooltip": null,
            "layout": "IPY_MODEL_3caad37a646449a198cdb653a402cf5f",
            "placeholder": "​",
            "style": "IPY_MODEL_f20ac9a73dd2412cacf211552a8c10f5",
            "value": ""
          }
        },
        "7709a4749569406ba16d9e95afff76de": {
          "model_module": "@jupyter-widgets/controls",
          "model_name": "FloatProgressModel",
          "model_module_version": "1.5.0",
          "state": {
            "_dom_classes": [],
            "_model_module": "@jupyter-widgets/controls",
            "_model_module_version": "1.5.0",
            "_model_name": "FloatProgressModel",
            "_view_count": null,
            "_view_module": "@jupyter-widgets/controls",
            "_view_module_version": "1.5.0",
            "_view_name": "ProgressView",
            "bar_style": "success",
            "description": "",
            "description_tooltip": null,
            "layout": "IPY_MODEL_dd0cff8b754f4d41bf3b23855ac28949",
            "max": 1,
            "min": 0,
            "orientation": "horizontal",
            "style": "IPY_MODEL_a9170f4ea7d64991acba5f32d161c9ef",
            "value": 1
          }
        },
        "d41af031751145ef926471be005144b9": {
          "model_module": "@jupyter-widgets/controls",
          "model_name": "HTMLModel",
          "model_module_version": "1.5.0",
          "state": {
            "_dom_classes": [],
            "_model_module": "@jupyter-widgets/controls",
            "_model_module_version": "1.5.0",
            "_model_name": "HTMLModel",
            "_view_count": null,
            "_view_module": "@jupyter-widgets/controls",
            "_view_module_version": "1.5.0",
            "_view_name": "HTMLView",
            "description": "",
            "description_tooltip": null,
            "layout": "IPY_MODEL_6aa15982b90b4e73b9fe09013b1b6232",
            "placeholder": "​",
            "style": "IPY_MODEL_b257e0e73aa246e2946098d9e8cf605d",
            "value": " 3478/? [00:00&lt;00:00, 4155.41ex/s]"
          }
        },
        "630d93b541284a618e85c02a964aae2f": {
          "model_module": "@jupyter-widgets/base",
          "model_name": "LayoutModel",
          "model_module_version": "1.2.0",
          "state": {
            "_model_module": "@jupyter-widgets/base",
            "_model_module_version": "1.2.0",
            "_model_name": "LayoutModel",
            "_view_count": null,
            "_view_module": "@jupyter-widgets/base",
            "_view_module_version": "1.2.0",
            "_view_name": "LayoutView",
            "align_content": null,
            "align_items": null,
            "align_self": null,
            "border": null,
            "bottom": null,
            "display": null,
            "flex": null,
            "flex_flow": null,
            "grid_area": null,
            "grid_auto_columns": null,
            "grid_auto_flow": null,
            "grid_auto_rows": null,
            "grid_column": null,
            "grid_gap": null,
            "grid_row": null,
            "grid_template_areas": null,
            "grid_template_columns": null,
            "grid_template_rows": null,
            "height": null,
            "justify_content": null,
            "justify_items": null,
            "left": null,
            "margin": null,
            "max_height": null,
            "max_width": null,
            "min_height": null,
            "min_width": null,
            "object_fit": null,
            "object_position": null,
            "order": null,
            "overflow": null,
            "overflow_x": null,
            "overflow_y": null,
            "padding": null,
            "right": null,
            "top": null,
            "visibility": null,
            "width": null
          }
        },
        "3caad37a646449a198cdb653a402cf5f": {
          "model_module": "@jupyter-widgets/base",
          "model_name": "LayoutModel",
          "model_module_version": "1.2.0",
          "state": {
            "_model_module": "@jupyter-widgets/base",
            "_model_module_version": "1.2.0",
            "_model_name": "LayoutModel",
            "_view_count": null,
            "_view_module": "@jupyter-widgets/base",
            "_view_module_version": "1.2.0",
            "_view_name": "LayoutView",
            "align_content": null,
            "align_items": null,
            "align_self": null,
            "border": null,
            "bottom": null,
            "display": null,
            "flex": null,
            "flex_flow": null,
            "grid_area": null,
            "grid_auto_columns": null,
            "grid_auto_flow": null,
            "grid_auto_rows": null,
            "grid_column": null,
            "grid_gap": null,
            "grid_row": null,
            "grid_template_areas": null,
            "grid_template_columns": null,
            "grid_template_rows": null,
            "height": null,
            "justify_content": null,
            "justify_items": null,
            "left": null,
            "margin": null,
            "max_height": null,
            "max_width": null,
            "min_height": null,
            "min_width": null,
            "object_fit": null,
            "object_position": null,
            "order": null,
            "overflow": null,
            "overflow_x": null,
            "overflow_y": null,
            "padding": null,
            "right": null,
            "top": null,
            "visibility": null,
            "width": null
          }
        },
        "f20ac9a73dd2412cacf211552a8c10f5": {
          "model_module": "@jupyter-widgets/controls",
          "model_name": "DescriptionStyleModel",
          "model_module_version": "1.5.0",
          "state": {
            "_model_module": "@jupyter-widgets/controls",
            "_model_module_version": "1.5.0",
            "_model_name": "DescriptionStyleModel",
            "_view_count": null,
            "_view_module": "@jupyter-widgets/base",
            "_view_module_version": "1.2.0",
            "_view_name": "StyleView",
            "description_width": ""
          }
        },
        "dd0cff8b754f4d41bf3b23855ac28949": {
          "model_module": "@jupyter-widgets/base",
          "model_name": "LayoutModel",
          "model_module_version": "1.2.0",
          "state": {
            "_model_module": "@jupyter-widgets/base",
            "_model_module_version": "1.2.0",
            "_model_name": "LayoutModel",
            "_view_count": null,
            "_view_module": "@jupyter-widgets/base",
            "_view_module_version": "1.2.0",
            "_view_name": "LayoutView",
            "align_content": null,
            "align_items": null,
            "align_self": null,
            "border": null,
            "bottom": null,
            "display": null,
            "flex": null,
            "flex_flow": null,
            "grid_area": null,
            "grid_auto_columns": null,
            "grid_auto_flow": null,
            "grid_auto_rows": null,
            "grid_column": null,
            "grid_gap": null,
            "grid_row": null,
            "grid_template_areas": null,
            "grid_template_columns": null,
            "grid_template_rows": null,
            "height": null,
            "justify_content": null,
            "justify_items": null,
            "left": null,
            "margin": null,
            "max_height": null,
            "max_width": null,
            "min_height": null,
            "min_width": null,
            "object_fit": null,
            "object_position": null,
            "order": null,
            "overflow": null,
            "overflow_x": null,
            "overflow_y": null,
            "padding": null,
            "right": null,
            "top": null,
            "visibility": null,
            "width": "20px"
          }
        },
        "a9170f4ea7d64991acba5f32d161c9ef": {
          "model_module": "@jupyter-widgets/controls",
          "model_name": "ProgressStyleModel",
          "model_module_version": "1.5.0",
          "state": {
            "_model_module": "@jupyter-widgets/controls",
            "_model_module_version": "1.5.0",
            "_model_name": "ProgressStyleModel",
            "_view_count": null,
            "_view_module": "@jupyter-widgets/base",
            "_view_module_version": "1.2.0",
            "_view_name": "StyleView",
            "bar_color": null,
            "description_width": ""
          }
        },
        "6aa15982b90b4e73b9fe09013b1b6232": {
          "model_module": "@jupyter-widgets/base",
          "model_name": "LayoutModel",
          "model_module_version": "1.2.0",
          "state": {
            "_model_module": "@jupyter-widgets/base",
            "_model_module_version": "1.2.0",
            "_model_name": "LayoutModel",
            "_view_count": null,
            "_view_module": "@jupyter-widgets/base",
            "_view_module_version": "1.2.0",
            "_view_name": "LayoutView",
            "align_content": null,
            "align_items": null,
            "align_self": null,
            "border": null,
            "bottom": null,
            "display": null,
            "flex": null,
            "flex_flow": null,
            "grid_area": null,
            "grid_auto_columns": null,
            "grid_auto_flow": null,
            "grid_auto_rows": null,
            "grid_column": null,
            "grid_gap": null,
            "grid_row": null,
            "grid_template_areas": null,
            "grid_template_columns": null,
            "grid_template_rows": null,
            "height": null,
            "justify_content": null,
            "justify_items": null,
            "left": null,
            "margin": null,
            "max_height": null,
            "max_width": null,
            "min_height": null,
            "min_width": null,
            "object_fit": null,
            "object_position": null,
            "order": null,
            "overflow": null,
            "overflow_x": null,
            "overflow_y": null,
            "padding": null,
            "right": null,
            "top": null,
            "visibility": null,
            "width": null
          }
        },
        "b257e0e73aa246e2946098d9e8cf605d": {
          "model_module": "@jupyter-widgets/controls",
          "model_name": "DescriptionStyleModel",
          "model_module_version": "1.5.0",
          "state": {
            "_model_module": "@jupyter-widgets/controls",
            "_model_module_version": "1.5.0",
            "_model_name": "DescriptionStyleModel",
            "_view_count": null,
            "_view_module": "@jupyter-widgets/base",
            "_view_module_version": "1.2.0",
            "_view_name": "StyleView",
            "description_width": ""
          }
        },
        "9abf8c976e294815844db443d92ebba0": {
          "model_module": "@jupyter-widgets/controls",
          "model_name": "HBoxModel",
          "model_module_version": "1.5.0",
          "state": {
            "_dom_classes": [],
            "_model_module": "@jupyter-widgets/controls",
            "_model_module_version": "1.5.0",
            "_model_name": "HBoxModel",
            "_view_count": null,
            "_view_module": "@jupyter-widgets/controls",
            "_view_module_version": "1.5.0",
            "_view_name": "HBoxView",
            "box_style": "",
            "children": [
              "IPY_MODEL_198c7432ff0a434a9a0d8f5a28356430",
              "IPY_MODEL_d141f999cd9442878c553d76328c467b",
              "IPY_MODEL_ff665f54394948b2a3bfe9b36e3457df"
            ],
            "layout": "IPY_MODEL_ed3b4c8d32b7475498eb64d000fa7bfc"
          }
        },
        "198c7432ff0a434a9a0d8f5a28356430": {
          "model_module": "@jupyter-widgets/controls",
          "model_name": "HTMLModel",
          "model_module_version": "1.5.0",
          "state": {
            "_dom_classes": [],
            "_model_module": "@jupyter-widgets/controls",
            "_model_module_version": "1.5.0",
            "_model_name": "HTMLModel",
            "_view_count": null,
            "_view_module": "@jupyter-widgets/controls",
            "_view_module_version": "1.5.0",
            "_view_name": "HTMLView",
            "description": "",
            "description_tooltip": null,
            "layout": "IPY_MODEL_275c64f1ef124da6bf9cb9a6b0e149dc",
            "placeholder": "​",
            "style": "IPY_MODEL_38a9f50f330d4b789a68ccaf106424a5",
            "value": ""
          }
        },
        "d141f999cd9442878c553d76328c467b": {
          "model_module": "@jupyter-widgets/controls",
          "model_name": "FloatProgressModel",
          "model_module_version": "1.5.0",
          "state": {
            "_dom_classes": [],
            "_model_module": "@jupyter-widgets/controls",
            "_model_module_version": "1.5.0",
            "_model_name": "FloatProgressModel",
            "_view_count": null,
            "_view_module": "@jupyter-widgets/controls",
            "_view_module_version": "1.5.0",
            "_view_name": "ProgressView",
            "bar_style": "success",
            "description": "",
            "description_tooltip": null,
            "layout": "IPY_MODEL_cdf9a7427e9f4fecba48e65e98da0764",
            "max": 1,
            "min": 0,
            "orientation": "horizontal",
            "style": "IPY_MODEL_1b839d4bc9fb43ccb8373f98a416e075",
            "value": 1
          }
        },
        "ff665f54394948b2a3bfe9b36e3457df": {
          "model_module": "@jupyter-widgets/controls",
          "model_name": "HTMLModel",
          "model_module_version": "1.5.0",
          "state": {
            "_dom_classes": [],
            "_model_module": "@jupyter-widgets/controls",
            "_model_module_version": "1.5.0",
            "_model_name": "HTMLModel",
            "_view_count": null,
            "_view_module": "@jupyter-widgets/controls",
            "_view_module_version": "1.5.0",
            "_view_name": "HTMLView",
            "description": "",
            "description_tooltip": null,
            "layout": "IPY_MODEL_0f9360c0bfd04325bacc68ca44ef9441",
            "placeholder": "​",
            "style": "IPY_MODEL_c5bcc6d619db41418bb00a8d110fb9f0",
            "value": " 1647/? [00:00&lt;00:00, 4068.67ex/s]"
          }
        },
        "ed3b4c8d32b7475498eb64d000fa7bfc": {
          "model_module": "@jupyter-widgets/base",
          "model_name": "LayoutModel",
          "model_module_version": "1.2.0",
          "state": {
            "_model_module": "@jupyter-widgets/base",
            "_model_module_version": "1.2.0",
            "_model_name": "LayoutModel",
            "_view_count": null,
            "_view_module": "@jupyter-widgets/base",
            "_view_module_version": "1.2.0",
            "_view_name": "LayoutView",
            "align_content": null,
            "align_items": null,
            "align_self": null,
            "border": null,
            "bottom": null,
            "display": null,
            "flex": null,
            "flex_flow": null,
            "grid_area": null,
            "grid_auto_columns": null,
            "grid_auto_flow": null,
            "grid_auto_rows": null,
            "grid_column": null,
            "grid_gap": null,
            "grid_row": null,
            "grid_template_areas": null,
            "grid_template_columns": null,
            "grid_template_rows": null,
            "height": null,
            "justify_content": null,
            "justify_items": null,
            "left": null,
            "margin": null,
            "max_height": null,
            "max_width": null,
            "min_height": null,
            "min_width": null,
            "object_fit": null,
            "object_position": null,
            "order": null,
            "overflow": null,
            "overflow_x": null,
            "overflow_y": null,
            "padding": null,
            "right": null,
            "top": null,
            "visibility": null,
            "width": null
          }
        },
        "275c64f1ef124da6bf9cb9a6b0e149dc": {
          "model_module": "@jupyter-widgets/base",
          "model_name": "LayoutModel",
          "model_module_version": "1.2.0",
          "state": {
            "_model_module": "@jupyter-widgets/base",
            "_model_module_version": "1.2.0",
            "_model_name": "LayoutModel",
            "_view_count": null,
            "_view_module": "@jupyter-widgets/base",
            "_view_module_version": "1.2.0",
            "_view_name": "LayoutView",
            "align_content": null,
            "align_items": null,
            "align_self": null,
            "border": null,
            "bottom": null,
            "display": null,
            "flex": null,
            "flex_flow": null,
            "grid_area": null,
            "grid_auto_columns": null,
            "grid_auto_flow": null,
            "grid_auto_rows": null,
            "grid_column": null,
            "grid_gap": null,
            "grid_row": null,
            "grid_template_areas": null,
            "grid_template_columns": null,
            "grid_template_rows": null,
            "height": null,
            "justify_content": null,
            "justify_items": null,
            "left": null,
            "margin": null,
            "max_height": null,
            "max_width": null,
            "min_height": null,
            "min_width": null,
            "object_fit": null,
            "object_position": null,
            "order": null,
            "overflow": null,
            "overflow_x": null,
            "overflow_y": null,
            "padding": null,
            "right": null,
            "top": null,
            "visibility": null,
            "width": null
          }
        },
        "38a9f50f330d4b789a68ccaf106424a5": {
          "model_module": "@jupyter-widgets/controls",
          "model_name": "DescriptionStyleModel",
          "model_module_version": "1.5.0",
          "state": {
            "_model_module": "@jupyter-widgets/controls",
            "_model_module_version": "1.5.0",
            "_model_name": "DescriptionStyleModel",
            "_view_count": null,
            "_view_module": "@jupyter-widgets/base",
            "_view_module_version": "1.2.0",
            "_view_name": "StyleView",
            "description_width": ""
          }
        },
        "cdf9a7427e9f4fecba48e65e98da0764": {
          "model_module": "@jupyter-widgets/base",
          "model_name": "LayoutModel",
          "model_module_version": "1.2.0",
          "state": {
            "_model_module": "@jupyter-widgets/base",
            "_model_module_version": "1.2.0",
            "_model_name": "LayoutModel",
            "_view_count": null,
            "_view_module": "@jupyter-widgets/base",
            "_view_module_version": "1.2.0",
            "_view_name": "LayoutView",
            "align_content": null,
            "align_items": null,
            "align_self": null,
            "border": null,
            "bottom": null,
            "display": null,
            "flex": null,
            "flex_flow": null,
            "grid_area": null,
            "grid_auto_columns": null,
            "grid_auto_flow": null,
            "grid_auto_rows": null,
            "grid_column": null,
            "grid_gap": null,
            "grid_row": null,
            "grid_template_areas": null,
            "grid_template_columns": null,
            "grid_template_rows": null,
            "height": null,
            "justify_content": null,
            "justify_items": null,
            "left": null,
            "margin": null,
            "max_height": null,
            "max_width": null,
            "min_height": null,
            "min_width": null,
            "object_fit": null,
            "object_position": null,
            "order": null,
            "overflow": null,
            "overflow_x": null,
            "overflow_y": null,
            "padding": null,
            "right": null,
            "top": null,
            "visibility": null,
            "width": "20px"
          }
        },
        "1b839d4bc9fb43ccb8373f98a416e075": {
          "model_module": "@jupyter-widgets/controls",
          "model_name": "ProgressStyleModel",
          "model_module_version": "1.5.0",
          "state": {
            "_model_module": "@jupyter-widgets/controls",
            "_model_module_version": "1.5.0",
            "_model_name": "ProgressStyleModel",
            "_view_count": null,
            "_view_module": "@jupyter-widgets/base",
            "_view_module_version": "1.2.0",
            "_view_name": "StyleView",
            "bar_color": null,
            "description_width": ""
          }
        },
        "0f9360c0bfd04325bacc68ca44ef9441": {
          "model_module": "@jupyter-widgets/base",
          "model_name": "LayoutModel",
          "model_module_version": "1.2.0",
          "state": {
            "_model_module": "@jupyter-widgets/base",
            "_model_module_version": "1.2.0",
            "_model_name": "LayoutModel",
            "_view_count": null,
            "_view_module": "@jupyter-widgets/base",
            "_view_module_version": "1.2.0",
            "_view_name": "LayoutView",
            "align_content": null,
            "align_items": null,
            "align_self": null,
            "border": null,
            "bottom": null,
            "display": null,
            "flex": null,
            "flex_flow": null,
            "grid_area": null,
            "grid_auto_columns": null,
            "grid_auto_flow": null,
            "grid_auto_rows": null,
            "grid_column": null,
            "grid_gap": null,
            "grid_row": null,
            "grid_template_areas": null,
            "grid_template_columns": null,
            "grid_template_rows": null,
            "height": null,
            "justify_content": null,
            "justify_items": null,
            "left": null,
            "margin": null,
            "max_height": null,
            "max_width": null,
            "min_height": null,
            "min_width": null,
            "object_fit": null,
            "object_position": null,
            "order": null,
            "overflow": null,
            "overflow_x": null,
            "overflow_y": null,
            "padding": null,
            "right": null,
            "top": null,
            "visibility": null,
            "width": null
          }
        },
        "c5bcc6d619db41418bb00a8d110fb9f0": {
          "model_module": "@jupyter-widgets/controls",
          "model_name": "DescriptionStyleModel",
          "model_module_version": "1.5.0",
          "state": {
            "_model_module": "@jupyter-widgets/controls",
            "_model_module_version": "1.5.0",
            "_model_name": "DescriptionStyleModel",
            "_view_count": null,
            "_view_module": "@jupyter-widgets/base",
            "_view_module_version": "1.2.0",
            "_view_name": "StyleView",
            "description_width": ""
          }
        },
        "88ab641ef2984f75ae5d41fe5dbfcc47": {
          "model_module": "@jupyter-widgets/controls",
          "model_name": "HBoxModel",
          "model_module_version": "1.5.0",
          "state": {
            "_dom_classes": [],
            "_model_module": "@jupyter-widgets/controls",
            "_model_module_version": "1.5.0",
            "_model_name": "HBoxModel",
            "_view_count": null,
            "_view_module": "@jupyter-widgets/controls",
            "_view_module_version": "1.5.0",
            "_view_name": "HBoxView",
            "box_style": "",
            "children": [
              "IPY_MODEL_68c3e2eb323d400aa00012420c4e467e",
              "IPY_MODEL_b7dc1a0d60874e2cb1f6b29fa000e025",
              "IPY_MODEL_0b8cdeb1ed9b46518921cf741248723a"
            ],
            "layout": "IPY_MODEL_07b6803a59db4ca7a0e0c4ccb1ed40b7"
          }
        },
        "68c3e2eb323d400aa00012420c4e467e": {
          "model_module": "@jupyter-widgets/controls",
          "model_name": "HTMLModel",
          "model_module_version": "1.5.0",
          "state": {
            "_dom_classes": [],
            "_model_module": "@jupyter-widgets/controls",
            "_model_module_version": "1.5.0",
            "_model_name": "HTMLModel",
            "_view_count": null,
            "_view_module": "@jupyter-widgets/controls",
            "_view_module_version": "1.5.0",
            "_view_name": "HTMLView",
            "description": "",
            "description_tooltip": null,
            "layout": "IPY_MODEL_c7fbbd996a1e4f418f89037b4fd37338",
            "placeholder": "​",
            "style": "IPY_MODEL_ddc3462e1984451d815189a05c73db67",
            "value": "100%"
          }
        },
        "b7dc1a0d60874e2cb1f6b29fa000e025": {
          "model_module": "@jupyter-widgets/controls",
          "model_name": "FloatProgressModel",
          "model_module_version": "1.5.0",
          "state": {
            "_dom_classes": [],
            "_model_module": "@jupyter-widgets/controls",
            "_model_module_version": "1.5.0",
            "_model_name": "FloatProgressModel",
            "_view_count": null,
            "_view_module": "@jupyter-widgets/controls",
            "_view_module_version": "1.5.0",
            "_view_name": "ProgressView",
            "bar_style": "success",
            "description": "",
            "description_tooltip": null,
            "layout": "IPY_MODEL_10523bce23634f2cba2083ea7c4eb031",
            "max": 1,
            "min": 0,
            "orientation": "horizontal",
            "style": "IPY_MODEL_9bd6b6b77e9e4550918a5774ff007022",
            "value": 1
          }
        },
        "0b8cdeb1ed9b46518921cf741248723a": {
          "model_module": "@jupyter-widgets/controls",
          "model_name": "HTMLModel",
          "model_module_version": "1.5.0",
          "state": {
            "_dom_classes": [],
            "_model_module": "@jupyter-widgets/controls",
            "_model_module_version": "1.5.0",
            "_model_name": "HTMLModel",
            "_view_count": null,
            "_view_module": "@jupyter-widgets/controls",
            "_view_module_version": "1.5.0",
            "_view_name": "HTMLView",
            "description": "",
            "description_tooltip": null,
            "layout": "IPY_MODEL_aa1c2d29b6cc4df5a969e77f9e5a353a",
            "placeholder": "​",
            "style": "IPY_MODEL_82b245f8e261419ba374c98ce4e1eed2",
            "value": " 1/1 [00:00&lt;00:00,  2.32ba/s]"
          }
        },
        "07b6803a59db4ca7a0e0c4ccb1ed40b7": {
          "model_module": "@jupyter-widgets/base",
          "model_name": "LayoutModel",
          "model_module_version": "1.2.0",
          "state": {
            "_model_module": "@jupyter-widgets/base",
            "_model_module_version": "1.2.0",
            "_model_name": "LayoutModel",
            "_view_count": null,
            "_view_module": "@jupyter-widgets/base",
            "_view_module_version": "1.2.0",
            "_view_name": "LayoutView",
            "align_content": null,
            "align_items": null,
            "align_self": null,
            "border": null,
            "bottom": null,
            "display": null,
            "flex": null,
            "flex_flow": null,
            "grid_area": null,
            "grid_auto_columns": null,
            "grid_auto_flow": null,
            "grid_auto_rows": null,
            "grid_column": null,
            "grid_gap": null,
            "grid_row": null,
            "grid_template_areas": null,
            "grid_template_columns": null,
            "grid_template_rows": null,
            "height": null,
            "justify_content": null,
            "justify_items": null,
            "left": null,
            "margin": null,
            "max_height": null,
            "max_width": null,
            "min_height": null,
            "min_width": null,
            "object_fit": null,
            "object_position": null,
            "order": null,
            "overflow": null,
            "overflow_x": null,
            "overflow_y": null,
            "padding": null,
            "right": null,
            "top": null,
            "visibility": null,
            "width": null
          }
        },
        "c7fbbd996a1e4f418f89037b4fd37338": {
          "model_module": "@jupyter-widgets/base",
          "model_name": "LayoutModel",
          "model_module_version": "1.2.0",
          "state": {
            "_model_module": "@jupyter-widgets/base",
            "_model_module_version": "1.2.0",
            "_model_name": "LayoutModel",
            "_view_count": null,
            "_view_module": "@jupyter-widgets/base",
            "_view_module_version": "1.2.0",
            "_view_name": "LayoutView",
            "align_content": null,
            "align_items": null,
            "align_self": null,
            "border": null,
            "bottom": null,
            "display": null,
            "flex": null,
            "flex_flow": null,
            "grid_area": null,
            "grid_auto_columns": null,
            "grid_auto_flow": null,
            "grid_auto_rows": null,
            "grid_column": null,
            "grid_gap": null,
            "grid_row": null,
            "grid_template_areas": null,
            "grid_template_columns": null,
            "grid_template_rows": null,
            "height": null,
            "justify_content": null,
            "justify_items": null,
            "left": null,
            "margin": null,
            "max_height": null,
            "max_width": null,
            "min_height": null,
            "min_width": null,
            "object_fit": null,
            "object_position": null,
            "order": null,
            "overflow": null,
            "overflow_x": null,
            "overflow_y": null,
            "padding": null,
            "right": null,
            "top": null,
            "visibility": null,
            "width": null
          }
        },
        "ddc3462e1984451d815189a05c73db67": {
          "model_module": "@jupyter-widgets/controls",
          "model_name": "DescriptionStyleModel",
          "model_module_version": "1.5.0",
          "state": {
            "_model_module": "@jupyter-widgets/controls",
            "_model_module_version": "1.5.0",
            "_model_name": "DescriptionStyleModel",
            "_view_count": null,
            "_view_module": "@jupyter-widgets/base",
            "_view_module_version": "1.2.0",
            "_view_name": "StyleView",
            "description_width": ""
          }
        },
        "10523bce23634f2cba2083ea7c4eb031": {
          "model_module": "@jupyter-widgets/base",
          "model_name": "LayoutModel",
          "model_module_version": "1.2.0",
          "state": {
            "_model_module": "@jupyter-widgets/base",
            "_model_module_version": "1.2.0",
            "_model_name": "LayoutModel",
            "_view_count": null,
            "_view_module": "@jupyter-widgets/base",
            "_view_module_version": "1.2.0",
            "_view_name": "LayoutView",
            "align_content": null,
            "align_items": null,
            "align_self": null,
            "border": null,
            "bottom": null,
            "display": null,
            "flex": null,
            "flex_flow": null,
            "grid_area": null,
            "grid_auto_columns": null,
            "grid_auto_flow": null,
            "grid_auto_rows": null,
            "grid_column": null,
            "grid_gap": null,
            "grid_row": null,
            "grid_template_areas": null,
            "grid_template_columns": null,
            "grid_template_rows": null,
            "height": null,
            "justify_content": null,
            "justify_items": null,
            "left": null,
            "margin": null,
            "max_height": null,
            "max_width": null,
            "min_height": null,
            "min_width": null,
            "object_fit": null,
            "object_position": null,
            "order": null,
            "overflow": null,
            "overflow_x": null,
            "overflow_y": null,
            "padding": null,
            "right": null,
            "top": null,
            "visibility": null,
            "width": null
          }
        },
        "9bd6b6b77e9e4550918a5774ff007022": {
          "model_module": "@jupyter-widgets/controls",
          "model_name": "ProgressStyleModel",
          "model_module_version": "1.5.0",
          "state": {
            "_model_module": "@jupyter-widgets/controls",
            "_model_module_version": "1.5.0",
            "_model_name": "ProgressStyleModel",
            "_view_count": null,
            "_view_module": "@jupyter-widgets/base",
            "_view_module_version": "1.2.0",
            "_view_name": "StyleView",
            "bar_color": null,
            "description_width": ""
          }
        },
        "aa1c2d29b6cc4df5a969e77f9e5a353a": {
          "model_module": "@jupyter-widgets/base",
          "model_name": "LayoutModel",
          "model_module_version": "1.2.0",
          "state": {
            "_model_module": "@jupyter-widgets/base",
            "_model_module_version": "1.2.0",
            "_model_name": "LayoutModel",
            "_view_count": null,
            "_view_module": "@jupyter-widgets/base",
            "_view_module_version": "1.2.0",
            "_view_name": "LayoutView",
            "align_content": null,
            "align_items": null,
            "align_self": null,
            "border": null,
            "bottom": null,
            "display": null,
            "flex": null,
            "flex_flow": null,
            "grid_area": null,
            "grid_auto_columns": null,
            "grid_auto_flow": null,
            "grid_auto_rows": null,
            "grid_column": null,
            "grid_gap": null,
            "grid_row": null,
            "grid_template_areas": null,
            "grid_template_columns": null,
            "grid_template_rows": null,
            "height": null,
            "justify_content": null,
            "justify_items": null,
            "left": null,
            "margin": null,
            "max_height": null,
            "max_width": null,
            "min_height": null,
            "min_width": null,
            "object_fit": null,
            "object_position": null,
            "order": null,
            "overflow": null,
            "overflow_x": null,
            "overflow_y": null,
            "padding": null,
            "right": null,
            "top": null,
            "visibility": null,
            "width": null
          }
        },
        "82b245f8e261419ba374c98ce4e1eed2": {
          "model_module": "@jupyter-widgets/controls",
          "model_name": "DescriptionStyleModel",
          "model_module_version": "1.5.0",
          "state": {
            "_model_module": "@jupyter-widgets/controls",
            "_model_module_version": "1.5.0",
            "_model_name": "DescriptionStyleModel",
            "_view_count": null,
            "_view_module": "@jupyter-widgets/base",
            "_view_module_version": "1.2.0",
            "_view_name": "StyleView",
            "description_width": ""
          }
        },
        "4ff9fab48873460898da8f1d3dd84efe": {
          "model_module": "@jupyter-widgets/controls",
          "model_name": "HBoxModel",
          "model_module_version": "1.5.0",
          "state": {
            "_dom_classes": [],
            "_model_module": "@jupyter-widgets/controls",
            "_model_module_version": "1.5.0",
            "_model_name": "HBoxModel",
            "_view_count": null,
            "_view_module": "@jupyter-widgets/controls",
            "_view_module_version": "1.5.0",
            "_view_name": "HBoxView",
            "box_style": "",
            "children": [
              "IPY_MODEL_659ab7b2949b4a129da621c3f1c8f2bf",
              "IPY_MODEL_14235904a49d44ac9f12937dc86c9d18",
              "IPY_MODEL_18f5b6ebace84733bc65e714eacf8610"
            ],
            "layout": "IPY_MODEL_15eb396937d1408aac8d61f9c64cfe6f"
          }
        },
        "659ab7b2949b4a129da621c3f1c8f2bf": {
          "model_module": "@jupyter-widgets/controls",
          "model_name": "HTMLModel",
          "model_module_version": "1.5.0",
          "state": {
            "_dom_classes": [],
            "_model_module": "@jupyter-widgets/controls",
            "_model_module_version": "1.5.0",
            "_model_name": "HTMLModel",
            "_view_count": null,
            "_view_module": "@jupyter-widgets/controls",
            "_view_module_version": "1.5.0",
            "_view_name": "HTMLView",
            "description": "",
            "description_tooltip": null,
            "layout": "IPY_MODEL_9bc512efb55442ffad9ca54e403d7084",
            "placeholder": "​",
            "style": "IPY_MODEL_69a7858c8b604fd3b2a9ca2a7091a400",
            "value": "100%"
          }
        },
        "14235904a49d44ac9f12937dc86c9d18": {
          "model_module": "@jupyter-widgets/controls",
          "model_name": "FloatProgressModel",
          "model_module_version": "1.5.0",
          "state": {
            "_dom_classes": [],
            "_model_module": "@jupyter-widgets/controls",
            "_model_module_version": "1.5.0",
            "_model_name": "FloatProgressModel",
            "_view_count": null,
            "_view_module": "@jupyter-widgets/controls",
            "_view_module_version": "1.5.0",
            "_view_name": "ProgressView",
            "bar_style": "success",
            "description": "",
            "description_tooltip": null,
            "layout": "IPY_MODEL_07d1d140279d494c949b5074970b5687",
            "max": 1,
            "min": 0,
            "orientation": "horizontal",
            "style": "IPY_MODEL_da342c970fb1436ea0ac0130ef7d76c8",
            "value": 1
          }
        },
        "18f5b6ebace84733bc65e714eacf8610": {
          "model_module": "@jupyter-widgets/controls",
          "model_name": "HTMLModel",
          "model_module_version": "1.5.0",
          "state": {
            "_dom_classes": [],
            "_model_module": "@jupyter-widgets/controls",
            "_model_module_version": "1.5.0",
            "_model_name": "HTMLModel",
            "_view_count": null,
            "_view_module": "@jupyter-widgets/controls",
            "_view_module_version": "1.5.0",
            "_view_name": "HTMLView",
            "description": "",
            "description_tooltip": null,
            "layout": "IPY_MODEL_ea5fc8847ba843cb831bb008de8edd7d",
            "placeholder": "​",
            "style": "IPY_MODEL_004c7ff09b484c51806fc3b990a81807",
            "value": " 1/1 [00:00&lt;00:00,  8.03ba/s]"
          }
        },
        "15eb396937d1408aac8d61f9c64cfe6f": {
          "model_module": "@jupyter-widgets/base",
          "model_name": "LayoutModel",
          "model_module_version": "1.2.0",
          "state": {
            "_model_module": "@jupyter-widgets/base",
            "_model_module_version": "1.2.0",
            "_model_name": "LayoutModel",
            "_view_count": null,
            "_view_module": "@jupyter-widgets/base",
            "_view_module_version": "1.2.0",
            "_view_name": "LayoutView",
            "align_content": null,
            "align_items": null,
            "align_self": null,
            "border": null,
            "bottom": null,
            "display": null,
            "flex": null,
            "flex_flow": null,
            "grid_area": null,
            "grid_auto_columns": null,
            "grid_auto_flow": null,
            "grid_auto_rows": null,
            "grid_column": null,
            "grid_gap": null,
            "grid_row": null,
            "grid_template_areas": null,
            "grid_template_columns": null,
            "grid_template_rows": null,
            "height": null,
            "justify_content": null,
            "justify_items": null,
            "left": null,
            "margin": null,
            "max_height": null,
            "max_width": null,
            "min_height": null,
            "min_width": null,
            "object_fit": null,
            "object_position": null,
            "order": null,
            "overflow": null,
            "overflow_x": null,
            "overflow_y": null,
            "padding": null,
            "right": null,
            "top": null,
            "visibility": null,
            "width": null
          }
        },
        "9bc512efb55442ffad9ca54e403d7084": {
          "model_module": "@jupyter-widgets/base",
          "model_name": "LayoutModel",
          "model_module_version": "1.2.0",
          "state": {
            "_model_module": "@jupyter-widgets/base",
            "_model_module_version": "1.2.0",
            "_model_name": "LayoutModel",
            "_view_count": null,
            "_view_module": "@jupyter-widgets/base",
            "_view_module_version": "1.2.0",
            "_view_name": "LayoutView",
            "align_content": null,
            "align_items": null,
            "align_self": null,
            "border": null,
            "bottom": null,
            "display": null,
            "flex": null,
            "flex_flow": null,
            "grid_area": null,
            "grid_auto_columns": null,
            "grid_auto_flow": null,
            "grid_auto_rows": null,
            "grid_column": null,
            "grid_gap": null,
            "grid_row": null,
            "grid_template_areas": null,
            "grid_template_columns": null,
            "grid_template_rows": null,
            "height": null,
            "justify_content": null,
            "justify_items": null,
            "left": null,
            "margin": null,
            "max_height": null,
            "max_width": null,
            "min_height": null,
            "min_width": null,
            "object_fit": null,
            "object_position": null,
            "order": null,
            "overflow": null,
            "overflow_x": null,
            "overflow_y": null,
            "padding": null,
            "right": null,
            "top": null,
            "visibility": null,
            "width": null
          }
        },
        "69a7858c8b604fd3b2a9ca2a7091a400": {
          "model_module": "@jupyter-widgets/controls",
          "model_name": "DescriptionStyleModel",
          "model_module_version": "1.5.0",
          "state": {
            "_model_module": "@jupyter-widgets/controls",
            "_model_module_version": "1.5.0",
            "_model_name": "DescriptionStyleModel",
            "_view_count": null,
            "_view_module": "@jupyter-widgets/base",
            "_view_module_version": "1.2.0",
            "_view_name": "StyleView",
            "description_width": ""
          }
        },
        "07d1d140279d494c949b5074970b5687": {
          "model_module": "@jupyter-widgets/base",
          "model_name": "LayoutModel",
          "model_module_version": "1.2.0",
          "state": {
            "_model_module": "@jupyter-widgets/base",
            "_model_module_version": "1.2.0",
            "_model_name": "LayoutModel",
            "_view_count": null,
            "_view_module": "@jupyter-widgets/base",
            "_view_module_version": "1.2.0",
            "_view_name": "LayoutView",
            "align_content": null,
            "align_items": null,
            "align_self": null,
            "border": null,
            "bottom": null,
            "display": null,
            "flex": null,
            "flex_flow": null,
            "grid_area": null,
            "grid_auto_columns": null,
            "grid_auto_flow": null,
            "grid_auto_rows": null,
            "grid_column": null,
            "grid_gap": null,
            "grid_row": null,
            "grid_template_areas": null,
            "grid_template_columns": null,
            "grid_template_rows": null,
            "height": null,
            "justify_content": null,
            "justify_items": null,
            "left": null,
            "margin": null,
            "max_height": null,
            "max_width": null,
            "min_height": null,
            "min_width": null,
            "object_fit": null,
            "object_position": null,
            "order": null,
            "overflow": null,
            "overflow_x": null,
            "overflow_y": null,
            "padding": null,
            "right": null,
            "top": null,
            "visibility": null,
            "width": null
          }
        },
        "da342c970fb1436ea0ac0130ef7d76c8": {
          "model_module": "@jupyter-widgets/controls",
          "model_name": "ProgressStyleModel",
          "model_module_version": "1.5.0",
          "state": {
            "_model_module": "@jupyter-widgets/controls",
            "_model_module_version": "1.5.0",
            "_model_name": "ProgressStyleModel",
            "_view_count": null,
            "_view_module": "@jupyter-widgets/base",
            "_view_module_version": "1.2.0",
            "_view_name": "StyleView",
            "bar_color": null,
            "description_width": ""
          }
        },
        "ea5fc8847ba843cb831bb008de8edd7d": {
          "model_module": "@jupyter-widgets/base",
          "model_name": "LayoutModel",
          "model_module_version": "1.2.0",
          "state": {
            "_model_module": "@jupyter-widgets/base",
            "_model_module_version": "1.2.0",
            "_model_name": "LayoutModel",
            "_view_count": null,
            "_view_module": "@jupyter-widgets/base",
            "_view_module_version": "1.2.0",
            "_view_name": "LayoutView",
            "align_content": null,
            "align_items": null,
            "align_self": null,
            "border": null,
            "bottom": null,
            "display": null,
            "flex": null,
            "flex_flow": null,
            "grid_area": null,
            "grid_auto_columns": null,
            "grid_auto_flow": null,
            "grid_auto_rows": null,
            "grid_column": null,
            "grid_gap": null,
            "grid_row": null,
            "grid_template_areas": null,
            "grid_template_columns": null,
            "grid_template_rows": null,
            "height": null,
            "justify_content": null,
            "justify_items": null,
            "left": null,
            "margin": null,
            "max_height": null,
            "max_width": null,
            "min_height": null,
            "min_width": null,
            "object_fit": null,
            "object_position": null,
            "order": null,
            "overflow": null,
            "overflow_x": null,
            "overflow_y": null,
            "padding": null,
            "right": null,
            "top": null,
            "visibility": null,
            "width": null
          }
        },
        "004c7ff09b484c51806fc3b990a81807": {
          "model_module": "@jupyter-widgets/controls",
          "model_name": "DescriptionStyleModel",
          "model_module_version": "1.5.0",
          "state": {
            "_model_module": "@jupyter-widgets/controls",
            "_model_module_version": "1.5.0",
            "_model_name": "DescriptionStyleModel",
            "_view_count": null,
            "_view_module": "@jupyter-widgets/base",
            "_view_module_version": "1.2.0",
            "_view_name": "StyleView",
            "description_width": ""
          }
        },
        "1b7c5f30490a40a19a86051ffd3c72a2": {
          "model_module": "@jupyter-widgets/controls",
          "model_name": "HBoxModel",
          "model_module_version": "1.5.0",
          "state": {
            "_dom_classes": [],
            "_model_module": "@jupyter-widgets/controls",
            "_model_module_version": "1.5.0",
            "_model_name": "HBoxModel",
            "_view_count": null,
            "_view_module": "@jupyter-widgets/controls",
            "_view_module_version": "1.5.0",
            "_view_name": "HBoxView",
            "box_style": "",
            "children": [
              "IPY_MODEL_99bc7ca17d394460986bf8f31461fd17",
              "IPY_MODEL_c03e8922be4a40bea2967285b1c99cc3",
              "IPY_MODEL_3b4bab7acd4c4a0982621f6f93a69422"
            ],
            "layout": "IPY_MODEL_ecf8d6f67e3a4466b0eb07687299d6dd"
          }
        },
        "99bc7ca17d394460986bf8f31461fd17": {
          "model_module": "@jupyter-widgets/controls",
          "model_name": "HTMLModel",
          "model_module_version": "1.5.0",
          "state": {
            "_dom_classes": [],
            "_model_module": "@jupyter-widgets/controls",
            "_model_module_version": "1.5.0",
            "_model_name": "HTMLModel",
            "_view_count": null,
            "_view_module": "@jupyter-widgets/controls",
            "_view_module_version": "1.5.0",
            "_view_name": "HTMLView",
            "description": "",
            "description_tooltip": null,
            "layout": "IPY_MODEL_d6806b4e18344fa4a53d1445d824772c",
            "placeholder": "​",
            "style": "IPY_MODEL_04f247b5b4814b41aa71532135de65b9",
            "value": ""
          }
        },
        "c03e8922be4a40bea2967285b1c99cc3": {
          "model_module": "@jupyter-widgets/controls",
          "model_name": "FloatProgressModel",
          "model_module_version": "1.5.0",
          "state": {
            "_dom_classes": [],
            "_model_module": "@jupyter-widgets/controls",
            "_model_module_version": "1.5.0",
            "_model_name": "FloatProgressModel",
            "_view_count": null,
            "_view_module": "@jupyter-widgets/controls",
            "_view_module_version": "1.5.0",
            "_view_name": "ProgressView",
            "bar_style": "success",
            "description": "",
            "description_tooltip": null,
            "layout": "IPY_MODEL_31966caecf5f45fba8215fad726ccabc",
            "max": 1,
            "min": 0,
            "orientation": "horizontal",
            "style": "IPY_MODEL_923008d5db02415f82b0a27a2c294db9",
            "value": 1
          }
        },
        "3b4bab7acd4c4a0982621f6f93a69422": {
          "model_module": "@jupyter-widgets/controls",
          "model_name": "HTMLModel",
          "model_module_version": "1.5.0",
          "state": {
            "_dom_classes": [],
            "_model_module": "@jupyter-widgets/controls",
            "_model_module_version": "1.5.0",
            "_model_name": "HTMLModel",
            "_view_count": null,
            "_view_module": "@jupyter-widgets/controls",
            "_view_module_version": "1.5.0",
            "_view_name": "HTMLView",
            "description": "",
            "description_tooltip": null,
            "layout": "IPY_MODEL_2a358cf750174d8b8884b0d5d4910e97",
            "placeholder": "​",
            "style": "IPY_MODEL_c430450d8d03477db1c0e78320541c60",
            "value": " 10199/? [01:39&lt;00:00, 114.06ex/s]"
          }
        },
        "ecf8d6f67e3a4466b0eb07687299d6dd": {
          "model_module": "@jupyter-widgets/base",
          "model_name": "LayoutModel",
          "model_module_version": "1.2.0",
          "state": {
            "_model_module": "@jupyter-widgets/base",
            "_model_module_version": "1.2.0",
            "_model_name": "LayoutModel",
            "_view_count": null,
            "_view_module": "@jupyter-widgets/base",
            "_view_module_version": "1.2.0",
            "_view_name": "LayoutView",
            "align_content": null,
            "align_items": null,
            "align_self": null,
            "border": null,
            "bottom": null,
            "display": null,
            "flex": null,
            "flex_flow": null,
            "grid_area": null,
            "grid_auto_columns": null,
            "grid_auto_flow": null,
            "grid_auto_rows": null,
            "grid_column": null,
            "grid_gap": null,
            "grid_row": null,
            "grid_template_areas": null,
            "grid_template_columns": null,
            "grid_template_rows": null,
            "height": null,
            "justify_content": null,
            "justify_items": null,
            "left": null,
            "margin": null,
            "max_height": null,
            "max_width": null,
            "min_height": null,
            "min_width": null,
            "object_fit": null,
            "object_position": null,
            "order": null,
            "overflow": null,
            "overflow_x": null,
            "overflow_y": null,
            "padding": null,
            "right": null,
            "top": null,
            "visibility": null,
            "width": null
          }
        },
        "d6806b4e18344fa4a53d1445d824772c": {
          "model_module": "@jupyter-widgets/base",
          "model_name": "LayoutModel",
          "model_module_version": "1.2.0",
          "state": {
            "_model_module": "@jupyter-widgets/base",
            "_model_module_version": "1.2.0",
            "_model_name": "LayoutModel",
            "_view_count": null,
            "_view_module": "@jupyter-widgets/base",
            "_view_module_version": "1.2.0",
            "_view_name": "LayoutView",
            "align_content": null,
            "align_items": null,
            "align_self": null,
            "border": null,
            "bottom": null,
            "display": null,
            "flex": null,
            "flex_flow": null,
            "grid_area": null,
            "grid_auto_columns": null,
            "grid_auto_flow": null,
            "grid_auto_rows": null,
            "grid_column": null,
            "grid_gap": null,
            "grid_row": null,
            "grid_template_areas": null,
            "grid_template_columns": null,
            "grid_template_rows": null,
            "height": null,
            "justify_content": null,
            "justify_items": null,
            "left": null,
            "margin": null,
            "max_height": null,
            "max_width": null,
            "min_height": null,
            "min_width": null,
            "object_fit": null,
            "object_position": null,
            "order": null,
            "overflow": null,
            "overflow_x": null,
            "overflow_y": null,
            "padding": null,
            "right": null,
            "top": null,
            "visibility": null,
            "width": null
          }
        },
        "04f247b5b4814b41aa71532135de65b9": {
          "model_module": "@jupyter-widgets/controls",
          "model_name": "DescriptionStyleModel",
          "model_module_version": "1.5.0",
          "state": {
            "_model_module": "@jupyter-widgets/controls",
            "_model_module_version": "1.5.0",
            "_model_name": "DescriptionStyleModel",
            "_view_count": null,
            "_view_module": "@jupyter-widgets/base",
            "_view_module_version": "1.2.0",
            "_view_name": "StyleView",
            "description_width": ""
          }
        },
        "31966caecf5f45fba8215fad726ccabc": {
          "model_module": "@jupyter-widgets/base",
          "model_name": "LayoutModel",
          "model_module_version": "1.2.0",
          "state": {
            "_model_module": "@jupyter-widgets/base",
            "_model_module_version": "1.2.0",
            "_model_name": "LayoutModel",
            "_view_count": null,
            "_view_module": "@jupyter-widgets/base",
            "_view_module_version": "1.2.0",
            "_view_name": "LayoutView",
            "align_content": null,
            "align_items": null,
            "align_self": null,
            "border": null,
            "bottom": null,
            "display": null,
            "flex": null,
            "flex_flow": null,
            "grid_area": null,
            "grid_auto_columns": null,
            "grid_auto_flow": null,
            "grid_auto_rows": null,
            "grid_column": null,
            "grid_gap": null,
            "grid_row": null,
            "grid_template_areas": null,
            "grid_template_columns": null,
            "grid_template_rows": null,
            "height": null,
            "justify_content": null,
            "justify_items": null,
            "left": null,
            "margin": null,
            "max_height": null,
            "max_width": null,
            "min_height": null,
            "min_width": null,
            "object_fit": null,
            "object_position": null,
            "order": null,
            "overflow": null,
            "overflow_x": null,
            "overflow_y": null,
            "padding": null,
            "right": null,
            "top": null,
            "visibility": null,
            "width": "20px"
          }
        },
        "923008d5db02415f82b0a27a2c294db9": {
          "model_module": "@jupyter-widgets/controls",
          "model_name": "ProgressStyleModel",
          "model_module_version": "1.5.0",
          "state": {
            "_model_module": "@jupyter-widgets/controls",
            "_model_module_version": "1.5.0",
            "_model_name": "ProgressStyleModel",
            "_view_count": null,
            "_view_module": "@jupyter-widgets/base",
            "_view_module_version": "1.2.0",
            "_view_name": "StyleView",
            "bar_color": null,
            "description_width": ""
          }
        },
        "2a358cf750174d8b8884b0d5d4910e97": {
          "model_module": "@jupyter-widgets/base",
          "model_name": "LayoutModel",
          "model_module_version": "1.2.0",
          "state": {
            "_model_module": "@jupyter-widgets/base",
            "_model_module_version": "1.2.0",
            "_model_name": "LayoutModel",
            "_view_count": null,
            "_view_module": "@jupyter-widgets/base",
            "_view_module_version": "1.2.0",
            "_view_name": "LayoutView",
            "align_content": null,
            "align_items": null,
            "align_self": null,
            "border": null,
            "bottom": null,
            "display": null,
            "flex": null,
            "flex_flow": null,
            "grid_area": null,
            "grid_auto_columns": null,
            "grid_auto_flow": null,
            "grid_auto_rows": null,
            "grid_column": null,
            "grid_gap": null,
            "grid_row": null,
            "grid_template_areas": null,
            "grid_template_columns": null,
            "grid_template_rows": null,
            "height": null,
            "justify_content": null,
            "justify_items": null,
            "left": null,
            "margin": null,
            "max_height": null,
            "max_width": null,
            "min_height": null,
            "min_width": null,
            "object_fit": null,
            "object_position": null,
            "order": null,
            "overflow": null,
            "overflow_x": null,
            "overflow_y": null,
            "padding": null,
            "right": null,
            "top": null,
            "visibility": null,
            "width": null
          }
        },
        "c430450d8d03477db1c0e78320541c60": {
          "model_module": "@jupyter-widgets/controls",
          "model_name": "DescriptionStyleModel",
          "model_module_version": "1.5.0",
          "state": {
            "_model_module": "@jupyter-widgets/controls",
            "_model_module_version": "1.5.0",
            "_model_name": "DescriptionStyleModel",
            "_view_count": null,
            "_view_module": "@jupyter-widgets/base",
            "_view_module_version": "1.2.0",
            "_view_name": "StyleView",
            "description_width": ""
          }
        },
        "c3043fad8b35472fb1e19b0fa7893760": {
          "model_module": "@jupyter-widgets/controls",
          "model_name": "HBoxModel",
          "model_module_version": "1.5.0",
          "state": {
            "_dom_classes": [],
            "_model_module": "@jupyter-widgets/controls",
            "_model_module_version": "1.5.0",
            "_model_name": "HBoxModel",
            "_view_count": null,
            "_view_module": "@jupyter-widgets/controls",
            "_view_module_version": "1.5.0",
            "_view_name": "HBoxView",
            "box_style": "",
            "children": [
              "IPY_MODEL_c52e7e20264b4be89db527508460126b",
              "IPY_MODEL_3aadb168ebb642e19bb0f8fe920ef651",
              "IPY_MODEL_977168b4cb7645f388fc7245021ddc75"
            ],
            "layout": "IPY_MODEL_cb0bf015dbee4bf7b28d0e406af55f4d"
          }
        },
        "c52e7e20264b4be89db527508460126b": {
          "model_module": "@jupyter-widgets/controls",
          "model_name": "HTMLModel",
          "model_module_version": "1.5.0",
          "state": {
            "_dom_classes": [],
            "_model_module": "@jupyter-widgets/controls",
            "_model_module_version": "1.5.0",
            "_model_name": "HTMLModel",
            "_view_count": null,
            "_view_module": "@jupyter-widgets/controls",
            "_view_module_version": "1.5.0",
            "_view_name": "HTMLView",
            "description": "",
            "description_tooltip": null,
            "layout": "IPY_MODEL_a5994d87c08f4a4598cb7e5e57d16c4c",
            "placeholder": "​",
            "style": "IPY_MODEL_6aacf000dd2746b8b556862af5a287c5",
            "value": ""
          }
        },
        "3aadb168ebb642e19bb0f8fe920ef651": {
          "model_module": "@jupyter-widgets/controls",
          "model_name": "FloatProgressModel",
          "model_module_version": "1.5.0",
          "state": {
            "_dom_classes": [],
            "_model_module": "@jupyter-widgets/controls",
            "_model_module_version": "1.5.0",
            "_model_name": "FloatProgressModel",
            "_view_count": null,
            "_view_module": "@jupyter-widgets/controls",
            "_view_module_version": "1.5.0",
            "_view_name": "ProgressView",
            "bar_style": "success",
            "description": "",
            "description_tooltip": null,
            "layout": "IPY_MODEL_1cec495aaa8d4f4a97f0ea50edaa996a",
            "max": 1,
            "min": 0,
            "orientation": "horizontal",
            "style": "IPY_MODEL_8e23f6f116df4ff388912fbf33beba86",
            "value": 1
          }
        },
        "977168b4cb7645f388fc7245021ddc75": {
          "model_module": "@jupyter-widgets/controls",
          "model_name": "HTMLModel",
          "model_module_version": "1.5.0",
          "state": {
            "_dom_classes": [],
            "_model_module": "@jupyter-widgets/controls",
            "_model_module_version": "1.5.0",
            "_model_name": "HTMLModel",
            "_view_count": null,
            "_view_module": "@jupyter-widgets/controls",
            "_view_module_version": "1.5.0",
            "_view_name": "HTMLView",
            "description": "",
            "description_tooltip": null,
            "layout": "IPY_MODEL_3d103c6e98934b8ca557d8477001d488",
            "placeholder": "​",
            "style": "IPY_MODEL_55b43126df6844cb83528013bb80029d",
            "value": " 2606/? [00:31&lt;00:00, 82.55ex/s]"
          }
        },
        "cb0bf015dbee4bf7b28d0e406af55f4d": {
          "model_module": "@jupyter-widgets/base",
          "model_name": "LayoutModel",
          "model_module_version": "1.2.0",
          "state": {
            "_model_module": "@jupyter-widgets/base",
            "_model_module_version": "1.2.0",
            "_model_name": "LayoutModel",
            "_view_count": null,
            "_view_module": "@jupyter-widgets/base",
            "_view_module_version": "1.2.0",
            "_view_name": "LayoutView",
            "align_content": null,
            "align_items": null,
            "align_self": null,
            "border": null,
            "bottom": null,
            "display": null,
            "flex": null,
            "flex_flow": null,
            "grid_area": null,
            "grid_auto_columns": null,
            "grid_auto_flow": null,
            "grid_auto_rows": null,
            "grid_column": null,
            "grid_gap": null,
            "grid_row": null,
            "grid_template_areas": null,
            "grid_template_columns": null,
            "grid_template_rows": null,
            "height": null,
            "justify_content": null,
            "justify_items": null,
            "left": null,
            "margin": null,
            "max_height": null,
            "max_width": null,
            "min_height": null,
            "min_width": null,
            "object_fit": null,
            "object_position": null,
            "order": null,
            "overflow": null,
            "overflow_x": null,
            "overflow_y": null,
            "padding": null,
            "right": null,
            "top": null,
            "visibility": null,
            "width": null
          }
        },
        "a5994d87c08f4a4598cb7e5e57d16c4c": {
          "model_module": "@jupyter-widgets/base",
          "model_name": "LayoutModel",
          "model_module_version": "1.2.0",
          "state": {
            "_model_module": "@jupyter-widgets/base",
            "_model_module_version": "1.2.0",
            "_model_name": "LayoutModel",
            "_view_count": null,
            "_view_module": "@jupyter-widgets/base",
            "_view_module_version": "1.2.0",
            "_view_name": "LayoutView",
            "align_content": null,
            "align_items": null,
            "align_self": null,
            "border": null,
            "bottom": null,
            "display": null,
            "flex": null,
            "flex_flow": null,
            "grid_area": null,
            "grid_auto_columns": null,
            "grid_auto_flow": null,
            "grid_auto_rows": null,
            "grid_column": null,
            "grid_gap": null,
            "grid_row": null,
            "grid_template_areas": null,
            "grid_template_columns": null,
            "grid_template_rows": null,
            "height": null,
            "justify_content": null,
            "justify_items": null,
            "left": null,
            "margin": null,
            "max_height": null,
            "max_width": null,
            "min_height": null,
            "min_width": null,
            "object_fit": null,
            "object_position": null,
            "order": null,
            "overflow": null,
            "overflow_x": null,
            "overflow_y": null,
            "padding": null,
            "right": null,
            "top": null,
            "visibility": null,
            "width": null
          }
        },
        "6aacf000dd2746b8b556862af5a287c5": {
          "model_module": "@jupyter-widgets/controls",
          "model_name": "DescriptionStyleModel",
          "model_module_version": "1.5.0",
          "state": {
            "_model_module": "@jupyter-widgets/controls",
            "_model_module_version": "1.5.0",
            "_model_name": "DescriptionStyleModel",
            "_view_count": null,
            "_view_module": "@jupyter-widgets/base",
            "_view_module_version": "1.2.0",
            "_view_name": "StyleView",
            "description_width": ""
          }
        },
        "1cec495aaa8d4f4a97f0ea50edaa996a": {
          "model_module": "@jupyter-widgets/base",
          "model_name": "LayoutModel",
          "model_module_version": "1.2.0",
          "state": {
            "_model_module": "@jupyter-widgets/base",
            "_model_module_version": "1.2.0",
            "_model_name": "LayoutModel",
            "_view_count": null,
            "_view_module": "@jupyter-widgets/base",
            "_view_module_version": "1.2.0",
            "_view_name": "LayoutView",
            "align_content": null,
            "align_items": null,
            "align_self": null,
            "border": null,
            "bottom": null,
            "display": null,
            "flex": null,
            "flex_flow": null,
            "grid_area": null,
            "grid_auto_columns": null,
            "grid_auto_flow": null,
            "grid_auto_rows": null,
            "grid_column": null,
            "grid_gap": null,
            "grid_row": null,
            "grid_template_areas": null,
            "grid_template_columns": null,
            "grid_template_rows": null,
            "height": null,
            "justify_content": null,
            "justify_items": null,
            "left": null,
            "margin": null,
            "max_height": null,
            "max_width": null,
            "min_height": null,
            "min_width": null,
            "object_fit": null,
            "object_position": null,
            "order": null,
            "overflow": null,
            "overflow_x": null,
            "overflow_y": null,
            "padding": null,
            "right": null,
            "top": null,
            "visibility": null,
            "width": "20px"
          }
        },
        "8e23f6f116df4ff388912fbf33beba86": {
          "model_module": "@jupyter-widgets/controls",
          "model_name": "ProgressStyleModel",
          "model_module_version": "1.5.0",
          "state": {
            "_model_module": "@jupyter-widgets/controls",
            "_model_module_version": "1.5.0",
            "_model_name": "ProgressStyleModel",
            "_view_count": null,
            "_view_module": "@jupyter-widgets/base",
            "_view_module_version": "1.2.0",
            "_view_name": "StyleView",
            "bar_color": null,
            "description_width": ""
          }
        },
        "3d103c6e98934b8ca557d8477001d488": {
          "model_module": "@jupyter-widgets/base",
          "model_name": "LayoutModel",
          "model_module_version": "1.2.0",
          "state": {
            "_model_module": "@jupyter-widgets/base",
            "_model_module_version": "1.2.0",
            "_model_name": "LayoutModel",
            "_view_count": null,
            "_view_module": "@jupyter-widgets/base",
            "_view_module_version": "1.2.0",
            "_view_name": "LayoutView",
            "align_content": null,
            "align_items": null,
            "align_self": null,
            "border": null,
            "bottom": null,
            "display": null,
            "flex": null,
            "flex_flow": null,
            "grid_area": null,
            "grid_auto_columns": null,
            "grid_auto_flow": null,
            "grid_auto_rows": null,
            "grid_column": null,
            "grid_gap": null,
            "grid_row": null,
            "grid_template_areas": null,
            "grid_template_columns": null,
            "grid_template_rows": null,
            "height": null,
            "justify_content": null,
            "justify_items": null,
            "left": null,
            "margin": null,
            "max_height": null,
            "max_width": null,
            "min_height": null,
            "min_width": null,
            "object_fit": null,
            "object_position": null,
            "order": null,
            "overflow": null,
            "overflow_x": null,
            "overflow_y": null,
            "padding": null,
            "right": null,
            "top": null,
            "visibility": null,
            "width": null
          }
        },
        "55b43126df6844cb83528013bb80029d": {
          "model_module": "@jupyter-widgets/controls",
          "model_name": "DescriptionStyleModel",
          "model_module_version": "1.5.0",
          "state": {
            "_model_module": "@jupyter-widgets/controls",
            "_model_module_version": "1.5.0",
            "_model_name": "DescriptionStyleModel",
            "_view_count": null,
            "_view_module": "@jupyter-widgets/base",
            "_view_module_version": "1.2.0",
            "_view_name": "StyleView",
            "description_width": ""
          }
        },
        "20f6926d07654819b76bff1550e15540": {
          "model_module": "@jupyter-widgets/controls",
          "model_name": "HBoxModel",
          "model_module_version": "1.5.0",
          "state": {
            "_dom_classes": [],
            "_model_module": "@jupyter-widgets/controls",
            "_model_module_version": "1.5.0",
            "_model_name": "HBoxModel",
            "_view_count": null,
            "_view_module": "@jupyter-widgets/controls",
            "_view_module_version": "1.5.0",
            "_view_name": "HBoxView",
            "box_style": "",
            "children": [
              "IPY_MODEL_569b6cbc2ce24a9cb0545a3722e8bd25",
              "IPY_MODEL_e40af9ccf44645a188c36e7a7d7a0979",
              "IPY_MODEL_cff3d7592f1549d39c2f73be635093e0"
            ],
            "layout": "IPY_MODEL_4623b1b4d33743b9b079323e993221df"
          }
        },
        "569b6cbc2ce24a9cb0545a3722e8bd25": {
          "model_module": "@jupyter-widgets/controls",
          "model_name": "HTMLModel",
          "model_module_version": "1.5.0",
          "state": {
            "_dom_classes": [],
            "_model_module": "@jupyter-widgets/controls",
            "_model_module_version": "1.5.0",
            "_model_name": "HTMLModel",
            "_view_count": null,
            "_view_module": "@jupyter-widgets/controls",
            "_view_module_version": "1.5.0",
            "_view_name": "HTMLView",
            "description": "",
            "description_tooltip": null,
            "layout": "IPY_MODEL_dd3074cfd8dc44d9aab2d5406f216de7",
            "placeholder": "​",
            "style": "IPY_MODEL_ade62dd6ceec4cfb939e4e83f7fced00",
            "value": "Downloading: "
          }
        },
        "e40af9ccf44645a188c36e7a7d7a0979": {
          "model_module": "@jupyter-widgets/controls",
          "model_name": "FloatProgressModel",
          "model_module_version": "1.5.0",
          "state": {
            "_dom_classes": [],
            "_model_module": "@jupyter-widgets/controls",
            "_model_module_version": "1.5.0",
            "_model_name": "FloatProgressModel",
            "_view_count": null,
            "_view_module": "@jupyter-widgets/controls",
            "_view_module_version": "1.5.0",
            "_view_name": "ProgressView",
            "bar_style": "success",
            "description": "",
            "description_tooltip": null,
            "layout": "IPY_MODEL_912a1875b19445c0851f27367d5e0f11",
            "max": 1901,
            "min": 0,
            "orientation": "horizontal",
            "style": "IPY_MODEL_bd76a2eff906464b86ee306c85085caa",
            "value": 1901
          }
        },
        "cff3d7592f1549d39c2f73be635093e0": {
          "model_module": "@jupyter-widgets/controls",
          "model_name": "HTMLModel",
          "model_module_version": "1.5.0",
          "state": {
            "_dom_classes": [],
            "_model_module": "@jupyter-widgets/controls",
            "_model_module_version": "1.5.0",
            "_model_name": "HTMLModel",
            "_view_count": null,
            "_view_module": "@jupyter-widgets/controls",
            "_view_module_version": "1.5.0",
            "_view_name": "HTMLView",
            "description": "",
            "description_tooltip": null,
            "layout": "IPY_MODEL_20707693d73444989da388e1c6e850c7",
            "placeholder": "​",
            "style": "IPY_MODEL_920fb0fe034240f1882254b68f28551d",
            "value": " 4.48k/? [00:00&lt;00:00, 181kB/s]"
          }
        },
        "4623b1b4d33743b9b079323e993221df": {
          "model_module": "@jupyter-widgets/base",
          "model_name": "LayoutModel",
          "model_module_version": "1.2.0",
          "state": {
            "_model_module": "@jupyter-widgets/base",
            "_model_module_version": "1.2.0",
            "_model_name": "LayoutModel",
            "_view_count": null,
            "_view_module": "@jupyter-widgets/base",
            "_view_module_version": "1.2.0",
            "_view_name": "LayoutView",
            "align_content": null,
            "align_items": null,
            "align_self": null,
            "border": null,
            "bottom": null,
            "display": null,
            "flex": null,
            "flex_flow": null,
            "grid_area": null,
            "grid_auto_columns": null,
            "grid_auto_flow": null,
            "grid_auto_rows": null,
            "grid_column": null,
            "grid_gap": null,
            "grid_row": null,
            "grid_template_areas": null,
            "grid_template_columns": null,
            "grid_template_rows": null,
            "height": null,
            "justify_content": null,
            "justify_items": null,
            "left": null,
            "margin": null,
            "max_height": null,
            "max_width": null,
            "min_height": null,
            "min_width": null,
            "object_fit": null,
            "object_position": null,
            "order": null,
            "overflow": null,
            "overflow_x": null,
            "overflow_y": null,
            "padding": null,
            "right": null,
            "top": null,
            "visibility": null,
            "width": null
          }
        },
        "dd3074cfd8dc44d9aab2d5406f216de7": {
          "model_module": "@jupyter-widgets/base",
          "model_name": "LayoutModel",
          "model_module_version": "1.2.0",
          "state": {
            "_model_module": "@jupyter-widgets/base",
            "_model_module_version": "1.2.0",
            "_model_name": "LayoutModel",
            "_view_count": null,
            "_view_module": "@jupyter-widgets/base",
            "_view_module_version": "1.2.0",
            "_view_name": "LayoutView",
            "align_content": null,
            "align_items": null,
            "align_self": null,
            "border": null,
            "bottom": null,
            "display": null,
            "flex": null,
            "flex_flow": null,
            "grid_area": null,
            "grid_auto_columns": null,
            "grid_auto_flow": null,
            "grid_auto_rows": null,
            "grid_column": null,
            "grid_gap": null,
            "grid_row": null,
            "grid_template_areas": null,
            "grid_template_columns": null,
            "grid_template_rows": null,
            "height": null,
            "justify_content": null,
            "justify_items": null,
            "left": null,
            "margin": null,
            "max_height": null,
            "max_width": null,
            "min_height": null,
            "min_width": null,
            "object_fit": null,
            "object_position": null,
            "order": null,
            "overflow": null,
            "overflow_x": null,
            "overflow_y": null,
            "padding": null,
            "right": null,
            "top": null,
            "visibility": null,
            "width": null
          }
        },
        "ade62dd6ceec4cfb939e4e83f7fced00": {
          "model_module": "@jupyter-widgets/controls",
          "model_name": "DescriptionStyleModel",
          "model_module_version": "1.5.0",
          "state": {
            "_model_module": "@jupyter-widgets/controls",
            "_model_module_version": "1.5.0",
            "_model_name": "DescriptionStyleModel",
            "_view_count": null,
            "_view_module": "@jupyter-widgets/base",
            "_view_module_version": "1.2.0",
            "_view_name": "StyleView",
            "description_width": ""
          }
        },
        "912a1875b19445c0851f27367d5e0f11": {
          "model_module": "@jupyter-widgets/base",
          "model_name": "LayoutModel",
          "model_module_version": "1.2.0",
          "state": {
            "_model_module": "@jupyter-widgets/base",
            "_model_module_version": "1.2.0",
            "_model_name": "LayoutModel",
            "_view_count": null,
            "_view_module": "@jupyter-widgets/base",
            "_view_module_version": "1.2.0",
            "_view_name": "LayoutView",
            "align_content": null,
            "align_items": null,
            "align_self": null,
            "border": null,
            "bottom": null,
            "display": null,
            "flex": null,
            "flex_flow": null,
            "grid_area": null,
            "grid_auto_columns": null,
            "grid_auto_flow": null,
            "grid_auto_rows": null,
            "grid_column": null,
            "grid_gap": null,
            "grid_row": null,
            "grid_template_areas": null,
            "grid_template_columns": null,
            "grid_template_rows": null,
            "height": null,
            "justify_content": null,
            "justify_items": null,
            "left": null,
            "margin": null,
            "max_height": null,
            "max_width": null,
            "min_height": null,
            "min_width": null,
            "object_fit": null,
            "object_position": null,
            "order": null,
            "overflow": null,
            "overflow_x": null,
            "overflow_y": null,
            "padding": null,
            "right": null,
            "top": null,
            "visibility": null,
            "width": null
          }
        },
        "bd76a2eff906464b86ee306c85085caa": {
          "model_module": "@jupyter-widgets/controls",
          "model_name": "ProgressStyleModel",
          "model_module_version": "1.5.0",
          "state": {
            "_model_module": "@jupyter-widgets/controls",
            "_model_module_version": "1.5.0",
            "_model_name": "ProgressStyleModel",
            "_view_count": null,
            "_view_module": "@jupyter-widgets/base",
            "_view_module_version": "1.2.0",
            "_view_name": "StyleView",
            "bar_color": null,
            "description_width": ""
          }
        },
        "20707693d73444989da388e1c6e850c7": {
          "model_module": "@jupyter-widgets/base",
          "model_name": "LayoutModel",
          "model_module_version": "1.2.0",
          "state": {
            "_model_module": "@jupyter-widgets/base",
            "_model_module_version": "1.2.0",
            "_model_name": "LayoutModel",
            "_view_count": null,
            "_view_module": "@jupyter-widgets/base",
            "_view_module_version": "1.2.0",
            "_view_name": "LayoutView",
            "align_content": null,
            "align_items": null,
            "align_self": null,
            "border": null,
            "bottom": null,
            "display": null,
            "flex": null,
            "flex_flow": null,
            "grid_area": null,
            "grid_auto_columns": null,
            "grid_auto_flow": null,
            "grid_auto_rows": null,
            "grid_column": null,
            "grid_gap": null,
            "grid_row": null,
            "grid_template_areas": null,
            "grid_template_columns": null,
            "grid_template_rows": null,
            "height": null,
            "justify_content": null,
            "justify_items": null,
            "left": null,
            "margin": null,
            "max_height": null,
            "max_width": null,
            "min_height": null,
            "min_width": null,
            "object_fit": null,
            "object_position": null,
            "order": null,
            "overflow": null,
            "overflow_x": null,
            "overflow_y": null,
            "padding": null,
            "right": null,
            "top": null,
            "visibility": null,
            "width": null
          }
        },
        "920fb0fe034240f1882254b68f28551d": {
          "model_module": "@jupyter-widgets/controls",
          "model_name": "DescriptionStyleModel",
          "model_module_version": "1.5.0",
          "state": {
            "_model_module": "@jupyter-widgets/controls",
            "_model_module_version": "1.5.0",
            "_model_name": "DescriptionStyleModel",
            "_view_count": null,
            "_view_module": "@jupyter-widgets/base",
            "_view_module_version": "1.2.0",
            "_view_name": "StyleView",
            "description_width": ""
          }
        },
        "30eaf95838da4bbda5b4ee268e84d5ff": {
          "model_module": "@jupyter-widgets/controls",
          "model_name": "HBoxModel",
          "model_module_version": "1.5.0",
          "state": {
            "_dom_classes": [],
            "_model_module": "@jupyter-widgets/controls",
            "_model_module_version": "1.5.0",
            "_model_name": "HBoxModel",
            "_view_count": null,
            "_view_module": "@jupyter-widgets/controls",
            "_view_module_version": "1.5.0",
            "_view_name": "HBoxView",
            "box_style": "",
            "children": [
              "IPY_MODEL_92529df1417443dfaa77fc0d23435364",
              "IPY_MODEL_20d41184120e4aa5b1d5e11f11d6900e",
              "IPY_MODEL_158265a29d344c87814445e55552e9f6"
            ],
            "layout": "IPY_MODEL_d6d344ca59414dbf84e91a27797090c6"
          }
        },
        "92529df1417443dfaa77fc0d23435364": {
          "model_module": "@jupyter-widgets/controls",
          "model_name": "HTMLModel",
          "model_module_version": "1.5.0",
          "state": {
            "_dom_classes": [],
            "_model_module": "@jupyter-widgets/controls",
            "_model_module_version": "1.5.0",
            "_model_name": "HTMLModel",
            "_view_count": null,
            "_view_module": "@jupyter-widgets/controls",
            "_view_module_version": "1.5.0",
            "_view_name": "HTMLView",
            "description": "",
            "description_tooltip": null,
            "layout": "IPY_MODEL_d6172d29b3784d5ab17ee13143b864d3",
            "placeholder": "​",
            "style": "IPY_MODEL_cbeab82eb3e34c5fa4d33facbed3e161",
            "value": "Downloading: 100%"
          }
        },
        "20d41184120e4aa5b1d5e11f11d6900e": {
          "model_module": "@jupyter-widgets/controls",
          "model_name": "FloatProgressModel",
          "model_module_version": "1.5.0",
          "state": {
            "_dom_classes": [],
            "_model_module": "@jupyter-widgets/controls",
            "_model_module_version": "1.5.0",
            "_model_name": "FloatProgressModel",
            "_view_count": null,
            "_view_module": "@jupyter-widgets/controls",
            "_view_module_version": "1.5.0",
            "_view_name": "ProgressView",
            "bar_style": "success",
            "description": "",
            "description_tooltip": null,
            "layout": "IPY_MODEL_ddc753ea1aa749c78ab98ec9b0b12e3f",
            "max": 1842,
            "min": 0,
            "orientation": "horizontal",
            "style": "IPY_MODEL_cd56a05e26c24c64bea153d377d7b13c",
            "value": 1842
          }
        },
        "158265a29d344c87814445e55552e9f6": {
          "model_module": "@jupyter-widgets/controls",
          "model_name": "HTMLModel",
          "model_module_version": "1.5.0",
          "state": {
            "_dom_classes": [],
            "_model_module": "@jupyter-widgets/controls",
            "_model_module_version": "1.5.0",
            "_model_name": "HTMLModel",
            "_view_count": null,
            "_view_module": "@jupyter-widgets/controls",
            "_view_module_version": "1.5.0",
            "_view_name": "HTMLView",
            "description": "",
            "description_tooltip": null,
            "layout": "IPY_MODEL_35be03867b2743eeaa8cee688b18e253",
            "placeholder": "​",
            "style": "IPY_MODEL_4d206cdcc8954ad5bfded78c63c04b7b",
            "value": " 1.80k/1.80k [00:00&lt;00:00, 76.0kB/s]"
          }
        },
        "d6d344ca59414dbf84e91a27797090c6": {
          "model_module": "@jupyter-widgets/base",
          "model_name": "LayoutModel",
          "model_module_version": "1.2.0",
          "state": {
            "_model_module": "@jupyter-widgets/base",
            "_model_module_version": "1.2.0",
            "_model_name": "LayoutModel",
            "_view_count": null,
            "_view_module": "@jupyter-widgets/base",
            "_view_module_version": "1.2.0",
            "_view_name": "LayoutView",
            "align_content": null,
            "align_items": null,
            "align_self": null,
            "border": null,
            "bottom": null,
            "display": null,
            "flex": null,
            "flex_flow": null,
            "grid_area": null,
            "grid_auto_columns": null,
            "grid_auto_flow": null,
            "grid_auto_rows": null,
            "grid_column": null,
            "grid_gap": null,
            "grid_row": null,
            "grid_template_areas": null,
            "grid_template_columns": null,
            "grid_template_rows": null,
            "height": null,
            "justify_content": null,
            "justify_items": null,
            "left": null,
            "margin": null,
            "max_height": null,
            "max_width": null,
            "min_height": null,
            "min_width": null,
            "object_fit": null,
            "object_position": null,
            "order": null,
            "overflow": null,
            "overflow_x": null,
            "overflow_y": null,
            "padding": null,
            "right": null,
            "top": null,
            "visibility": null,
            "width": null
          }
        },
        "d6172d29b3784d5ab17ee13143b864d3": {
          "model_module": "@jupyter-widgets/base",
          "model_name": "LayoutModel",
          "model_module_version": "1.2.0",
          "state": {
            "_model_module": "@jupyter-widgets/base",
            "_model_module_version": "1.2.0",
            "_model_name": "LayoutModel",
            "_view_count": null,
            "_view_module": "@jupyter-widgets/base",
            "_view_module_version": "1.2.0",
            "_view_name": "LayoutView",
            "align_content": null,
            "align_items": null,
            "align_self": null,
            "border": null,
            "bottom": null,
            "display": null,
            "flex": null,
            "flex_flow": null,
            "grid_area": null,
            "grid_auto_columns": null,
            "grid_auto_flow": null,
            "grid_auto_rows": null,
            "grid_column": null,
            "grid_gap": null,
            "grid_row": null,
            "grid_template_areas": null,
            "grid_template_columns": null,
            "grid_template_rows": null,
            "height": null,
            "justify_content": null,
            "justify_items": null,
            "left": null,
            "margin": null,
            "max_height": null,
            "max_width": null,
            "min_height": null,
            "min_width": null,
            "object_fit": null,
            "object_position": null,
            "order": null,
            "overflow": null,
            "overflow_x": null,
            "overflow_y": null,
            "padding": null,
            "right": null,
            "top": null,
            "visibility": null,
            "width": null
          }
        },
        "cbeab82eb3e34c5fa4d33facbed3e161": {
          "model_module": "@jupyter-widgets/controls",
          "model_name": "DescriptionStyleModel",
          "model_module_version": "1.5.0",
          "state": {
            "_model_module": "@jupyter-widgets/controls",
            "_model_module_version": "1.5.0",
            "_model_name": "DescriptionStyleModel",
            "_view_count": null,
            "_view_module": "@jupyter-widgets/base",
            "_view_module_version": "1.2.0",
            "_view_name": "StyleView",
            "description_width": ""
          }
        },
        "ddc753ea1aa749c78ab98ec9b0b12e3f": {
          "model_module": "@jupyter-widgets/base",
          "model_name": "LayoutModel",
          "model_module_version": "1.2.0",
          "state": {
            "_model_module": "@jupyter-widgets/base",
            "_model_module_version": "1.2.0",
            "_model_name": "LayoutModel",
            "_view_count": null,
            "_view_module": "@jupyter-widgets/base",
            "_view_module_version": "1.2.0",
            "_view_name": "LayoutView",
            "align_content": null,
            "align_items": null,
            "align_self": null,
            "border": null,
            "bottom": null,
            "display": null,
            "flex": null,
            "flex_flow": null,
            "grid_area": null,
            "grid_auto_columns": null,
            "grid_auto_flow": null,
            "grid_auto_rows": null,
            "grid_column": null,
            "grid_gap": null,
            "grid_row": null,
            "grid_template_areas": null,
            "grid_template_columns": null,
            "grid_template_rows": null,
            "height": null,
            "justify_content": null,
            "justify_items": null,
            "left": null,
            "margin": null,
            "max_height": null,
            "max_width": null,
            "min_height": null,
            "min_width": null,
            "object_fit": null,
            "object_position": null,
            "order": null,
            "overflow": null,
            "overflow_x": null,
            "overflow_y": null,
            "padding": null,
            "right": null,
            "top": null,
            "visibility": null,
            "width": null
          }
        },
        "cd56a05e26c24c64bea153d377d7b13c": {
          "model_module": "@jupyter-widgets/controls",
          "model_name": "ProgressStyleModel",
          "model_module_version": "1.5.0",
          "state": {
            "_model_module": "@jupyter-widgets/controls",
            "_model_module_version": "1.5.0",
            "_model_name": "ProgressStyleModel",
            "_view_count": null,
            "_view_module": "@jupyter-widgets/base",
            "_view_module_version": "1.2.0",
            "_view_name": "StyleView",
            "bar_color": null,
            "description_width": ""
          }
        },
        "35be03867b2743eeaa8cee688b18e253": {
          "model_module": "@jupyter-widgets/base",
          "model_name": "LayoutModel",
          "model_module_version": "1.2.0",
          "state": {
            "_model_module": "@jupyter-widgets/base",
            "_model_module_version": "1.2.0",
            "_model_name": "LayoutModel",
            "_view_count": null,
            "_view_module": "@jupyter-widgets/base",
            "_view_module_version": "1.2.0",
            "_view_name": "LayoutView",
            "align_content": null,
            "align_items": null,
            "align_self": null,
            "border": null,
            "bottom": null,
            "display": null,
            "flex": null,
            "flex_flow": null,
            "grid_area": null,
            "grid_auto_columns": null,
            "grid_auto_flow": null,
            "grid_auto_rows": null,
            "grid_column": null,
            "grid_gap": null,
            "grid_row": null,
            "grid_template_areas": null,
            "grid_template_columns": null,
            "grid_template_rows": null,
            "height": null,
            "justify_content": null,
            "justify_items": null,
            "left": null,
            "margin": null,
            "max_height": null,
            "max_width": null,
            "min_height": null,
            "min_width": null,
            "object_fit": null,
            "object_position": null,
            "order": null,
            "overflow": null,
            "overflow_x": null,
            "overflow_y": null,
            "padding": null,
            "right": null,
            "top": null,
            "visibility": null,
            "width": null
          }
        },
        "4d206cdcc8954ad5bfded78c63c04b7b": {
          "model_module": "@jupyter-widgets/controls",
          "model_name": "DescriptionStyleModel",
          "model_module_version": "1.5.0",
          "state": {
            "_model_module": "@jupyter-widgets/controls",
            "_model_module_version": "1.5.0",
            "_model_name": "DescriptionStyleModel",
            "_view_count": null,
            "_view_module": "@jupyter-widgets/base",
            "_view_module_version": "1.2.0",
            "_view_name": "StyleView",
            "description_width": ""
          }
        },
        "663be9adefbe4de2926343644e03dc85": {
          "model_module": "@jupyter-widgets/controls",
          "model_name": "HBoxModel",
          "model_module_version": "1.5.0",
          "state": {
            "_dom_classes": [],
            "_model_module": "@jupyter-widgets/controls",
            "_model_module_version": "1.5.0",
            "_model_name": "HBoxModel",
            "_view_count": null,
            "_view_module": "@jupyter-widgets/controls",
            "_view_module_version": "1.5.0",
            "_view_name": "HBoxView",
            "box_style": "",
            "children": [
              "IPY_MODEL_2e161c237f494a18b0803e6a57a6aa7a",
              "IPY_MODEL_8d170f84425948d1b60ed5216b6a6e36",
              "IPY_MODEL_d7813518050b41b5b385b306da6bd2de"
            ],
            "layout": "IPY_MODEL_9581acf6caff4d41997f84038ccbfe07"
          }
        },
        "2e161c237f494a18b0803e6a57a6aa7a": {
          "model_module": "@jupyter-widgets/controls",
          "model_name": "HTMLModel",
          "model_module_version": "1.5.0",
          "state": {
            "_dom_classes": [],
            "_model_module": "@jupyter-widgets/controls",
            "_model_module_version": "1.5.0",
            "_model_name": "HTMLModel",
            "_view_count": null,
            "_view_module": "@jupyter-widgets/controls",
            "_view_module_version": "1.5.0",
            "_view_name": "HTMLView",
            "description": "",
            "description_tooltip": null,
            "layout": "IPY_MODEL_1b02e6fd79044d4999176d4f1ced0a65",
            "placeholder": "​",
            "style": "IPY_MODEL_027b5b4e1c2543a58796d0c78b9df4ca",
            "value": "Downloading: 100%"
          }
        },
        "8d170f84425948d1b60ed5216b6a6e36": {
          "model_module": "@jupyter-widgets/controls",
          "model_name": "FloatProgressModel",
          "model_module_version": "1.5.0",
          "state": {
            "_dom_classes": [],
            "_model_module": "@jupyter-widgets/controls",
            "_model_module_version": "1.5.0",
            "_model_name": "FloatProgressModel",
            "_view_count": null,
            "_view_module": "@jupyter-widgets/controls",
            "_view_module_version": "1.5.0",
            "_view_name": "ProgressView",
            "bar_style": "success",
            "description": "",
            "description_tooltip": null,
            "layout": "IPY_MODEL_ec9dfa7a449244c4a900861d2b33d1f7",
            "max": 380267417,
            "min": 0,
            "orientation": "horizontal",
            "style": "IPY_MODEL_6f88e49140424631b5895689c5e02f9d",
            "value": 380267417
          }
        },
        "d7813518050b41b5b385b306da6bd2de": {
          "model_module": "@jupyter-widgets/controls",
          "model_name": "HTMLModel",
          "model_module_version": "1.5.0",
          "state": {
            "_dom_classes": [],
            "_model_module": "@jupyter-widgets/controls",
            "_model_module_version": "1.5.0",
            "_model_name": "HTMLModel",
            "_view_count": null,
            "_view_module": "@jupyter-widgets/controls",
            "_view_module_version": "1.5.0",
            "_view_name": "HTMLView",
            "description": "",
            "description_tooltip": null,
            "layout": "IPY_MODEL_69560869f350435b801928ee1ef27fcc",
            "placeholder": "​",
            "style": "IPY_MODEL_888a5f194a914066a01d50b0f09f6e6a",
            "value": " 363M/363M [00:11&lt;00:00, 35.0MB/s]"
          }
        },
        "9581acf6caff4d41997f84038ccbfe07": {
          "model_module": "@jupyter-widgets/base",
          "model_name": "LayoutModel",
          "model_module_version": "1.2.0",
          "state": {
            "_model_module": "@jupyter-widgets/base",
            "_model_module_version": "1.2.0",
            "_model_name": "LayoutModel",
            "_view_count": null,
            "_view_module": "@jupyter-widgets/base",
            "_view_module_version": "1.2.0",
            "_view_name": "LayoutView",
            "align_content": null,
            "align_items": null,
            "align_self": null,
            "border": null,
            "bottom": null,
            "display": null,
            "flex": null,
            "flex_flow": null,
            "grid_area": null,
            "grid_auto_columns": null,
            "grid_auto_flow": null,
            "grid_auto_rows": null,
            "grid_column": null,
            "grid_gap": null,
            "grid_row": null,
            "grid_template_areas": null,
            "grid_template_columns": null,
            "grid_template_rows": null,
            "height": null,
            "justify_content": null,
            "justify_items": null,
            "left": null,
            "margin": null,
            "max_height": null,
            "max_width": null,
            "min_height": null,
            "min_width": null,
            "object_fit": null,
            "object_position": null,
            "order": null,
            "overflow": null,
            "overflow_x": null,
            "overflow_y": null,
            "padding": null,
            "right": null,
            "top": null,
            "visibility": null,
            "width": null
          }
        },
        "1b02e6fd79044d4999176d4f1ced0a65": {
          "model_module": "@jupyter-widgets/base",
          "model_name": "LayoutModel",
          "model_module_version": "1.2.0",
          "state": {
            "_model_module": "@jupyter-widgets/base",
            "_model_module_version": "1.2.0",
            "_model_name": "LayoutModel",
            "_view_count": null,
            "_view_module": "@jupyter-widgets/base",
            "_view_module_version": "1.2.0",
            "_view_name": "LayoutView",
            "align_content": null,
            "align_items": null,
            "align_self": null,
            "border": null,
            "bottom": null,
            "display": null,
            "flex": null,
            "flex_flow": null,
            "grid_area": null,
            "grid_auto_columns": null,
            "grid_auto_flow": null,
            "grid_auto_rows": null,
            "grid_column": null,
            "grid_gap": null,
            "grid_row": null,
            "grid_template_areas": null,
            "grid_template_columns": null,
            "grid_template_rows": null,
            "height": null,
            "justify_content": null,
            "justify_items": null,
            "left": null,
            "margin": null,
            "max_height": null,
            "max_width": null,
            "min_height": null,
            "min_width": null,
            "object_fit": null,
            "object_position": null,
            "order": null,
            "overflow": null,
            "overflow_x": null,
            "overflow_y": null,
            "padding": null,
            "right": null,
            "top": null,
            "visibility": null,
            "width": null
          }
        },
        "027b5b4e1c2543a58796d0c78b9df4ca": {
          "model_module": "@jupyter-widgets/controls",
          "model_name": "DescriptionStyleModel",
          "model_module_version": "1.5.0",
          "state": {
            "_model_module": "@jupyter-widgets/controls",
            "_model_module_version": "1.5.0",
            "_model_name": "DescriptionStyleModel",
            "_view_count": null,
            "_view_module": "@jupyter-widgets/base",
            "_view_module_version": "1.2.0",
            "_view_name": "StyleView",
            "description_width": ""
          }
        },
        "ec9dfa7a449244c4a900861d2b33d1f7": {
          "model_module": "@jupyter-widgets/base",
          "model_name": "LayoutModel",
          "model_module_version": "1.2.0",
          "state": {
            "_model_module": "@jupyter-widgets/base",
            "_model_module_version": "1.2.0",
            "_model_name": "LayoutModel",
            "_view_count": null,
            "_view_module": "@jupyter-widgets/base",
            "_view_module_version": "1.2.0",
            "_view_name": "LayoutView",
            "align_content": null,
            "align_items": null,
            "align_self": null,
            "border": null,
            "bottom": null,
            "display": null,
            "flex": null,
            "flex_flow": null,
            "grid_area": null,
            "grid_auto_columns": null,
            "grid_auto_flow": null,
            "grid_auto_rows": null,
            "grid_column": null,
            "grid_gap": null,
            "grid_row": null,
            "grid_template_areas": null,
            "grid_template_columns": null,
            "grid_template_rows": null,
            "height": null,
            "justify_content": null,
            "justify_items": null,
            "left": null,
            "margin": null,
            "max_height": null,
            "max_width": null,
            "min_height": null,
            "min_width": null,
            "object_fit": null,
            "object_position": null,
            "order": null,
            "overflow": null,
            "overflow_x": null,
            "overflow_y": null,
            "padding": null,
            "right": null,
            "top": null,
            "visibility": null,
            "width": null
          }
        },
        "6f88e49140424631b5895689c5e02f9d": {
          "model_module": "@jupyter-widgets/controls",
          "model_name": "ProgressStyleModel",
          "model_module_version": "1.5.0",
          "state": {
            "_model_module": "@jupyter-widgets/controls",
            "_model_module_version": "1.5.0",
            "_model_name": "ProgressStyleModel",
            "_view_count": null,
            "_view_module": "@jupyter-widgets/base",
            "_view_module_version": "1.2.0",
            "_view_name": "StyleView",
            "bar_color": null,
            "description_width": ""
          }
        },
        "69560869f350435b801928ee1ef27fcc": {
          "model_module": "@jupyter-widgets/base",
          "model_name": "LayoutModel",
          "model_module_version": "1.2.0",
          "state": {
            "_model_module": "@jupyter-widgets/base",
            "_model_module_version": "1.2.0",
            "_model_name": "LayoutModel",
            "_view_count": null,
            "_view_module": "@jupyter-widgets/base",
            "_view_module_version": "1.2.0",
            "_view_name": "LayoutView",
            "align_content": null,
            "align_items": null,
            "align_self": null,
            "border": null,
            "bottom": null,
            "display": null,
            "flex": null,
            "flex_flow": null,
            "grid_area": null,
            "grid_auto_columns": null,
            "grid_auto_flow": null,
            "grid_auto_rows": null,
            "grid_column": null,
            "grid_gap": null,
            "grid_row": null,
            "grid_template_areas": null,
            "grid_template_columns": null,
            "grid_template_rows": null,
            "height": null,
            "justify_content": null,
            "justify_items": null,
            "left": null,
            "margin": null,
            "max_height": null,
            "max_width": null,
            "min_height": null,
            "min_width": null,
            "object_fit": null,
            "object_position": null,
            "order": null,
            "overflow": null,
            "overflow_x": null,
            "overflow_y": null,
            "padding": null,
            "right": null,
            "top": null,
            "visibility": null,
            "width": null
          }
        },
        "888a5f194a914066a01d50b0f09f6e6a": {
          "model_module": "@jupyter-widgets/controls",
          "model_name": "DescriptionStyleModel",
          "model_module_version": "1.5.0",
          "state": {
            "_model_module": "@jupyter-widgets/controls",
            "_model_module_version": "1.5.0",
            "_model_name": "DescriptionStyleModel",
            "_view_count": null,
            "_view_module": "@jupyter-widgets/base",
            "_view_module_version": "1.2.0",
            "_view_name": "StyleView",
            "description_width": ""
          }
        }
      }
    }
  },
  "cells": [
    {
      "cell_type": "markdown",
      "metadata": {
        "id": "view-in-github",
        "colab_type": "text"
      },
      "source": [
        "<a href=\"https://colab.research.google.com/github/a-nawel/CS291K-final-project/blob/main/Fine_Tune_Wav2Vec_Farsi.ipynb\" target=\"_parent\"><img src=\"https://colab.research.google.com/assets/colab-badge.svg\" alt=\"Open In Colab\"/></a>"
      ]
    },
    {
      "cell_type": "markdown",
      "metadata": {
        "id": "LBSYoWbi-45k"
      },
      "source": [
        "# **Fine-tuning XLS-R for Multi-Lingual ASR with 🤗 Transformers**\n",
        "\n",
        "***New (11/2021)***: *This blog post has been updated to feature XLSR's successor, called [XLS-R](https://huggingface.co/models?other=xls_r)*."
      ]
    },
    {
      "cell_type": "markdown",
      "metadata": {
        "id": "V7YOT2mnUiea"
      },
      "source": [
        "**Wav2Vec2** is a pretrained model for Automatic Speech Recognition (ASR) and was released in [September 2020](https://ai.facebook.com/blog/wav2vec-20-learning-the-structure-of-speech-from-raw-audio/) by *Alexei Baevski, Michael Auli, and Alex Conneau*.  Soon after the superior performance of Wav2Vec2 was demonstrated on one of the most popular English datasets for ASR, called [LibriSpeech](https://huggingface.co/datasets/librispeech_asr), *Facebook AI* presented a multi-lingual version of Wav2Vec2, called [XLSR](https://arxiv.org/abs/2006.13979). XLSR stands for *cross-lingual speech representations* and refers to model's ability to learn speech representations that are useful across multiple languages.\n",
        "\n",
        "XLSR's successor, simply called **XLS-R** (refering to the [*''XLM-R*](https://ai.facebook.com/blog/-xlm-r-state-of-the-art-cross-lingual-understanding-through-self-supervision/) *for Speech''*), was released in [November 2021](https://ai.facebook.com/blog/xls-r-self-supervised-speech-processing-for-128-languages) by *Arun Babu, Changhan Wang, Andros Tjandra, et al.* XLS-R used almost **half a million** hours of audio data in 128 languages for self-supervised pre-training and comes in sizes ranging from 300 milion up to **two billion** parameters. You can find the pretrained checkpoints on the 🤗 Hub:\n",
        "\n",
        "- [**Wav2Vec2-XLS-R-300M**](https://huggingface.co/facebook/wav2vec2-xls-r-300m)\n",
        "- [**Wav2Vec2-XLS-R-1B**](https://huggingface.co/facebook/wav2vec2-xls-r-1b)\n",
        "- [**Wav2Vec2-XLS-R-2B**](https://huggingface.co/facebook/wav2vec2-xls-r-2b)\n",
        "\n",
        "Similar to [BERT's masked language modeling objective](http://jalammar.github.io/illustrated-bert/), XLS-R learns contextualized speech representations by randomly masking feature vectors before passing them to a transformer network during self-supervised pre-training (*i.e.* diagram on the left below). \n",
        "\n",
        "For fine-tuning, a single linear layer is added on top of the pre-trained network to train the model on labeled data of audio downstream tasks such as speech recognition, speech translation and audio classification (*i.e.* diagram on the right below).\n",
        "\n",
        "![wav2vec2_structure](https://raw.githubusercontent.com/patrickvonplaten/scientific_images/master/xls_r.png)\n",
        "\n",
        "XLS-R shows impressive improvements over previous state-of-the-art results on both speech recognition, speech translation and speaker/language identification, *cf.* with Table 3-6, Table 7-10, and Table 11-12 respectively of the official [paper](https://ai.facebook.com/blog/xls-r-self-supervised-speech-processing-for-128-languages)."
      ]
    },
    {
      "cell_type": "markdown",
      "metadata": {
        "id": "nT_QrfWtsxIz"
      },
      "source": [
        "## Notebook Setup"
      ]
    },
    {
      "cell_type": "markdown",
      "metadata": {
        "id": "kruqixOYHaIo"
      },
      "source": [
        "\n",
        "In this notebook, we will give an in-detail explanation of how XLS-R - more specifically the pre-trained checkpoint [**Wav2Vec2-XLS-R-300M**](https://huggingface.co/facebook/wav2vec2-xls-r-300m) - can be fine-tuned for ASR.  \n",
        "\n",
        "For demonstration purposes, we fine-tune the model on the low resource ASR dataset of [Common Voice](https://huggingface.co/datasets/common_voice) that contains only *ca.* 4h of validated training data."
      ]
    },
    {
      "cell_type": "markdown",
      "metadata": {
        "id": "Gx9OdDYrCtQ1"
      },
      "source": [
        "XLS-R is fine-tuned using Connectionist Temporal Classification (CTC), which is an algorithm that is used to train neural networks for sequence-to-sequence problems, such as ASR and handwriting recognition. \n",
        "\n",
        "I highly recommend reading the well-written blog post [*Sequence Modeling with CTC (2017)*](https://distill.pub/2017/ctc/) by Awni Hannun."
      ]
    },
    {
      "cell_type": "markdown",
      "metadata": {
        "id": "wcHuXIaWyHZU"
      },
      "source": [
        "First, let's try to get a good GPU in our colab! With Google Colab's free version it's sadly becoming much harder to get access to a good GPU. With Google Colab Pro, however, one should easily get either a V100 or P100 GPU."
      ]
    },
    {
      "cell_type": "code",
      "metadata": {
        "colab": {
          "base_uri": "https://localhost:8080/"
        },
        "id": "YELVqGxMxnbG",
        "outputId": "ac30003e-abb7-4711-94cc-481bd322db22"
      },
      "source": [
        "gpu_info = !nvidia-smi\n",
        "gpu_info = '\\n'.join(gpu_info)\n",
        "if gpu_info.find('failed') >= 0:\n",
        "  print('Not connected to a GPU')\n",
        "else:\n",
        "  print(gpu_info)"
      ],
      "execution_count": null,
      "outputs": [
        {
          "output_type": "stream",
          "name": "stdout",
          "text": [
            "Mon Nov  7 19:32:05 2022       \n",
            "+-----------------------------------------------------------------------------+\n",
            "| NVIDIA-SMI 460.32.03    Driver Version: 460.32.03    CUDA Version: 11.2     |\n",
            "|-------------------------------+----------------------+----------------------+\n",
            "| GPU  Name        Persistence-M| Bus-Id        Disp.A | Volatile Uncorr. ECC |\n",
            "| Fan  Temp  Perf  Pwr:Usage/Cap|         Memory-Usage | GPU-Util  Compute M. |\n",
            "|                               |                      |               MIG M. |\n",
            "|===============================+======================+======================|\n",
            "|   0  Tesla T4            Off  | 00000000:00:04.0 Off |                    0 |\n",
            "| N/A   42C    P8    10W /  70W |      0MiB / 15109MiB |      0%      Default |\n",
            "|                               |                      |                  N/A |\n",
            "+-------------------------------+----------------------+----------------------+\n",
            "                                                                               \n",
            "+-----------------------------------------------------------------------------+\n",
            "| Processes:                                                                  |\n",
            "|  GPU   GI   CI        PID   Type   Process name                  GPU Memory |\n",
            "|        ID   ID                                                   Usage      |\n",
            "|=============================================================================|\n",
            "|  No running processes found                                                 |\n",
            "+-----------------------------------------------------------------------------+\n"
          ]
        }
      ]
    },
    {
      "cell_type": "code",
      "source": [
        "import torch\n",
        "\n",
        "device = 'cuda' if torch.cuda.is_available() else 'cpu'\n",
        "for i in range(100):\n",
        "    torch.rand((10, 20)).to(device)"
      ],
      "metadata": {
        "id": "wh4u4i8SovaD"
      },
      "execution_count": null,
      "outputs": []
    },
    {
      "cell_type": "markdown",
      "metadata": {
        "id": "e335hPmdtASZ"
      },
      "source": [
        "Before we start, let's install `datasets` and `transformers`. Also, we need the `torchaudio` to load audio files and `jiwer` to evaluate our fine-tuned model using the [word error rate (WER)](https://huggingface.co/metrics/wer) metric ${}^1$."
      ]
    },
    {
      "cell_type": "code",
      "metadata": {
        "id": "c8eh87Hoee5d"
      },
      "source": [
        "%%capture\n",
        "!pip install datasets==1.18.3\n",
        "!pip install transformers==4.11.3\n",
        "!pip install torchaudio==0.10.0+cu113 -f https://download.pytorch.org/whl/cu113/torch_stable.html\n",
        "!pip install jiwer"
      ],
      "execution_count": null,
      "outputs": []
    },
    {
      "cell_type": "markdown",
      "metadata": {
        "id": "0xxt_LwxDQlO"
      },
      "source": [
        "We strongly suggest to upload your training checkpoints directly to the [🤗 Hub](https://huggingface.co/) while training. The [🤗 Hub](https://huggingface.co/) has integrated version control so you can be sure that no model checkpoint is getting lost during training. \n",
        "\n",
        "To do so you have to store your authentication token from the Hugging Face website (sign up [here](https://huggingface.co/join) if you haven't already!)"
      ]
    },
    {
      "cell_type": "code",
      "metadata": {
        "colab": {
          "base_uri": "https://localhost:8080/",
          "height": 327,
          "referenced_widgets": [
            "ae4984db0cf344c9836405d5aee460b9",
            "6077290f1a254179af581d53234fb794",
            "b01fe86c71444719810373a46c445b7d",
            "2360b0c3de724d52bac5dafb648a98a9",
            "502fe13b66d7427cb9b8b095af4aaeda",
            "71f75249e01a4da7a4e3fc15cc382666",
            "c1814ebe057145629e77212128bb3b77",
            "74e7d0f6f1064ca8ad04534496d8951c",
            "cd8126155ee0456dbd5b769dc4f6dc28",
            "79a67131deec400783dfefc97a92aef9",
            "b079193f889b451fb10a7e363b03cb55",
            "e0c5a4b7f41e4e9f80f92e5240834cb9",
            "3e198f62fab34e0c9cd153cc57cddce6",
            "6adea8439d5a4e18b2585f73de4bf01a"
          ]
        },
        "id": "mlMSH3T3EazV",
        "outputId": "39835a55-9c58-47c3-8698-562e5293c371"
      },
      "source": [
        "from huggingface_hub import notebook_login\n",
        "\n",
        "notebook_login()"
      ],
      "execution_count": null,
      "outputs": [
        {
          "output_type": "stream",
          "name": "stdout",
          "text": [
            "Login successful\n",
            "Your token has been saved to /root/.huggingface/token\n"
          ]
        }
      ]
    },
    {
      "cell_type": "markdown",
      "metadata": {
        "id": "ujdZ2TxhElk6"
      },
      "source": [
        "\n",
        "Then you need to install Git-LFS to upload your model checkpoints:"
      ]
    },
    {
      "cell_type": "code",
      "metadata": {
        "id": "WcR-d83OEkqb"
      },
      "source": [
        "%%capture\n",
        "!apt install git-lfs"
      ],
      "execution_count": null,
      "outputs": []
    },
    {
      "cell_type": "markdown",
      "metadata": {
        "id": "Mn9swf6EQ9Vd"
      },
      "source": [
        "\n",
        "\n",
        "\n",
        "---\n",
        "\n",
        "${}^1$ In the [paper](https://arxiv.org/pdf/2006.13979.pdf), the model was evaluated using the phoneme error rate (PER), but by far the most common metric in ASR is the word error rate (WER). To keep this notebook as general as possible we decided to evaluate the model using WER."
      ]
    },
    {
      "cell_type": "markdown",
      "metadata": {
        "id": "0mW-C1Nt-j7k"
      },
      "source": [
        "## Prepare Data, Tokenizer, Feature Extractor"
      ]
    },
    {
      "cell_type": "markdown",
      "metadata": {
        "id": "BeBosnY9BH3e"
      },
      "source": [
        "ASR models transcribe speech to text, which means that we both need a feature extractor that processes the speech signal to the model's input format, *e.g.* a feature vector, and a tokenizer that processes the model's output format to text. \n",
        "\n",
        "In 🤗 Transformers, the XLS-R model is thus accompanied by both a tokenizer, called [Wav2Vec2CTCTokenizer](https://huggingface.co/transformers/master/model_doc/wav2vec2.html#wav2vec2ctctokenizer), and a feature extractor, called [Wav2Vec2FeatureExtractor](https://huggingface.co/transformers/master/model_doc/wav2vec2.html#wav2vec2featureextractor).\n",
        "\n",
        "Let's start by creating the tokenizer to decode the predicted output classes to the output transcription."
      ]
    },
    {
      "cell_type": "markdown",
      "metadata": {
        "id": "sEXEWEJGQPqD"
      },
      "source": [
        "### Create `Wav2Vec2CTCTokenizer`"
      ]
    },
    {
      "cell_type": "markdown",
      "metadata": {
        "id": "tWmMikuNEKl_"
      },
      "source": [
        "A pre-trained XLS-R model maps the speech signal to a sequence of context representations as illustrated in the figure above. However, for speech recognition the model has to to map this sequence of context representations to its corresponding transcription which means that a linear layer has to be added on top of the transformer block (shown in yellow in the diagram above). This linear layer is used to classifies each context representation to a token class analogous how, *e.g.*, after pretraining a linear layer is added on top of BERT's embeddings for further classification - *cf.* with *'BERT'* section of this [blog post](https://huggingface.co/blog/warm-starting-encoder-decoder)."
      ]
    },
    {
      "cell_type": "markdown",
      "metadata": {
        "id": "v5oRE8XjIUH3"
      },
      "source": [
        "The output size of this layer corresponds to the number of tokens in the vocabulary, which does **not** depend onXLS-R's pretraining task, but only on the labeled dataset used for fine-tuning. So in the first step, we will take a look at the chosen dataset of Common Voice and define a vocabulary based on the transcriptions."
      ]
    },
    {
      "cell_type": "markdown",
      "metadata": {
        "id": "idBczw8mWzgt"
      },
      "source": [
        "First, let's go to Common Voice [official website](https://commonvoice.mozilla.org/en/datasets) and pick a language to fine-tune XLS-R on. For this notebook, we will use Turkish. \n",
        "\n",
        "For each language-specific dataset, you can find a language code corresponding to your chosen language. On [Common Voice](https://commonvoice.mozilla.org/en/datasets), look for the field \"Version\". The language code then corresponds to the prefix before the underscore. For Turkish, *e.g.* the language code is `\"tr\"`.\n",
        "\n",
        "Great, now we can use 🤗 Datasets' simple API to download the data. The dataset name is `\"common_voice\"`, the configuration name corresponds to the language code, which is `\"tr\"` in our case."
      ]
    },
    {
      "cell_type": "markdown",
      "metadata": {
        "id": "bee4g9rpLxll"
      },
      "source": [
        "Common Voice has many different splits including `invalidated`, which refers to data that was not rated as \"clean enough\" to be considered useful. In this notebook, we will only make use of the splits `\"train\"`, `\"validation\"` and `\"test\"`. \n",
        "\n",
        "Because the Turkish dataset is so small, we will merge both the validation and training data into a training dataset and only use the test data for validation."
      ]
    },
    {
      "cell_type": "code",
      "metadata": {
        "colab": {
          "base_uri": "https://localhost:8080/"
        },
        "id": "2MMXcWFFgCXU",
        "outputId": "9cd02f40-4032-430b-b774-0995fc419f07"
      },
      "source": [
        "from datasets import load_dataset, load_metric, Audio\n",
        "\n",
        "common_voice_train = load_dataset(\"common_voice\", \"fa\", split=\"train+validation[:50%]\")\n",
        "common_voice_test = load_dataset(\"common_voice\", \"fa\", split=\"test[:50%]\")"
      ],
      "execution_count": null,
      "outputs": [
        {
          "output_type": "stream",
          "name": "stderr",
          "text": [
            "WARNING:datasets.builder:Reusing dataset common_voice (/root/.cache/huggingface/datasets/common_voice/fa/6.1.0/5693bfc0feeade582a78c2fb250bc88f52bd86f0a7f1bb22bfee67e715de30fd)\n",
            "WARNING:datasets.builder:Reusing dataset common_voice (/root/.cache/huggingface/datasets/common_voice/fa/6.1.0/5693bfc0feeade582a78c2fb250bc88f52bd86f0a7f1bb22bfee67e715de30fd)\n"
          ]
        }
      ]
    },
    {
      "cell_type": "code",
      "source": [
        "common_voice_train"
      ],
      "metadata": {
        "id": "xW6SA8x_ozOz",
        "outputId": "b35efd6c-4be4-492e-a576-cd6384346d6a",
        "colab": {
          "base_uri": "https://localhost:8080/"
        }
      },
      "execution_count": null,
      "outputs": [
        {
          "output_type": "execute_result",
          "data": {
            "text/plain": [
              "Dataset({\n",
              "    features: ['client_id', 'path', 'audio', 'sentence', 'up_votes', 'down_votes', 'age', 'gender', 'accent', 'locale', 'segment'],\n",
              "    num_rows: 10199\n",
              "})"
            ]
          },
          "metadata": {},
          "execution_count": 11
        }
      ]
    },
    {
      "cell_type": "code",
      "source": [
        "common_voice_test"
      ],
      "metadata": {
        "id": "bIIKhs_NpEhI",
        "outputId": "7e4e3b8f-5064-490e-df79-8114350ed8dc",
        "colab": {
          "base_uri": "https://localhost:8080/"
        }
      },
      "execution_count": null,
      "outputs": [
        {
          "output_type": "execute_result",
          "data": {
            "text/plain": [
              "Dataset({\n",
              "    features: ['client_id', 'path', 'audio', 'sentence', 'up_votes', 'down_votes', 'age', 'gender', 'accent', 'locale', 'segment'],\n",
              "    num_rows: 2606\n",
              "})"
            ]
          },
          "metadata": {},
          "execution_count": 12
        }
      ]
    },
    {
      "cell_type": "markdown",
      "metadata": {
        "id": "ri5y5N_HMANq"
      },
      "source": [
        "Many ASR datasets only provide the target text, `'sentence'` for each audio array `'audio'` and file `'path'`. Common Voice actually provides much more information about each audio file, such as the `'accent'`, etc. Keeping the notebook as general as possible, we only consider the transcribed text for fine-tuning.\n",
        "\n"
      ]
    },
    {
      "cell_type": "code",
      "metadata": {
        "id": "kbyq6lDgQc2a"
      },
      "source": [
        "common_voice_train = common_voice_train.remove_columns([\"accent\", \"age\", \"client_id\", \"down_votes\", \"gender\", \"locale\", \"segment\", \"up_votes\"])\n",
        "common_voice_test = common_voice_test.remove_columns([\"accent\", \"age\", \"client_id\", \"down_votes\", \"gender\", \"locale\", \"segment\", \"up_votes\"])"
      ],
      "execution_count": null,
      "outputs": []
    },
    {
      "cell_type": "markdown",
      "metadata": {
        "id": "Go9Hq4e4NDT9"
      },
      "source": [
        "Let's write a short function to display some random samples of the dataset and run it a couple of times to get a feeling for the transcriptions."
      ]
    },
    {
      "cell_type": "code",
      "metadata": {
        "id": "72737oog2F6U"
      },
      "source": [
        "from datasets import ClassLabel\n",
        "import random\n",
        "import pandas as pd\n",
        "from IPython.display import display, HTML\n",
        "\n",
        "def show_random_elements(dataset, num_examples=10):\n",
        "    assert num_examples <= len(dataset), \"Can't pick more elements than there are in the dataset.\"\n",
        "    picks = []\n",
        "    for _ in range(num_examples):\n",
        "        pick = random.randint(0, len(dataset)-1)\n",
        "        while pick in picks:\n",
        "            pick = random.randint(0, len(dataset)-1)\n",
        "        picks.append(pick)\n",
        "    \n",
        "    df = pd.DataFrame(dataset[picks])\n",
        "    display(HTML(df.to_html()))"
      ],
      "execution_count": null,
      "outputs": []
    },
    {
      "cell_type": "code",
      "metadata": {
        "colab": {
          "base_uri": "https://localhost:8080/",
          "height": 363
        },
        "id": "K_JUmf3G3b9S",
        "outputId": "618be6d8-04d8-4262-c842-c47eeed25899"
      },
      "source": [
        "show_random_elements(common_voice_train.remove_columns([\"path\", \"audio\"]), num_examples=10)"
      ],
      "execution_count": null,
      "outputs": [
        {
          "output_type": "display_data",
          "data": {
            "text/plain": [
              "<IPython.core.display.HTML object>"
            ],
            "text/html": [
              "<table border=\"1\" class=\"dataframe\">\n",
              "  <thead>\n",
              "    <tr style=\"text-align: right;\">\n",
              "      <th></th>\n",
              "      <th>sentence</th>\n",
              "    </tr>\n",
              "  </thead>\n",
              "  <tbody>\n",
              "    <tr>\n",
              "      <th>0</th>\n",
              "      <td>آلا</td>\n",
              "    </tr>\n",
              "    <tr>\n",
              "      <th>1</th>\n",
              "      <td>اون یکی گوشواره کجاست؟</td>\n",
              "    </tr>\n",
              "    <tr>\n",
              "      <th>2</th>\n",
              "      <td>سرویس پیرکس</td>\n",
              "    </tr>\n",
              "    <tr>\n",
              "      <th>3</th>\n",
              "      <td>دفترداری دوطرفه</td>\n",
              "    </tr>\n",
              "    <tr>\n",
              "      <th>4</th>\n",
              "      <td>همچنین در فرانسه در طلیعه قرن هفدهم</td>\n",
              "    </tr>\n",
              "    <tr>\n",
              "      <th>5</th>\n",
              "      <td>امروز هیچ کاری نکردم و فقط از اتمسفر پاییز لذت بردم</td>\n",
              "    </tr>\n",
              "    <tr>\n",
              "      <th>6</th>\n",
              "      <td>سورینام</td>\n",
              "    </tr>\n",
              "    <tr>\n",
              "      <th>7</th>\n",
              "      <td>سلبریتی های ضد مردمی یا هنربندان</td>\n",
              "    </tr>\n",
              "    <tr>\n",
              "      <th>8</th>\n",
              "      <td>باید عاشق حرف زدن باشی</td>\n",
              "    </tr>\n",
              "    <tr>\n",
              "      <th>9</th>\n",
              "      <td>ما هم سن این بودیم بهمون می گفتن حاج خانم.</td>\n",
              "    </tr>\n",
              "  </tbody>\n",
              "</table>"
            ]
          },
          "metadata": {}
        }
      ]
    },
    {
      "cell_type": "markdown",
      "metadata": {
        "id": "fowcOllGNNju"
      },
      "source": [
        "Alright! The transcriptions look fairly clean. Having translated the transcribed sentences, it seems that the language corresponds more to written-out text than noisy dialogue. This makes sense considering that [Common Voice](https://huggingface.co/datasets/common_voice) is a crowd-sourced read speech corpus."
      ]
    },
    {
      "cell_type": "markdown",
      "metadata": {
        "id": "vq7OR50LN49m"
      },
      "source": [
        "We can see that the transcriptions contain some special characters, such as `,.?!;:`. Without a language model, it is much harder to classify speech chunks to such special characters because they don't really correspond to a characteristic sound unit. *E.g.*, the letter `\"s\"` has a more or less clear sound, whereas the special character `\".\"` does not.\n",
        "Also in order to understand the meaning of a speech signal, it is usually not necessary to include special characters in the transcription.\n",
        "\n",
        "Let's simply remove all characters that don't contribute to the meaning of a word and cannot really be represented by an acoustic sound and normalize the text."
      ]
    },
    {
      "cell_type": "code",
      "source": [
        "clean_char_dict = {\n",
        "    'ﺑ' : 'ب',\n",
        "    'ﻋ' : 'ع',\n",
        "    'ﻪ' : 'ه',\n",
        "    'ﺒ' : 'ب',\n",
        "    'ﺮ' : 'ر',\n",
        "    'ﮔ' : 'گ',\n",
        "    'ﺷ' : 'ش',\n",
        "    'ﭘ' : 'پ',\n",
        "    'ﺴ' : 'س',\n",
        "    'ﻀ' : 'ض',\n",
        "    'ﺸ' : 'ش',\n",
        "    'ﯽ' : 'ی',\n",
        "    'ﻧ' : 'ن',\n",
        "    'ﺪ' : 'د',\n",
        "    'ﺖ' : 'ت',\n",
        "    'ﻟ' : 'ل',\n",
        "    'ﻮ' : 'و',\n",
        "    'ﯿ' : 'ی',\n",
        "    'ك' : 'ک',\n",
        "    'ﺎ' : 'ا',\n",
        "    'ے' : 'ی',\n",
        "    'ﯾ' : 'ی',\n",
        "    'ا' : 'ا',\n",
        "    'آ' : 'ا',\n",
        "    'ﻤ' : 'م',\n",
        "    'ي' : 'ی',\n",
        "    'ﺘ' : 'ت',\n",
        "    'ﺧ' : 'خ',\n",
        "    'ء' : '',\n",
        "    'ﮐ' : 'ک',\n",
        "    '٬' : '',\n",
        "    'ﺍ' : 'ا',\n",
        "    'ﻌ' : 'ع',\n",
        "    'ٔ' : '',\n",
        "    'ﻡ' : 'م',\n",
        "    'ﻢ' : 'م',\n",
        "    'ﺱ' : 'س',\n",
        "    'ﻥ' : 'ن',\n",
        "    'ﻥ' : 'ن',\n",
        "    'ى' : 'ی',\n",
        "    'ﺭ' : 'ر',\n",
        "    'ﺩ' : 'د',\n",
        "    'ﻭ' : 'و'\n",
        "}"
      ],
      "metadata": {
        "id": "M7-3iP0CV8Rj"
      },
      "execution_count": null,
      "outputs": []
    },
    {
      "cell_type": "code",
      "metadata": {
        "id": "svKzVJ_hQGK6"
      },
      "source": [
        "import re\n",
        "chars_to_remove_regex = '[\\,\\؟\\.\\!\\-\\;\\:\\'\\\"\\☭\\«\\»\\؛\\—\\ـ\\_\\،\\“\\%\\‘\\”\\�\\…\\–\\#\\&\\)\\(]'\n",
        "\n",
        "def remove_special_characters(batch):\n",
        "    batch[\"sentence\"] = re.sub(chars_to_remove_regex, '', batch[\"sentence\"]).lower() + \" \"\n",
        "    batch[\"sentence\"] = re.sub('[a-z]','',batch[\"sentence\"])\n",
        "    # batch[\"sentence\"] = re.sub(\"[إأٱآا]\", \"ا\", batch[\"sentence\"])\n",
        "    noise = re.compile(\"\"\" ّ    | # Tashdid\n",
        "                             َ    | # Fatha\n",
        "                             ً    | # Tanwin Fath\n",
        "                             ُ    | # Damma\n",
        "                             ٌ    | # Tanwin Damm\n",
        "                             ِ    | # Kasra\n",
        "                             ٍ    | # Tanwin Kasr\n",
        "                             ْ    | # Sukun\n",
        "                             ـ   | # Tatwil/Kashida\n",
        "                             'ۚ   | # Something weird\n",
        "                             'ۖ   | # Another weird thing\n",
        "                             'ٰ   | # More weird things\n",
        "                         \"\"\", re.VERBOSE)\n",
        "    batch[\"sentence\"] = re.sub(noise, '', batch[\"sentence\"])\n",
        "    for char in clean_char_dict:\n",
        "        batch[\"sentence\"] = re.sub('[' + char + ']', clean_char_dict[char], batch['sentence'])\n",
        "    return batch"
      ],
      "execution_count": null,
      "outputs": []
    },
    {
      "cell_type": "code",
      "metadata": {
        "colab": {
          "base_uri": "https://localhost:8080/",
          "height": 119,
          "referenced_widgets": [
            "683579bf0ef3443eaadcd4a90446f8b7",
            "63f9592e587d4bc79280015bdc3600d1",
            "a0391278e310463d897d00c7a15d4237",
            "8834543e506a4a52b7568cf160757396",
            "fb79408f1d724f5a8db4027f87e33675",
            "c054465718cf4cb6afeec20773f5ef2e",
            "981154b141de4bd4a9894c0f894c6db0",
            "7997c73b9a944ab995bc6765eca69c02",
            "82db58fa4a25469d902271e612af3504",
            "7b6005e6c3654c3cad04c452b8bdec27",
            "e3a2fa5dd3874a00b09451752d56a699",
            "b977f505c6ab4933bd0b8119522b3db8",
            "48b1160027d0426cacd874ac2b473ce3",
            "3988d7f26a6e4342a515e34cdcd40eb6",
            "e95f71e29a6b43579308226d9b8b3e6b",
            "a0832e6d1dd0467995a5fd5f19493fc2",
            "afabd2d205b2476f9dc40ae662a418af",
            "12e39ad448184106aae0dddc53340fa4",
            "dc836591d94f4fec918ce62a8afa1bf3",
            "1020a2c9824c4f64ab9e4634980c339e",
            "83e91ec63a4c481fb8fc030c9c795ae0",
            "310d5822825445b4994f8e9e2bd07001"
          ]
        },
        "id": "XIHocAuTQbBR",
        "outputId": "fa4b60a5-b1e1-4f9d-8efc-6cdc9d0e59f5"
      },
      "source": [
        "common_voice_train = common_voice_train.map(remove_special_characters)\n",
        "common_voice_test = common_voice_test.map(remove_special_characters)"
      ],
      "execution_count": null,
      "outputs": [
        {
          "output_type": "stream",
          "name": "stderr",
          "text": [
            "WARNING:datasets.fingerprint:Parameter 'function'=<function remove_special_characters at 0x7f034e47bf80> of the transform datasets.arrow_dataset.Dataset._map_single couldn't be hashed properly, a random hash was used instead. Make sure your transforms and parameters are serializable with pickle or dill for the dataset fingerprinting and caching to work. If you reuse this transform, the caching mechanism will consider it to be different from the previous calls and recompute everything. This warning is only showed once. Subsequent hashing failures won't be showed.\n"
          ]
        },
        {
          "output_type": "display_data",
          "data": {
            "text/plain": [
              "0ex [00:00, ?ex/s]"
            ],
            "application/vnd.jupyter.widget-view+json": {
              "version_major": 2,
              "version_minor": 0,
              "model_id": "683579bf0ef3443eaadcd4a90446f8b7"
            }
          },
          "metadata": {}
        },
        {
          "output_type": "display_data",
          "data": {
            "text/plain": [
              "0ex [00:00, ?ex/s]"
            ],
            "application/vnd.jupyter.widget-view+json": {
              "version_major": 2,
              "version_minor": 0,
              "model_id": "b977f505c6ab4933bd0b8119522b3db8"
            }
          },
          "metadata": {}
        }
      ]
    },
    {
      "cell_type": "markdown",
      "metadata": {
        "id": "TxnVS9gIhIma"
      },
      "source": [
        "Let's look at the processed text labels again."
      ]
    },
    {
      "cell_type": "code",
      "metadata": {
        "colab": {
          "base_uri": "https://localhost:8080/",
          "height": 363
        },
        "id": "RBDRAAYxRE6n",
        "outputId": "5fd6b4b1-5306-4180-cc79-285205e5e26c"
      },
      "source": [
        "show_random_elements(common_voice_train.remove_columns([\"path\",\"audio\"]))"
      ],
      "execution_count": null,
      "outputs": [
        {
          "output_type": "display_data",
          "data": {
            "text/plain": [
              "<IPython.core.display.HTML object>"
            ],
            "text/html": [
              "<table border=\"1\" class=\"dataframe\">\n",
              "  <thead>\n",
              "    <tr style=\"text-align: right;\">\n",
              "      <th></th>\n",
              "      <th>sentence</th>\n",
              "    </tr>\n",
              "  </thead>\n",
              "  <tbody>\n",
              "    <tr>\n",
              "      <th>0</th>\n",
              "      <td>چندلر هم اصلا نمی فهمه</td>\n",
              "    </tr>\n",
              "    <tr>\n",
              "      <th>1</th>\n",
              "      <td>مینا زنت حالش خوبه زایمان کرد</td>\n",
              "    </tr>\n",
              "    <tr>\n",
              "      <th>2</th>\n",
              "      <td>ساعت من عقب است</td>\n",
              "    </tr>\n",
              "    <tr>\n",
              "      <th>3</th>\n",
              "      <td>اترین</td>\n",
              "    </tr>\n",
              "    <tr>\n",
              "      <th>4</th>\n",
              "      <td>رضا چهلوسه ساله به سمت سارا میچرخد</td>\n",
              "    </tr>\n",
              "    <tr>\n",
              "      <th>5</th>\n",
              "      <td>اما بطور جدی هرچند این عملیات تجاری چه مفهومی برای شما خواهد داشت</td>\n",
              "    </tr>\n",
              "    <tr>\n",
              "      <th>6</th>\n",
              "      <td>این بحرانهای فوری ممکن است در زندگی شما یا اطرافیانتان دیده نشوند</td>\n",
              "    </tr>\n",
              "    <tr>\n",
              "      <th>7</th>\n",
              "      <td>درحالی که هرسال که خودش پاک میکرد اه و ناله ش به راه بود</td>\n",
              "    </tr>\n",
              "    <tr>\n",
              "      <th>8</th>\n",
              "      <td>ایا هتل دیگری در این نزدیکی وجود دارد</td>\n",
              "    </tr>\n",
              "    <tr>\n",
              "      <th>9</th>\n",
              "      <td>می توانید یه بطری شراب دیگر بیاورید</td>\n",
              "    </tr>\n",
              "  </tbody>\n",
              "</table>"
            ]
          },
          "metadata": {}
        }
      ]
    },
    {
      "cell_type": "markdown",
      "metadata": {
        "id": "jwfaptH5RJwA"
      },
      "source": [
        "Good! This looks better. We have removed most special characters from transcriptions and normalized them to lower-case only.\n",
        "\n",
        "Before finalizing the pre-processing, it is always advantageous to consult a native speaker of the target language to see whether the text can be further simplified. \n",
        "For this blog post, [Merve](https://twitter.com/mervenoyann) was kind enough to take a quick look and noted that \"hatted\" characters - like `â` - aren't really used anymore in Turkish and can be replaced by their \"un-hatted\" equivalent, *e.g.* `a`. \n",
        "\n",
        "This means that we should replace a sentence like `\"yargı sistemi hâlâ sağlıksız\"` to `\"yargı sistemi hala sağlıksız\"`.\n",
        "\n",
        "Let's write another short mapping function to further simplify the text labels. Remember - the simler the text labels, the easier it is for the model to learn to predict those labels.\n",
        "\n"
      ]
    },
    {
      "cell_type": "code",
      "metadata": {
        "id": "aZcrz6z7lgGm"
      },
      "source": [
        "def replace_hatted_characters(batch):\n",
        "    batch[\"sentence\"] = re.sub('[â]', 'a', batch[\"sentence\"])\n",
        "    batch[\"sentence\"] = re.sub('[î]', 'i', batch[\"sentence\"])\n",
        "    batch[\"sentence\"] = re.sub('[ô]', 'o', batch[\"sentence\"])\n",
        "    batch[\"sentence\"] = re.sub('[û]', 'u', batch[\"sentence\"])\n",
        "    return batch"
      ],
      "execution_count": null,
      "outputs": []
    },
    {
      "cell_type": "code",
      "metadata": {
        "colab": {
          "base_uri": "https://localhost:8080/",
          "height": 81,
          "referenced_widgets": [
            "4ddd4b9ace534a67ba35a177a52645b5",
            "3b975c458b4c44779c0c884c19802393",
            "7709a4749569406ba16d9e95afff76de",
            "d41af031751145ef926471be005144b9",
            "630d93b541284a618e85c02a964aae2f",
            "3caad37a646449a198cdb653a402cf5f",
            "f20ac9a73dd2412cacf211552a8c10f5",
            "dd0cff8b754f4d41bf3b23855ac28949",
            "a9170f4ea7d64991acba5f32d161c9ef",
            "6aa15982b90b4e73b9fe09013b1b6232",
            "b257e0e73aa246e2946098d9e8cf605d",
            "9abf8c976e294815844db443d92ebba0",
            "198c7432ff0a434a9a0d8f5a28356430",
            "d141f999cd9442878c553d76328c467b",
            "ff665f54394948b2a3bfe9b36e3457df",
            "ed3b4c8d32b7475498eb64d000fa7bfc",
            "275c64f1ef124da6bf9cb9a6b0e149dc",
            "38a9f50f330d4b789a68ccaf106424a5",
            "cdf9a7427e9f4fecba48e65e98da0764",
            "1b839d4bc9fb43ccb8373f98a416e075",
            "0f9360c0bfd04325bacc68ca44ef9441",
            "c5bcc6d619db41418bb00a8d110fb9f0"
          ]
        },
        "id": "ieGhhND5mSwI",
        "outputId": "6f152af6-eaf9-456a-8c99-58492e849ae7"
      },
      "source": [
        "common_voice_train = common_voice_train.map(replace_hatted_characters)\n",
        "common_voice_test = common_voice_test.map(replace_hatted_characters)"
      ],
      "execution_count": null,
      "outputs": [
        {
          "output_type": "display_data",
          "data": {
            "text/plain": [
              "0ex [00:00, ?ex/s]"
            ],
            "application/vnd.jupyter.widget-view+json": {
              "version_major": 2,
              "version_minor": 0,
              "model_id": "4ddd4b9ace534a67ba35a177a52645b5"
            }
          },
          "metadata": {}
        },
        {
          "output_type": "display_data",
          "data": {
            "text/plain": [
              "0ex [00:00, ?ex/s]"
            ],
            "application/vnd.jupyter.widget-view+json": {
              "version_major": 2,
              "version_minor": 0,
              "model_id": "9abf8c976e294815844db443d92ebba0"
            }
          },
          "metadata": {}
        }
      ]
    },
    {
      "cell_type": "markdown",
      "metadata": {
        "id": "3ORHDb2Th2TW"
      },
      "source": [
        "In CTC, it is common to classify speech chunks into letters, so we will do the same here. \n",
        "Let's extract all distinct letters of the training and test data and build our vocabulary from this set of letters.\n",
        "\n",
        "We write a mapping function that concatenates all transcriptions into one long transcription and then transforms the string into a set of chars. \n",
        "It is important to pass the argument `batched=True` to the `map(...)` function so that the mapping function has access to all transcriptions at once."
      ]
    },
    {
      "cell_type": "code",
      "metadata": {
        "id": "LwCshNbbeRZR"
      },
      "source": [
        "def extract_all_chars(batch):\n",
        "  all_text = \" \".join(batch[\"sentence\"])\n",
        "  vocab = list(set(all_text))\n",
        "  return {\"vocab\": [vocab], \"all_text\": [all_text]}"
      ],
      "execution_count": null,
      "outputs": []
    },
    {
      "cell_type": "code",
      "metadata": {
        "colab": {
          "base_uri": "https://localhost:8080/",
          "height": 81,
          "referenced_widgets": [
            "88ab641ef2984f75ae5d41fe5dbfcc47",
            "68c3e2eb323d400aa00012420c4e467e",
            "b7dc1a0d60874e2cb1f6b29fa000e025",
            "0b8cdeb1ed9b46518921cf741248723a",
            "07b6803a59db4ca7a0e0c4ccb1ed40b7",
            "c7fbbd996a1e4f418f89037b4fd37338",
            "ddc3462e1984451d815189a05c73db67",
            "10523bce23634f2cba2083ea7c4eb031",
            "9bd6b6b77e9e4550918a5774ff007022",
            "aa1c2d29b6cc4df5a969e77f9e5a353a",
            "82b245f8e261419ba374c98ce4e1eed2",
            "4ff9fab48873460898da8f1d3dd84efe",
            "659ab7b2949b4a129da621c3f1c8f2bf",
            "14235904a49d44ac9f12937dc86c9d18",
            "18f5b6ebace84733bc65e714eacf8610",
            "15eb396937d1408aac8d61f9c64cfe6f",
            "9bc512efb55442ffad9ca54e403d7084",
            "69a7858c8b604fd3b2a9ca2a7091a400",
            "07d1d140279d494c949b5074970b5687",
            "da342c970fb1436ea0ac0130ef7d76c8",
            "ea5fc8847ba843cb831bb008de8edd7d",
            "004c7ff09b484c51806fc3b990a81807"
          ]
        },
        "id": "_m6uUjjcfbjH",
        "outputId": "74c88f76-49ff-4044-e3b7-f703b8761498"
      },
      "source": [
        "vocab_train = common_voice_train.map(extract_all_chars, batched=True, batch_size=-1, keep_in_memory=True, remove_columns=common_voice_train.column_names)\n",
        "vocab_test = common_voice_test.map(extract_all_chars, batched=True, batch_size=-1, keep_in_memory=True, remove_columns=common_voice_test.column_names)"
      ],
      "execution_count": null,
      "outputs": [
        {
          "output_type": "display_data",
          "data": {
            "text/plain": [
              "  0%|          | 0/1 [00:00<?, ?ba/s]"
            ],
            "application/vnd.jupyter.widget-view+json": {
              "version_major": 2,
              "version_minor": 0,
              "model_id": "88ab641ef2984f75ae5d41fe5dbfcc47"
            }
          },
          "metadata": {}
        },
        {
          "output_type": "display_data",
          "data": {
            "text/plain": [
              "  0%|          | 0/1 [00:00<?, ?ba/s]"
            ],
            "application/vnd.jupyter.widget-view+json": {
              "version_major": 2,
              "version_minor": 0,
              "model_id": "4ff9fab48873460898da8f1d3dd84efe"
            }
          },
          "metadata": {}
        }
      ]
    },
    {
      "cell_type": "markdown",
      "metadata": {
        "id": "7oVgE8RZSJNP"
      },
      "source": [
        "Now, we create the union of all distinct letters in the training dataset and test dataset and convert the resulting list into an enumerated dictionary."
      ]
    },
    {
      "cell_type": "code",
      "metadata": {
        "id": "aQfneNsmlJI0"
      },
      "source": [
        "vocab_list = list(set(vocab_train[\"vocab\"][0]) | set(vocab_test[\"vocab\"][0]))"
      ],
      "execution_count": null,
      "outputs": []
    },
    {
      "cell_type": "code",
      "metadata": {
        "colab": {
          "base_uri": "https://localhost:8080/"
        },
        "id": "_0kRndSvqaKk",
        "outputId": "f37fe811-33ee-4cee-b060-8e8a838c3225"
      },
      "source": [
        "vocab_dict = {v: k for k, v in enumerate(sorted(vocab_list))}\n",
        "vocab_dict"
      ],
      "execution_count": null,
      "outputs": [
        {
          "output_type": "execute_result",
          "data": {
            "text/plain": [
              "{' ': 0,\n",
              " 'ā': 1,\n",
              " 'š': 2,\n",
              " 'أ': 3,\n",
              " 'ؤ': 4,\n",
              " 'ئ': 5,\n",
              " 'ا': 6,\n",
              " 'ب': 7,\n",
              " 'ة': 8,\n",
              " 'ت': 9,\n",
              " 'ث': 10,\n",
              " 'ج': 11,\n",
              " 'ح': 12,\n",
              " 'خ': 13,\n",
              " 'د': 14,\n",
              " 'ذ': 15,\n",
              " 'ر': 16,\n",
              " 'ز': 17,\n",
              " 'س': 18,\n",
              " 'ش': 19,\n",
              " 'ص': 20,\n",
              " 'ض': 21,\n",
              " 'ط': 22,\n",
              " 'ظ': 23,\n",
              " 'ع': 24,\n",
              " 'غ': 25,\n",
              " 'ف': 26,\n",
              " 'ق': 27,\n",
              " 'ل': 28,\n",
              " 'م': 29,\n",
              " 'ن': 30,\n",
              " 'ه': 31,\n",
              " 'و': 32,\n",
              " 'پ': 33,\n",
              " 'چ': 34,\n",
              " 'ژ': 35,\n",
              " 'ک': 36,\n",
              " 'گ': 37,\n",
              " 'ۀ': 38,\n",
              " 'ی': 39}"
            ]
          },
          "metadata": {},
          "execution_count": 23
        }
      ]
    },
    {
      "cell_type": "markdown",
      "metadata": {
        "id": "JOSzbvs9SXT1"
      },
      "source": [
        "Cool, we see that all letters of the alphabet occur in the dataset (which is not really surprising) and we also extracted the special characters `\"\"` and `'`. Note that we did not exclude those special characters because: \n",
        "\n",
        "The model has to learn to predict when a word is finished or else the model prediction would always be a sequence of chars which would make it impossible to separate words from each other.\n",
        "\n",
        "One should always keep in mind that pre-processing is a very important step before training your model. E.g., we don't want our model to differentiate between `a` and `A` just because we forgot to normalize the data. The difference between `a` and `A` does not depend on the \"sound\" of the letter at all, but more on grammatical rules - *e.g.* use a capitalized letter at the beginning of the sentence. So it is sensible to remove the difference between capitalized and non-capitalized letters so that the model has an easier time learning to transcribe speech. "
      ]
    },
    {
      "cell_type": "markdown",
      "metadata": {
        "id": "b1fBRCn-TRaO"
      },
      "source": [
        "To make it clearer that `\" \"` has its own token class, we give it a more visible character `|`. In addition, we also add an \"unknown\" token so that the model can later deal with characters not encountered in Common Voice's training set. "
      ]
    },
    {
      "cell_type": "code",
      "metadata": {
        "id": "npbIbBoLgaFX"
      },
      "source": [
        "vocab_dict[\"|\"] = vocab_dict[\" \"]\n",
        "del vocab_dict[\" \"]"
      ],
      "execution_count": null,
      "outputs": []
    },
    {
      "cell_type": "markdown",
      "metadata": {
        "id": "_9yCWg4Sd0cb"
      },
      "source": [
        "Finally, we also add a padding token that corresponds to CTC's \"*blank token*\". The \"blank token\" is a core component of the CTC algorithm. For more information, please take a look at the \"Alignment\" section [here](https://distill.pub/2017/ctc/)."
      ]
    },
    {
      "cell_type": "code",
      "metadata": {
        "colab": {
          "base_uri": "https://localhost:8080/"
        },
        "id": "znF0bNunsjbl",
        "outputId": "e3e6c7f9-96a7-4157-b165-a3c1a7faae9d"
      },
      "source": [
        "vocab_dict[\"[UNK]\"] = len(vocab_dict)\n",
        "vocab_dict[\"[PAD]\"] = len(vocab_dict)\n",
        "len(vocab_dict)"
      ],
      "execution_count": null,
      "outputs": [
        {
          "output_type": "execute_result",
          "data": {
            "text/plain": [
              "42"
            ]
          },
          "metadata": {},
          "execution_count": 25
        }
      ]
    },
    {
      "cell_type": "markdown",
      "metadata": {
        "id": "SFPGfet8U5sL"
      },
      "source": [
        "Cool, now our vocabulary is complete and consists of 39 tokens, which means that the linear layer that we will add on top of the pretrained XLS-R checkpoint will have an output dimension of 39."
      ]
    },
    {
      "cell_type": "markdown",
      "metadata": {
        "id": "1CujRgBNVRaD"
      },
      "source": [
        "Let's now save the vocabulary as a json file."
      ]
    },
    {
      "cell_type": "code",
      "metadata": {
        "id": "ehyUoh9vk191"
      },
      "source": [
        "import json\n",
        "with open('vocab.json', 'w') as vocab_file:\n",
        "    json.dump(vocab_dict, vocab_file)"
      ],
      "execution_count": null,
      "outputs": []
    },
    {
      "cell_type": "markdown",
      "metadata": {
        "id": "SHJDaKlIVVim"
      },
      "source": [
        "In a final step, we use the json file to load the vocabulary into an instance of the `Wav2Vec2CTCTokenizer` class."
      ]
    },
    {
      "cell_type": "code",
      "metadata": {
        "id": "xriFGEWQkO4M"
      },
      "source": [
        "from transformers import Wav2Vec2CTCTokenizer\n",
        "\n",
        "tokenizer = Wav2Vec2CTCTokenizer(\"./vocab.json\", unk_token=\"[UNK]\", pad_token=\"[PAD]\", word_delimiter_token=\"|\")"
      ],
      "execution_count": null,
      "outputs": []
    },
    {
      "cell_type": "code",
      "source": [
        "tokenizer.vocab_size"
      ],
      "metadata": {
        "colab": {
          "base_uri": "https://localhost:8080/"
        },
        "id": "_1WDumo3W3NF",
        "outputId": "15582822-6013-4ea2-cd98-897fe7122ba0"
      },
      "execution_count": null,
      "outputs": [
        {
          "output_type": "execute_result",
          "data": {
            "text/plain": [
              "42"
            ]
          },
          "metadata": {},
          "execution_count": 28
        }
      ]
    },
    {
      "cell_type": "markdown",
      "metadata": {
        "id": "KvL12DrNV4cx"
      },
      "source": [
        "If one wants to re-use the just created tokenizer with the fine-tuned model of this notebook, it is strongly advised to upload the `tokenizer` to the [🤗 Hub](https://huggingface.co/). Let's call the repo to which we will upload the files\n",
        "`\"wav2vec2-large-xlsr-turkish-demo-colab\"`:"
      ]
    },
    {
      "cell_type": "code",
      "metadata": {
        "id": "A1XApZBAF2zr"
      },
      "source": [
        "repo_name = \"wav2vec2-large-xls-r-300m-turkish-colab\""
      ],
      "execution_count": null,
      "outputs": []
    },
    {
      "cell_type": "markdown",
      "metadata": {
        "id": "B1BiezWZF16d"
      },
      "source": [
        "and upload the tokenizer to the [🤗 Hub](https://huggingface.co/)."
      ]
    },
    {
      "cell_type": "code",
      "metadata": {
        "colab": {
          "base_uri": "https://localhost:8080/",
          "height": 199
        },
        "id": "zytE1175GAKM",
        "outputId": "bbe63dbe-0639-4468-9a3a-687bb8b3bb6e"
      },
      "source": [
        "tokenizer.push_to_hub(repo_name)"
      ],
      "execution_count": null,
      "outputs": [
        {
          "name": "stderr",
          "output_type": "stream",
          "text": [
            "/usr/local/lib/python3.7/dist-packages/huggingface_hub/hf_api.py:718: FutureWarning: `create_repo` now takes `token` as an optional positional argument. Be sure to adapt your code!\n",
            "  FutureWarning,\n",
            "/usr/local/lib/python3.7/dist-packages/huggingface_hub/hf_api.py:718: FutureWarning: `create_repo` now takes `token` as an optional positional argument. Be sure to adapt your code!\n",
            "  FutureWarning,\n",
            "Cloning https://huggingface.co/patrickvonplaten/wav2vec2-large-xls-r-300m-turkish-colab into local empty directory.\n",
            "To https://huggingface.co/patrickvonplaten/wav2vec2-large-xls-r-300m-turkish-colab\n",
            "   54dbd42..56ebe74  main -> main\n",
            "\n"
          ]
        },
        {
          "data": {
            "application/vnd.google.colaboratory.intrinsic+json": {
              "type": "string"
            },
            "text/plain": [
              "'https://huggingface.co/patrickvonplaten/wav2vec2-large-xls-r-300m-turkish-colab/commit/56ebe744b5acf5853233e4425bd914b938c4f013'"
            ]
          },
          "execution_count": 53,
          "metadata": {},
          "output_type": "execute_result"
        }
      ]
    },
    {
      "cell_type": "markdown",
      "metadata": {
        "id": "SwQM8lH_GGuP"
      },
      "source": [
        "Great, you can see the just created repository under `https://huggingface.co/<your-username>/wav2vec2-large-xls-r-300m-tr-colab`"
      ]
    },
    {
      "cell_type": "markdown",
      "metadata": {
        "id": "mYcIiR2FQ96i"
      },
      "source": [
        "### Create `Wav2Vec2FeatureExtractor`"
      ]
    },
    {
      "cell_type": "markdown",
      "metadata": {
        "id": "Y6mDEyW719rx"
      },
      "source": [
        "Speech is a continuous signal and to be treated by computers, it first has to be discretized, which is usually called **sampling**. The sampling rate hereby plays an important role in that it defines how many data points of the speech signal are measured per second. Therefore, sampling with a higher sampling rate results in a better approximation of the *real* speech signal but also necessitates more values per second.\n",
        "\n",
        "A pretrained checkpoint expects its input data to have been sampled more or less from the same distribution as the data it was trained on. The same speech signals sampled at two different rates have a very different distribution, *e.g.*, doubling the sampling rate results in data points being twice as long. Thus, \n",
        "before fine-tuning a pretrained checkpoint of an ASR model, it is crucial to verify that the sampling rate of the data that was used to pretrain the model matches the sampling rate of the dataset used to fine-tune the model.\n",
        "\n",
        "XLS-R was pretrained on audio data of [Babel](http://www.reading.ac.uk/AcaDepts/ll/speechlab/babel/r), \n",
        "[Multilingual LibriSpeech (MLS)](https://huggingface.co/datasets/multilingual_librispeech), [Common Voice](https://huggingface.co/datasets/common_voice), [VoxPopuli](https://arxiv.org/abs/2101.00390), and [VoxLingua107](https://arxiv.org/abs/2011.12998) at a sampling rate of 16kHz. Common Voice, in its original form, has a sampling rate of 48kHz, thus we will have to downsample the fine-tuning data to 16kHz in the following.\n",
        "\n"
      ]
    },
    {
      "cell_type": "markdown",
      "metadata": {
        "id": "KuUbPW7oV-B5"
      },
      "source": [
        "A `Wav2Vec2FeatureExtractor` object requires the following parameters to be instantiated:\n",
        "\n",
        "- `feature_size`: Speech models take a sequence of feature vectors as an input. While the length of this sequence obviously varies, the feature size should not. In the case of Wav2Vec2, the feature size is 1 because the model was trained on the raw speech signal ${}^2$.\n",
        "- `sampling_rate`: The sampling rate at which the model is trained on.\n",
        "- `padding_value`: For batched inference, shorter inputs need to be padded with a specific value\n",
        "- `do_normalize`: Whether the input should be *zero-mean-unit-variance* normalized or not. Usually, speech models perform better when normalizing the input\n",
        "- `return_attention_mask`: Whether the model should make use of an `attention_mask` for batched inference. In general, XLS-R models checkpoints should **always** use the `attention_mask`."
      ]
    },
    {
      "cell_type": "code",
      "source": [
        "common_voice_train[0]['audio']"
      ],
      "metadata": {
        "id": "UqqZ0y7GpnKt",
        "outputId": "7d666281-bb4c-42f4-a0d0-23e977fbd9f1",
        "colab": {
          "base_uri": "https://localhost:8080/"
        }
      },
      "execution_count": null,
      "outputs": [
        {
          "output_type": "execute_result",
          "data": {
            "text/plain": [
              "{'path': 'cv-corpus-6.1-2020-12-11/fa/clips/common_voice_fa_18202376.mp3',\n",
              " 'array': array([ 0.0000000e+00,  0.0000000e+00,  0.0000000e+00, ...,\n",
              "        -1.5437603e-05, -9.5367432e-06, -4.7087669e-06], dtype=float32),\n",
              " 'sampling_rate': 48000}"
            ]
          },
          "metadata": {},
          "execution_count": 31
        }
      ]
    },
    {
      "cell_type": "code",
      "metadata": {
        "id": "kAR0-2KLkopp"
      },
      "source": [
        "from transformers import Wav2Vec2FeatureExtractor\n",
        "\n",
        "feature_extractor = Wav2Vec2FeatureExtractor(feature_size=1, sampling_rate=16000, padding_value=0.0, do_normalize=True, return_attention_mask=True)"
      ],
      "execution_count": null,
      "outputs": []
    },
    {
      "cell_type": "markdown",
      "metadata": {
        "id": "qUETetgqYC3W"
      },
      "source": [
        "Great, XLS-R's feature extraction pipeline is thereby fully defined!\n",
        "\n",
        "For improved user-friendliness, the feature extractor and tokenizer are *wrapped* into a single `Wav2Vec2Processor` class so that one only needs a `model` and `processor` object."
      ]
    },
    {
      "cell_type": "code",
      "metadata": {
        "id": "KYZtoW-tlZgl"
      },
      "source": [
        "from transformers import Wav2Vec2Processor\n",
        "\n",
        "processor = Wav2Vec2Processor(feature_extractor=feature_extractor, tokenizer=tokenizer)"
      ],
      "execution_count": null,
      "outputs": []
    },
    {
      "cell_type": "markdown",
      "metadata": {
        "id": "DrKnYuvDIoOO"
      },
      "source": [
        "Next, we can prepare the dataset."
      ]
    },
    {
      "cell_type": "markdown",
      "metadata": {
        "id": "YFmShnl7RE35"
      },
      "source": [
        "### Preprocess Data\n",
        "\n",
        "So far, we have not looked at the actual values of the speech signal but just the transcription. In addition to `sentence`, our datasets include two more column names `path` and `audio`. `path` states the absolute path of the audio file. Let's take a look.\n"
      ]
    },
    {
      "cell_type": "code",
      "metadata": {
        "colab": {
          "base_uri": "https://localhost:8080/",
          "height": 35
        },
        "id": "TTCS7W6XJ9BG",
        "outputId": "517a5dd4-8b15-4070-a0ca-ec6af54111af"
      },
      "source": [
        "common_voice_train[0][\"path\"]"
      ],
      "execution_count": null,
      "outputs": [
        {
          "output_type": "execute_result",
          "data": {
            "text/plain": [
              "'common_voice_fa_18202376.mp3'"
            ],
            "application/vnd.google.colaboratory.intrinsic+json": {
              "type": "string"
            }
          },
          "metadata": {},
          "execution_count": 33
        }
      ]
    },
    {
      "cell_type": "markdown",
      "metadata": {
        "id": "T6ndIjHGFp0W"
      },
      "source": [
        "XLS-R expects the input in the format of a 1-dimensional array of 16 kHz. This means that the audio file has to be loaded and resampled.\n",
        "\n",
        " Thankfully, `datasets` does this automatically by calling the other column `audio`. Let try it out. "
      ]
    },
    {
      "cell_type": "code",
      "metadata": {
        "colab": {
          "base_uri": "https://localhost:8080/"
        },
        "id": "qj_z5Zc3GAs9",
        "outputId": "96ada00b-da7e-4140-e6c4-e8a86fff49b1"
      },
      "source": [
        "common_voice_train[0][\"audio\"]"
      ],
      "execution_count": null,
      "outputs": [
        {
          "output_type": "execute_result",
          "data": {
            "text/plain": [
              "{'path': 'cv-corpus-6.1-2020-12-11/fa/clips/common_voice_fa_18202376.mp3',\n",
              " 'array': array([ 0.0000000e+00,  0.0000000e+00,  0.0000000e+00, ...,\n",
              "        -1.5437603e-05, -9.5367432e-06, -4.7087669e-06], dtype=float32),\n",
              " 'sampling_rate': 48000}"
            ]
          },
          "metadata": {},
          "execution_count": 34
        }
      ]
    },
    {
      "cell_type": "markdown",
      "metadata": {
        "id": "WUUTgI1bGHW-"
      },
      "source": [
        "Great, we can see that the audio file has automatically been loaded. This is thanks to the new [`\"Audio\"` feature](https://huggingface.co/docs/datasets/package_reference/main_classes.html?highlight=audio#datasets.Audio) introduced in `datasets == 4.13.3`, which loads and resamples audio files on-the-fly upon calling.\n",
        "\n",
        "In the example above we can see that the audio data is loaded with a sampling rate of 48kHz whereas 16kHz are expected by the model. We can set the audio feature to the correct sampling rate by making use of [`cast_column`](https://huggingface.co/docs/datasets/package_reference/main_classes.html?highlight=cast_column#datasets.DatasetDict.cast_column):"
      ]
    },
    {
      "cell_type": "code",
      "metadata": {
        "id": "rrv65aj7G95i"
      },
      "source": [
        "common_voice_train = common_voice_train.cast_column(\"audio\", Audio(sampling_rate=16_000))\n",
        "common_voice_test = common_voice_test.cast_column(\"audio\", Audio(sampling_rate=16_000))"
      ],
      "execution_count": null,
      "outputs": []
    },
    {
      "cell_type": "markdown",
      "metadata": {
        "id": "PcnO4x-NGBEi"
      },
      "source": [
        "Let's take a look at `\"audio\"` again."
      ]
    },
    {
      "cell_type": "code",
      "metadata": {
        "colab": {
          "base_uri": "https://localhost:8080/"
        },
        "id": "aKtkc1o_HWHC",
        "outputId": "207216f4-4a36-4910-e953-6d58ca1492d9"
      },
      "source": [
        "common_voice_train[0][\"audio\"]"
      ],
      "execution_count": null,
      "outputs": [
        {
          "output_type": "execute_result",
          "data": {
            "text/plain": [
              "{'path': 'cv-corpus-6.1-2020-12-11/fa/clips/common_voice_fa_18202376.mp3',\n",
              " 'array': array([ 0.0000000e+00,  0.0000000e+00,  0.0000000e+00, ...,\n",
              "        -1.0061510e-04, -9.2824957e-05, -1.6028429e-05], dtype=float32),\n",
              " 'sampling_rate': 16000}"
            ]
          },
          "metadata": {},
          "execution_count": 36
        }
      ]
    },
    {
      "cell_type": "markdown",
      "metadata": {
        "id": "SOckzFd4Mbzq"
      },
      "source": [
        "This seemed to have worked! Let's listen to a couple of audio files to better understand the dataset and verify that the audio was correctly loaded. \n",
        "\n",
        "**Note**: *You can click the following cell a couple of times to listen to different speech samples.*"
      ]
    },
    {
      "cell_type": "code",
      "metadata": {
        "colab": {
          "base_uri": "https://localhost:8080/",
          "height": 93
        },
        "id": "dueM6U7Ev0OA",
        "outputId": "45c06d96-91a0-480c-cd0a-698fdec12e2c"
      },
      "source": [
        "import IPython.display as ipd\n",
        "import numpy as np\n",
        "import random\n",
        "\n",
        "rand_int = random.randint(0, len(common_voice_train)-1)\n",
        "\n",
        "print(common_voice_train[rand_int][\"sentence\"])\n",
        "ipd.Audio(data=common_voice_train[rand_int][\"audio\"][\"array\"], autoplay=True, rate=16000)"
      ],
      "execution_count": null,
      "outputs": [
        {
          "output_type": "stream",
          "name": "stdout",
          "text": [
            "نه از گربه ها بدم میاد \n"
          ]
        },
        {
          "output_type": "execute_result",
          "data": {
            "text/plain": [
              "<IPython.lib.display.Audio object>"
            ],
            "text/html": [
              "\n",
              "                <audio  controls=\"controls\" autoplay=\"autoplay\">\n",
              "                    <source src=\"data:audio/wav;base64,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\" type=\"audio/wav\" />\n",
              "                    Your browser does not support the audio element.\n",
              "                </audio>\n",
              "              "
            ]
          },
          "metadata": {},
          "execution_count": 37
        }
      ]
    },
    {
      "cell_type": "markdown",
      "metadata": {
        "id": "gY8m3vARHYTa"
      },
      "source": [
        "It seems like the data is now correctly loaded and resampled. "
      ]
    },
    {
      "cell_type": "markdown",
      "metadata": {
        "id": "1MaL9J2dNVtG"
      },
      "source": [
        "It can be heard, that the speakers change along with their speaking rate, accent, and background environment, etc. Overall, the recordings sound acceptably clear though, which is to be expected from a crowd-sourced read speech corpus.\n",
        "\n",
        "Let's do a final check that the data is correctly prepared, by printing the shape of the speech input, its transcription, and the corresponding sampling rate.\n",
        "\n",
        "**Note**: *You can click the following cell a couple of times to verify multiple samples.*"
      ]
    },
    {
      "cell_type": "code",
      "metadata": {
        "colab": {
          "base_uri": "https://localhost:8080/"
        },
        "id": "1Po2g7YPuRTx",
        "outputId": "2551cecc-80db-41c9-9d62-7ade95a2f345"
      },
      "source": [
        "rand_int = random.randint(0, len(common_voice_train)-1)\n",
        "\n",
        "print(\"Target text:\", common_voice_train[rand_int][\"sentence\"])\n",
        "print(\"Input array shape:\", common_voice_train[rand_int][\"audio\"][\"array\"].shape)\n",
        "print(\"Sampling rate:\", common_voice_train[rand_int][\"audio\"][\"sampling_rate\"])"
      ],
      "execution_count": null,
      "outputs": [
        {
          "output_type": "stream",
          "name": "stdout",
          "text": [
            "Target text: اریو \n",
            "Input array shape: (32640,)\n",
            "Sampling rate: 16000\n"
          ]
        }
      ]
    },
    {
      "cell_type": "markdown",
      "metadata": {
        "id": "M9teZcSwOBJ4"
      },
      "source": [
        "Good! Everything looks fine - the data is a 1-dimensional array, the sampling rate always corresponds to 16kHz, and the target text is normalized."
      ]
    },
    {
      "cell_type": "markdown",
      "metadata": {
        "id": "k3Pbn5WvOYZF"
      },
      "source": [
        "Finally, we can leverage `Wav2Vec2Processor` to process the data to the format expected by `Wav2Vec2ForCTC` for training. To do so let's make use of Dataset's [`map(...)`](https://huggingface.co/docs/datasets/package_reference/main_classes.html?highlight=map#datasets.DatasetDict.map) function.\n",
        "\n",
        "First, we load and resample the audio data, simply by calling `batch[\"audio\"]`.\n",
        "Second, we extract the `input_values` from the loaded audio file. In our case, the `Wav2Vec2Processor` only normalizes the data. For other speech models, however, this step can include more complex feature extraction, such as [Log-Mel feature extraction](https://en.wikipedia.org/wiki/Mel-frequency_cepstrum). \n",
        "Third, we encode the transcriptions to label ids.\n",
        "\n",
        "**Note**: This mapping function is a good example of how the `Wav2Vec2Processor` class should be used. In \"normal\" context, calling `processor(...)` is redirected to `Wav2Vec2FeatureExtractor`'s call method. When wrapping the processor into the `as_target_processor` context, however, the same method is redirected to `Wav2Vec2CTCTokenizer`'s call method.\n",
        "For more information please check the [docs](https://huggingface.co/transformers/master/model_doc/wav2vec2.html#transformers.Wav2Vec2Processor.__call__)."
      ]
    },
    {
      "cell_type": "code",
      "metadata": {
        "id": "eJY7I0XAwe9p"
      },
      "source": [
        "def prepare_dataset(batch):\n",
        "    audio = batch[\"audio\"]\n",
        "\n",
        "    # batched output is \"un-batched\"\n",
        "    batch[\"input_values\"] = processor(audio[\"array\"], sampling_rate=audio[\"sampling_rate\"]).input_values[0]\n",
        "    batch[\"input_length\"] = len(batch[\"input_values\"])\n",
        "    \n",
        "    with processor.as_target_processor():\n",
        "        batch[\"labels\"] = processor(batch[\"sentence\"]).input_ids\n",
        "    return batch"
      ],
      "execution_count": null,
      "outputs": []
    },
    {
      "cell_type": "markdown",
      "metadata": {
        "id": "q6Pg_WR3OGAP"
      },
      "source": [
        "Let's apply the data preparation function to all examples."
      ]
    },
    {
      "cell_type": "code",
      "metadata": {
        "colab": {
          "base_uri": "https://localhost:8080/",
          "height": 81,
          "referenced_widgets": [
            "1b7c5f30490a40a19a86051ffd3c72a2",
            "99bc7ca17d394460986bf8f31461fd17",
            "c03e8922be4a40bea2967285b1c99cc3",
            "3b4bab7acd4c4a0982621f6f93a69422",
            "ecf8d6f67e3a4466b0eb07687299d6dd",
            "d6806b4e18344fa4a53d1445d824772c",
            "04f247b5b4814b41aa71532135de65b9",
            "31966caecf5f45fba8215fad726ccabc",
            "923008d5db02415f82b0a27a2c294db9",
            "2a358cf750174d8b8884b0d5d4910e97",
            "c430450d8d03477db1c0e78320541c60",
            "c3043fad8b35472fb1e19b0fa7893760",
            "c52e7e20264b4be89db527508460126b",
            "3aadb168ebb642e19bb0f8fe920ef651",
            "977168b4cb7645f388fc7245021ddc75",
            "cb0bf015dbee4bf7b28d0e406af55f4d",
            "a5994d87c08f4a4598cb7e5e57d16c4c",
            "6aacf000dd2746b8b556862af5a287c5",
            "1cec495aaa8d4f4a97f0ea50edaa996a",
            "8e23f6f116df4ff388912fbf33beba86",
            "3d103c6e98934b8ca557d8477001d488",
            "55b43126df6844cb83528013bb80029d"
          ]
        },
        "id": "-np9xYK-wl8q",
        "outputId": "3a9d3699-7647-46ee-be6e-e18cccf0cb2f"
      },
      "source": [
        "common_voice_train = common_voice_train.map(prepare_dataset, remove_columns=common_voice_train.column_names)\n",
        "common_voice_test = common_voice_test.map(prepare_dataset, remove_columns=common_voice_test.column_names)"
      ],
      "execution_count": null,
      "outputs": [
        {
          "output_type": "display_data",
          "data": {
            "text/plain": [
              "0ex [00:00, ?ex/s]"
            ],
            "application/vnd.jupyter.widget-view+json": {
              "version_major": 2,
              "version_minor": 0,
              "model_id": "1b7c5f30490a40a19a86051ffd3c72a2"
            }
          },
          "metadata": {}
        },
        {
          "output_type": "display_data",
          "data": {
            "text/plain": [
              "0ex [00:00, ?ex/s]"
            ],
            "application/vnd.jupyter.widget-view+json": {
              "version_major": 2,
              "version_minor": 0,
              "model_id": "c3043fad8b35472fb1e19b0fa7893760"
            }
          },
          "metadata": {}
        }
      ]
    },
    {
      "cell_type": "markdown",
      "metadata": {
        "id": "nKcEWHvKI1by"
      },
      "source": [
        "**Note**: Currently `datasets` make use of [`torchaudio`](https://pytorch.org/audio/stable/index.html) and [`librosa`](https://librosa.org/doc/latest/index.html) for audio loading and resampling. If you wish to implement your own costumized data loading/sampling, feel free to just make use of the `\"path\"` column instead and disregard the `\"audio\"` column."
      ]
    },
    {
      "cell_type": "markdown",
      "metadata": {
        "id": "24CxHd5ewI4T"
      },
      "source": [
        "Long input sequences require a lot of memory. XLS-R is based on `self-attention` the memory requirement scales quadratically with the input length for long input sequences (*cf.* with [this](https://www.reddit.com/r/MachineLearning/comments/genjvb/d_why_is_the_maximum_input_sequence_length_of/) reddit post). In case this demo crashes with an \"Out-of-memory\" error for you, you might want to uncomment the following lines to filter all sequences that are longer than 5 seconds for training."
      ]
    },
    {
      "cell_type": "code",
      "metadata": {
        "id": "tdHfbUJ_09iA"
      },
      "source": [
        "#max_input_length_in_sec = 5.0\n",
        "#common_voice_train = common_voice_train.filter(lambda x: x < max_input_length_in_sec * processor.feature_extractor.sampling_rate, input_columns=[\"input_length\"])"
      ],
      "execution_count": null,
      "outputs": []
    },
    {
      "cell_type": "markdown",
      "metadata": {
        "id": "1ZWDCCKqwcfS"
      },
      "source": [
        "Awesome, now we are ready to start training!"
      ]
    },
    {
      "cell_type": "markdown",
      "metadata": {
        "id": "gYlQkKVoRUos"
      },
      "source": [
        "## Training\n",
        "\n",
        "The data is processed so that we are ready to start setting up the training pipeline. We will make use of 🤗's [Trainer](https://huggingface.co/transformers/master/main_classes/trainer.html?highlight=trainer) for which we essentially need to do the following:\n",
        "\n",
        "- Define a data collator. In contrast to most NLP models, XLS-R has a much larger input length than output length. *E.g.*, a sample of input length 50000 has an output length of no more than 100. Given the large input sizes, it is much more efficient to pad the training batches dynamically meaning that all training samples should only be padded to the longest sample in their batch and not the overall longest sample. Therefore, fine-tuning XLS-R requires a special padding data collator, which we will define below\n",
        "\n",
        "- Evaluation metric. During training, the model should be evaluated on the word error rate. We should define a `compute_metrics` function accordingly\n",
        "\n",
        "- Load a pretrained checkpoint. We need to load a pretrained checkpoint and configure it correctly for training.\n",
        "\n",
        "- Define the training configuration.\n",
        "\n",
        "After having fine-tuned the model, we will correctly evaluate it on the test data and verify that it has indeed learned to correctly transcribe speech."
      ]
    },
    {
      "cell_type": "markdown",
      "metadata": {
        "id": "Slk403unUS91"
      },
      "source": [
        "### Set-up Trainer\n",
        "\n",
        "Let's start by defining the data collator. The code for the data collator was copied from [this example](https://github.com/huggingface/transformers/blob/7e61d56a45c19284cfda0cee8995fb552f6b1f4e/examples/pytorch/speech-recognition/run_speech_recognition_ctc.py#L219).\n",
        "\n",
        "Without going into too many details, in contrast to the common data collators, this data collator treats the `input_values` and `labels` differently and thus applies to separate padding functions on them (again making use of XLS-R processor's context manager). This is necessary because in speech input and output are of different modalities meaning that they should not be treated by the same padding function.\n",
        "Analogous to the common data collators, the padding tokens in the labels with `-100` so that those tokens are **not** taken into account when computing the loss."
      ]
    },
    {
      "cell_type": "code",
      "source": [
        "import torch\n",
        "\n",
        "from dataclasses import dataclass, field\n",
        "from typing import Any, Dict, List, Optional, Union\n",
        "\n",
        "@dataclass\n",
        "class DataCollatorCTCWithPadding:\n",
        "    \"\"\"\n",
        "    Data collator that will dynamically pad the inputs received.\n",
        "    Args:\n",
        "        processor (:class:`~transformers.Wav2Vec2Processor`)\n",
        "            The processor used for proccessing the data.\n",
        "        padding (:obj:`bool`, :obj:`str` or :class:`~transformers.tokenization_utils_base.PaddingStrategy`, `optional`, defaults to :obj:`True`):\n",
        "            Select a strategy to pad the returned sequences (according to the model's padding side and padding index)\n",
        "            among:\n",
        "            * :obj:`True` or :obj:`'longest'`: Pad to the longest sequence in the batch (or no padding if only a single\n",
        "              sequence if provided).\n",
        "            * :obj:`'max_length'`: Pad to a maximum length specified with the argument :obj:`max_length` or to the\n",
        "              maximum acceptable input length for the model if that argument is not provided.\n",
        "            * :obj:`False` or :obj:`'do_not_pad'` (default): No padding (i.e., can output a batch with sequences of\n",
        "              different lengths).\n",
        "        max_length (:obj:`int`, `optional`):\n",
        "            Maximum length of the ``input_values`` of the returned list and optionally padding length (see above).\n",
        "        max_length_labels (:obj:`int`, `optional`):\n",
        "            Maximum length of the ``labels`` returned list and optionally padding length (see above).\n",
        "        pad_to_multiple_of (:obj:`int`, `optional`):\n",
        "            If set will pad the sequence to a multiple of the provided value.\n",
        "            This is especially useful to enable the use of Tensor Cores on NVIDIA hardware with compute capability >=\n",
        "            7.5 (Volta).\n",
        "    \"\"\"\n",
        "\n",
        "    processor: Wav2Vec2Processor\n",
        "    padding: Union[bool, str] = True\n",
        "    max_length: Optional[int] = None\n",
        "    max_length_labels: Optional[int] = None\n",
        "    pad_to_multiple_of: Optional[int] = None\n",
        "    pad_to_multiple_of_labels: Optional[int] = None\n",
        "\n",
        "    def __call__(self, features: List[Dict[str, Union[List[int], torch.Tensor]]]) -> Dict[str, torch.Tensor]:\n",
        "        # split inputs and labels since they have to be of different lenghts and need\n",
        "        # different padding methods\n",
        "        input_features = [{\"input_values\": feature[\"input_values\"]} for feature in features]\n",
        "        label_features = [{\"input_ids\": feature[\"labels\"]} for feature in features]\n",
        "\n",
        "        batch = self.processor.pad(\n",
        "            input_features,\n",
        "            padding=self.padding,\n",
        "            max_length=self.max_length,\n",
        "            pad_to_multiple_of=self.pad_to_multiple_of,\n",
        "            return_tensors=\"pt\",\n",
        "        )\n",
        "        with self.processor.as_target_processor():\n",
        "            labels_batch = self.processor.pad(\n",
        "                label_features,\n",
        "                padding=self.padding,\n",
        "                max_length=self.max_length_labels,\n",
        "                pad_to_multiple_of=self.pad_to_multiple_of_labels,\n",
        "                return_tensors=\"pt\",\n",
        "            )\n",
        "\n",
        "        # replace padding with -100 to ignore loss correctly\n",
        "        labels = labels_batch[\"input_ids\"].masked_fill(labels_batch.attention_mask.ne(1), -100)\n",
        "\n",
        "        batch[\"labels\"] = labels\n",
        "\n",
        "        return batch"
      ],
      "metadata": {
        "id": "kgBtuyMSacAf"
      },
      "execution_count": null,
      "outputs": []
    },
    {
      "cell_type": "code",
      "metadata": {
        "id": "lbQf5GuZyQ4_"
      },
      "source": [
        "data_collator = DataCollatorCTCWithPadding(processor=processor, padding=True)"
      ],
      "execution_count": null,
      "outputs": []
    },
    {
      "cell_type": "markdown",
      "metadata": {
        "id": "xO-Zdj-5cxXp"
      },
      "source": [
        "Next, the evaluation metric is defined. As mentioned earlier, the \n",
        "predominant metric in ASR is the word error rate (WER), hence we will use it in this notebook as well."
      ]
    },
    {
      "cell_type": "code",
      "metadata": {
        "colab": {
          "base_uri": "https://localhost:8080/",
          "height": 49,
          "referenced_widgets": [
            "20f6926d07654819b76bff1550e15540",
            "569b6cbc2ce24a9cb0545a3722e8bd25",
            "e40af9ccf44645a188c36e7a7d7a0979",
            "cff3d7592f1549d39c2f73be635093e0",
            "4623b1b4d33743b9b079323e993221df",
            "dd3074cfd8dc44d9aab2d5406f216de7",
            "ade62dd6ceec4cfb939e4e83f7fced00",
            "912a1875b19445c0851f27367d5e0f11",
            "bd76a2eff906464b86ee306c85085caa",
            "20707693d73444989da388e1c6e850c7",
            "920fb0fe034240f1882254b68f28551d"
          ]
        },
        "id": "9Xsux2gmyXso",
        "outputId": "fefe76c5-b363-4f14-d266-4ed1832b93b0"
      },
      "source": [
        "wer_metric = load_metric(\"wer\")"
      ],
      "execution_count": null,
      "outputs": [
        {
          "output_type": "display_data",
          "data": {
            "text/plain": [
              "Downloading:   0%|          | 0.00/1.90k [00:00<?, ?B/s]"
            ],
            "application/vnd.jupyter.widget-view+json": {
              "version_major": 2,
              "version_minor": 0,
              "model_id": "20f6926d07654819b76bff1550e15540"
            }
          },
          "metadata": {}
        }
      ]
    },
    {
      "cell_type": "markdown",
      "metadata": {
        "id": "E1qZU5p-deqB"
      },
      "source": [
        "The model will return a sequence of logit vectors:\n",
        "$\\mathbf{y}_1, \\ldots, \\mathbf{y}_m$ with $\\mathbf{y}_1 = f_{\\theta}(x_1, \\ldots, x_n)[0]$ and $n >> m$.\n",
        "\n",
        "A logit vector $\\mathbf{y}_1$ contains the log-odds for each word in the vocabulary we defined earlier, thus $\\text{len}(\\mathbf{y}_i) =$ `config.vocab_size`. We are interested in the most likely prediction of the model and thus take the `argmax(...)` of the logits. Also, we transform the encoded labels back to the original string by replacing `-100` with the `pad_token_id` and decoding the ids while making sure that consecutive tokens are **not** grouped to the same token in CTC style ${}^1$."
      ]
    },
    {
      "cell_type": "code",
      "metadata": {
        "id": "1XZ-kjweyTy_"
      },
      "source": [
        "def compute_metrics(pred):\n",
        "    pred_logits = pred.predictions\n",
        "    pred_ids = np.argmax(pred_logits, axis=-1)\n",
        "\n",
        "    pred.label_ids[pred.label_ids == -100] = processor.tokenizer.pad_token_id\n",
        "\n",
        "    pred_str = processor.batch_decode(pred_ids)\n",
        "    # we do not want to group tokens when computing the metrics\n",
        "    label_str = processor.batch_decode(pred.label_ids, group_tokens=False)\n",
        "\n",
        "    wer = wer_metric.compute(predictions=pred_str, references=label_str)\n",
        "\n",
        "    return {\"wer\": wer}"
      ],
      "execution_count": null,
      "outputs": []
    },
    {
      "cell_type": "markdown",
      "metadata": {
        "id": "Xmgrx4bRwLIH"
      },
      "source": [
        "Now, we can load the pretrained checkpoint of [Wav2Vec2-XLS-R-300M](https://huggingface.co/facebook/wav2vec2-xls-r-300m). The tokenizer's `pad_token_id` must be to define the model's `pad_token_id` or in the case of `Wav2Vec2ForCTC` also CTC's *blank token* ${}^2$. To save GPU memory, we enable PyTorch's [gradient checkpointing](https://pytorch.org/docs/stable/checkpoint.html) and also set the loss reduction to \"*mean*\".\n",
        "\n",
        "Because the dataset is quite small (~6h of training data) and because Common Voice is quite noisy, fine-tuning Facebook's [wav2vec2-xls-r-300m checkpoint](https://huggingface.co/facebook/wav2vec2-xls-r-300m) seems to require some hyper-parameter tuning. Therefore, I had to play around a bit with different values for dropout, [SpecAugment](https://arxiv.org/abs/1904.08779)'s masking dropout rate, layer dropout, and the learning rate until training seemed to be stable enough. \n",
        "\n",
        "**Note**: When using this notebook to train XLS-R on another language of Common Voice those hyper-parameter settings might not work very well. Feel free to adapt those depending on your use case. "
      ]
    },
    {
      "cell_type": "code",
      "metadata": {
        "colab": {
          "base_uri": "https://localhost:8080/",
          "height": 226,
          "referenced_widgets": [
            "30eaf95838da4bbda5b4ee268e84d5ff",
            "92529df1417443dfaa77fc0d23435364",
            "20d41184120e4aa5b1d5e11f11d6900e",
            "158265a29d344c87814445e55552e9f6",
            "d6d344ca59414dbf84e91a27797090c6",
            "d6172d29b3784d5ab17ee13143b864d3",
            "cbeab82eb3e34c5fa4d33facbed3e161",
            "ddc753ea1aa749c78ab98ec9b0b12e3f",
            "cd56a05e26c24c64bea153d377d7b13c",
            "35be03867b2743eeaa8cee688b18e253",
            "4d206cdcc8954ad5bfded78c63c04b7b",
            "663be9adefbe4de2926343644e03dc85",
            "2e161c237f494a18b0803e6a57a6aa7a",
            "8d170f84425948d1b60ed5216b6a6e36",
            "d7813518050b41b5b385b306da6bd2de",
            "9581acf6caff4d41997f84038ccbfe07",
            "1b02e6fd79044d4999176d4f1ced0a65",
            "027b5b4e1c2543a58796d0c78b9df4ca",
            "ec9dfa7a449244c4a900861d2b33d1f7",
            "6f88e49140424631b5895689c5e02f9d",
            "69560869f350435b801928ee1ef27fcc",
            "888a5f194a914066a01d50b0f09f6e6a"
          ]
        },
        "id": "e7cqAWIayn6w",
        "outputId": "83cac1cc-b0d9-4981-a036-8ffe459c070f"
      },
      "source": [
        "from transformers import Wav2Vec2ForCTC\n",
        "\n",
        "model = Wav2Vec2ForCTC.from_pretrained(\n",
        "    \"facebook/wav2vec2-base\", \n",
        "    pad_token_id=processor.tokenizer.pad_token_id,\n",
        "    attention_dropout=0.0,\n",
        "    hidden_dropout=0.0,\n",
        "    feat_proj_dropout=0.0,\n",
        "    mask_time_prob=0.05,\n",
        "    layerdrop=0.0,\n",
        "    ctc_loss_reduction=\"mean\", \n",
        "    vocab_size=len(processor.tokenizer),\n",
        ")\n",
        "# model = Wav2Vec2ForCTC.from_pretrained(\n",
        "#     \"facebook/wav2vec2-xls-r-300m\", \n",
        "#     attention_dropout=0.0,\n",
        "#     hidden_dropout=0.0,\n",
        "#     feat_proj_dropout=0.0,\n",
        "#     mask_time_prob=0.05,\n",
        "#     layerdrop=0.0,\n",
        "#     ctc_loss_reduction=\"mean\", \n",
        "#     pad_token_id=processor.tokenizer.pad_token_id,\n",
        "#     vocab_size=len(processor.tokenizer),\n",
        "# )"
      ],
      "execution_count": null,
      "outputs": [
        {
          "output_type": "display_data",
          "data": {
            "text/plain": [
              "Downloading:   0%|          | 0.00/1.80k [00:00<?, ?B/s]"
            ],
            "application/vnd.jupyter.widget-view+json": {
              "version_major": 2,
              "version_minor": 0,
              "model_id": "30eaf95838da4bbda5b4ee268e84d5ff"
            }
          },
          "metadata": {}
        },
        {
          "output_type": "stream",
          "name": "stderr",
          "text": [
            "/usr/local/lib/python3.7/dist-packages/transformers/configuration_utils.py:337: UserWarning: Passing `gradient_checkpointing` to a config initialization is deprecated and will be removed in v5 Transformers. Using `model.gradient_checkpointing_enable()` instead, or if you are using the `Trainer` API, pass `gradient_checkpointing=True` in your `TrainingArguments`.\n",
            "  \"Passing `gradient_checkpointing` to a config initialization is deprecated and will be removed in v5 \"\n"
          ]
        },
        {
          "output_type": "display_data",
          "data": {
            "text/plain": [
              "Downloading:   0%|          | 0.00/363M [00:00<?, ?B/s]"
            ],
            "application/vnd.jupyter.widget-view+json": {
              "version_major": 2,
              "version_minor": 0,
              "model_id": "663be9adefbe4de2926343644e03dc85"
            }
          },
          "metadata": {}
        },
        {
          "output_type": "stream",
          "name": "stderr",
          "text": [
            "Some weights of the model checkpoint at facebook/wav2vec2-base were not used when initializing Wav2Vec2ForCTC: ['quantizer.weight_proj.weight', 'quantizer.weight_proj.bias', 'quantizer.codevectors', 'project_hid.weight', 'project_hid.bias', 'project_q.bias', 'project_q.weight']\n",
            "- This IS expected if you are initializing Wav2Vec2ForCTC from the checkpoint of a model trained on another task or with another architecture (e.g. initializing a BertForSequenceClassification model from a BertForPreTraining model).\n",
            "- This IS NOT expected if you are initializing Wav2Vec2ForCTC from the checkpoint of a model that you expect to be exactly identical (initializing a BertForSequenceClassification model from a BertForSequenceClassification model).\n",
            "Some weights of Wav2Vec2ForCTC were not initialized from the model checkpoint at facebook/wav2vec2-base and are newly initialized: ['lm_head.bias', 'lm_head.weight']\n",
            "You should probably TRAIN this model on a down-stream task to be able to use it for predictions and inference.\n"
          ]
        }
      ]
    },
    {
      "cell_type": "markdown",
      "metadata": {
        "id": "1DwR3XLSzGDD"
      },
      "source": [
        "The first component of XLS-R consists of a stack of CNN layers that are used to extract acoustically meaningful - but contextually independent - features from the raw speech signal. This part of the model has already been sufficiently trained during pretraining and as stated in the [paper](https://arxiv.org/pdf/2006.13979.pdf) does not need to be fine-tuned anymore. \n",
        "Thus, we can set the `requires_grad` to `False` for all parameters of the *feature extraction* part."
      ]
    },
    {
      "cell_type": "code",
      "metadata": {
        "id": "oGI8zObtZ3V0"
      },
      "source": [
        "model.freeze_feature_extractor()"
      ],
      "execution_count": null,
      "outputs": []
    },
    {
      "cell_type": "markdown",
      "metadata": {
        "id": "lD4aGhQM0K-D"
      },
      "source": [
        "In a final step, we define all parameters related to training. \n",
        "To give more explanation on some of the parameters:\n",
        "- `group_by_length` makes training more efficient by grouping training samples of similar input length into one batch. This can significantly speed up training time by heavily reducing the overall number of useless padding tokens that are passed through the model\n",
        "- `learning_rate` and `weight_decay` were heuristically tuned until fine-tuning has become stable. Note that those parameters strongly depend on the Common Voice dataset and might be suboptimal for other speech datasets.\n",
        "\n",
        "For more explanations on other parameters, one can take a look at the [docs](https://huggingface.co/transformers/master/main_classes/trainer.html?highlight=trainer#trainingarguments).\n",
        "\n",
        "During training, a checkpoint will be uploaded asynchronously to the hub every 400 training steps. It allows you to also play around with the demo widget even while your model is still training.\n",
        "\n",
        "**Note**: If one does not want to upload the model checkpoints to the hub, simply set `push_to_hub=False`."
      ]
    },
    {
      "cell_type": "code",
      "source": [
        "!mkdir outputdir"
      ],
      "metadata": {
        "id": "MnSGEte-qrHy"
      },
      "execution_count": null,
      "outputs": []
    },
    {
      "cell_type": "code",
      "source": [
        "repo_name = '/content/outputdir'"
      ],
      "metadata": {
        "id": "nuTTrRCwqqLf"
      },
      "execution_count": null,
      "outputs": []
    },
    {
      "cell_type": "code",
      "metadata": {
        "id": "KbeKSV7uzGPP"
      },
      "source": [
        "from transformers import TrainingArguments\n",
        "\n",
        "training_args = TrainingArguments(\n",
        "  output_dir=repo_name,\n",
        "  group_by_length=True,\n",
        "  per_device_train_batch_size=16,\n",
        "  gradient_accumulation_steps=2,\n",
        "  evaluation_strategy=\"steps\",\n",
        "  num_train_epochs=30,\n",
        "  gradient_checkpointing=True,\n",
        "  fp16=True,\n",
        "  save_steps=400,\n",
        "  eval_steps=400,\n",
        "  logging_steps=400,\n",
        "  learning_rate=3e-4,\n",
        "  warmup_steps=500,\n",
        "  save_total_limit=2,\n",
        "  push_to_hub=True,\n",
        ")"
      ],
      "execution_count": null,
      "outputs": []
    },
    {
      "cell_type": "markdown",
      "metadata": {
        "id": "OsW-WZcL1ZtN"
      },
      "source": [
        "Now, all instances can be passed to Trainer and we are ready to start training!"
      ]
    },
    {
      "cell_type": "code",
      "metadata": {
        "colab": {
          "base_uri": "https://localhost:8080/"
        },
        "id": "rY7vBmFCPFgC",
        "outputId": "c90497b8-603c-45c5-87b3-2aa3715894fc"
      },
      "source": [
        "from transformers import Trainer\n",
        "\n",
        "trainer = Trainer(\n",
        "    model=model,\n",
        "    data_collator=data_collator,\n",
        "    args=training_args,\n",
        "    compute_metrics=compute_metrics,\n",
        "    train_dataset=common_voice_train,\n",
        "    eval_dataset=common_voice_test,\n",
        "    tokenizer=processor.feature_extractor,\n",
        ")"
      ],
      "execution_count": null,
      "outputs": [
        {
          "output_type": "stream",
          "name": "stderr",
          "text": [
            "/usr/local/lib/python3.7/dist-packages/huggingface_hub/repository.py:708: FutureWarning: Creating a repository through 'clone_from' is deprecated and will be removed in v0.11.\n",
            "  FutureWarning,\n",
            "Cloning https://huggingface.co/Rastadayon/outputdir into local empty directory.\n",
            "WARNING:huggingface_hub.repository:Cloning https://huggingface.co/Rastadayon/outputdir into local empty directory.\n",
            "Using amp fp16 backend\n"
          ]
        }
      ]
    },
    {
      "cell_type": "markdown",
      "metadata": {
        "id": "UoXBx1JAA0DX"
      },
      "source": [
        "\n",
        "\n",
        "---\n",
        "\n",
        "${}^1$ To allow models to become independent of the speaker rate, in CTC, consecutive tokens that are identical are simply grouped as a single token. However, the encoded labels should not be grouped when decoding since they don't correspond to the predicted tokens of the model, which is why the `group_tokens=False` parameter has to be passed. If we wouldn't pass this parameter a word like `\"hello\"` would incorrectly be encoded, and decoded as `\"helo\"`.\n",
        "\n",
        "${}^2$ The blank token allows the model to predict a word, such as `\"hello\"` by forcing it to insert the blank token between the two l's. A CTC-conform prediction of `\"hello\"` of our model would be `[PAD] [PAD] \"h\" \"e\" \"e\" \"l\" \"l\" [PAD] \"l\" \"o\" \"o\" [PAD]`."
      ]
    },
    {
      "cell_type": "markdown",
      "metadata": {
        "id": "rpvZHM1xReIW"
      },
      "source": [
        "### Training"
      ]
    },
    {
      "cell_type": "markdown",
      "metadata": {
        "id": "j-3oKSzZ1hGq"
      },
      "source": [
        "Training will take multiple hours depending on the GPU allocated to this notebook. While the trained model yields somewhat satisfying results on *Common Voice*'s test data of Turkish, it is by no means an optimally fine-tuned model. The purpose of this notebook is just to demonstrate how to fine-tune XLS-R on an ASR dataset.\n",
        "\n",
        "In case you want to use this google colab to fine-tune your model, you should make sure that your training doesn't stop due to inactivity. A simple hack to prevent this is to paste the following code into the console of this tab (*right mouse click -> inspect -> Console tab and insert code*)."
      ]
    },
    {
      "cell_type": "markdown",
      "metadata": {
        "id": "VYYAvgkW4P0m"
      },
      "source": [
        "```javascript\n",
        "function ConnectButton(){\n",
        "    console.log(\"Connect pushed\"); \n",
        "    document.querySelector(\"#top-toolbar > colab-connect-button\").shadowRoot.querySelector(\"#connect\").click() \n",
        "}\n",
        "setInterval(ConnectButton,60000);\n",
        "```"
      ]
    },
    {
      "cell_type": "markdown",
      "metadata": {
        "id": "7bGgLV2r0yvZ"
      },
      "source": [
        "Depending on what GPU was allocated to your google colab it might be possible that you are seeing an `\"out-of-memory\"` error here. In this case, it's probably best to reduce `per_device_train_batch_size` to 8 or even less and increase [`gradient_accumulation`](https://huggingface.co/transformers/master/main_classes/trainer.html#trainingarguments)."
      ]
    },
    {
      "cell_type": "code",
      "metadata": {
        "colab": {
          "base_uri": "https://localhost:8080/",
          "height": 1000
        },
        "id": "9fRr9TG5pGBl",
        "outputId": "f754231a-7221-42b5-d55e-c9586839a876"
      },
      "source": [
        "trainer.train()"
      ],
      "execution_count": null,
      "outputs": [
        {
          "metadata": {
            "tags": null
          },
          "name": "stderr",
          "output_type": "stream",
          "text": [
            "The following columns in the training set  don't have a corresponding argument in `Wav2Vec2ForCTC.forward` and have been ignored: input_length.\n",
            "***** Running training *****\n",
            "  Num examples = 10199\n",
            "  Num Epochs = 30\n",
            "  Instantaneous batch size per device = 16\n",
            "  Total train batch size (w. parallel, distributed & accumulation) = 32\n",
            "  Gradient Accumulation steps = 2\n",
            "  Total optimization steps = 9570\n",
            "/usr/local/lib/python3.7/dist-packages/transformers/feature_extraction_utils.py:158: UserWarning: Creating a tensor from a list of numpy.ndarrays is extremely slow. Please consider converting the list to a single numpy.ndarray with numpy.array() before converting to a tensor. (Triggered internally at  ../torch/csrc/utils/tensor_new.cpp:201.)\n",
            "  tensor = as_tensor(value)\n",
            "/usr/local/lib/python3.7/dist-packages/transformers/models/wav2vec2/modeling_wav2vec2.py:882: UserWarning: __floordiv__ is deprecated, and its behavior will change in a future version of pytorch. It currently rounds toward 0 (like the 'trunc' function NOT 'floor'). This results in incorrect rounding for negative values. To keep the current behavior, use torch.div(a, b, rounding_mode='trunc'), or for actual floor division, use torch.div(a, b, rounding_mode='floor').\n",
            "  return (input_length - kernel_size) // stride + 1\n"
          ]
        },
        {
          "data": {
            "text/html": [
              "\n",
              "    <div>\n",
              "      \n",
              "      <progress value='6801' max='9570' style='width:300px; height:20px; vertical-align: middle;'></progress>\n",
              "      [6801/9570 4:49:47 < 1:58:01, 0.39 it/s, Epoch 21.32/30]\n",
              "    </div>\n",
              "    <table border=\"1\" class=\"dataframe\">\n",
              "  <thead>\n",
              "    <tr style=\"text-align: left;\">\n",
              "      <th>Step</th>\n",
              "      <th>Training Loss</th>\n",
              "      <th>Validation Loss</th>\n",
              "      <th>Wer</th>\n",
              "    </tr>\n",
              "  </thead>\n",
              "  <tbody>\n",
              "    <tr>\n",
              "      <td>400</td>\n",
              "      <td>4.760600</td>\n",
              "      <td>2.923453</td>\n",
              "      <td>1.000000</td>\n",
              "    </tr>\n",
              "    <tr>\n",
              "      <td>800</td>\n",
              "      <td>2.957700</td>\n",
              "      <td>2.916942</td>\n",
              "      <td>1.000000</td>\n",
              "    </tr>\n",
              "    <tr>\n",
              "      <td>1200</td>\n",
              "      <td>3.054100</td>\n",
              "      <td>2.961579</td>\n",
              "      <td>1.000000</td>\n",
              "    </tr>\n",
              "    <tr>\n",
              "      <td>1600</td>\n",
              "      <td>3.122500</td>\n",
              "      <td>2.955826</td>\n",
              "      <td>1.000000</td>\n",
              "    </tr>\n",
              "    <tr>\n",
              "      <td>2000</td>\n",
              "      <td>3.103200</td>\n",
              "      <td>2.963847</td>\n",
              "      <td>1.000000</td>\n",
              "    </tr>\n",
              "    <tr>\n",
              "      <td>2400</td>\n",
              "      <td>3.100000</td>\n",
              "      <td>2.950157</td>\n",
              "      <td>1.000000</td>\n",
              "    </tr>\n",
              "    <tr>\n",
              "      <td>2800</td>\n",
              "      <td>3.099600</td>\n",
              "      <td>2.953998</td>\n",
              "      <td>1.000000</td>\n",
              "    </tr>\n",
              "    <tr>\n",
              "      <td>3200</td>\n",
              "      <td>3.092000</td>\n",
              "      <td>2.952397</td>\n",
              "      <td>1.000000</td>\n",
              "    </tr>\n",
              "    <tr>\n",
              "      <td>3600</td>\n",
              "      <td>3.091500</td>\n",
              "      <td>2.952860</td>\n",
              "      <td>1.000000</td>\n",
              "    </tr>\n",
              "    <tr>\n",
              "      <td>4000</td>\n",
              "      <td>3.094100</td>\n",
              "      <td>2.952940</td>\n",
              "      <td>1.000000</td>\n",
              "    </tr>\n",
              "    <tr>\n",
              "      <td>4400</td>\n",
              "      <td>3.089400</td>\n",
              "      <td>2.964869</td>\n",
              "      <td>1.000000</td>\n",
              "    </tr>\n",
              "    <tr>\n",
              "      <td>4800</td>\n",
              "      <td>3.086900</td>\n",
              "      <td>2.951479</td>\n",
              "      <td>1.000000</td>\n",
              "    </tr>\n",
              "    <tr>\n",
              "      <td>5200</td>\n",
              "      <td>3.088100</td>\n",
              "      <td>2.951607</td>\n",
              "      <td>1.000000</td>\n",
              "    </tr>\n",
              "    <tr>\n",
              "      <td>5600</td>\n",
              "      <td>3.086700</td>\n",
              "      <td>2.960079</td>\n",
              "      <td>1.000000</td>\n",
              "    </tr>\n",
              "    <tr>\n",
              "      <td>6000</td>\n",
              "      <td>3.082900</td>\n",
              "      <td>2.952501</td>\n",
              "      <td>1.000000</td>\n",
              "    </tr>\n",
              "    <tr>\n",
              "      <td>6400</td>\n",
              "      <td>3.081600</td>\n",
              "      <td>2.952893</td>\n",
              "      <td>1.000000</td>\n",
              "    </tr>\n",
              "  </tbody>\n",
              "</table><p>\n",
              "    <div>\n",
              "      \n",
              "      <progress value='254' max='326' style='width:300px; height:20px; vertical-align: middle;'></progress>\n",
              "      [254/326 03:01 < 00:51, 1.39 it/s]\n",
              "    </div>\n",
              "    "
            ],
            "text/plain": [
              "<IPython.core.display.HTML object>"
            ]
          },
          "metadata": {},
          "output_type": "display_data"
        },
        {
          "metadata": {
            "tags": null
          },
          "name": "stderr",
          "output_type": "stream",
          "text": [
            "The following columns in the evaluation set  don't have a corresponding argument in `Wav2Vec2ForCTC.forward` and have been ignored: input_length.\n",
            "***** Running Evaluation *****\n",
            "  Num examples = 2606\n",
            "  Batch size = 8\n",
            "Saving model checkpoint to /content/outputdir/checkpoint-400\n",
            "Configuration saved in /content/outputdir/checkpoint-400/config.json\n",
            "Model weights saved in /content/outputdir/checkpoint-400/pytorch_model.bin\n",
            "Configuration saved in /content/outputdir/checkpoint-400/preprocessor_config.json\n",
            "Configuration saved in /content/outputdir/preprocessor_config.json\n",
            "/usr/local/lib/python3.7/dist-packages/transformers/models/wav2vec2/modeling_wav2vec2.py:882: UserWarning: __floordiv__ is deprecated, and its behavior will change in a future version of pytorch. It currently rounds toward 0 (like the 'trunc' function NOT 'floor'). This results in incorrect rounding for negative values. To keep the current behavior, use torch.div(a, b, rounding_mode='trunc'), or for actual floor division, use torch.div(a, b, rounding_mode='floor').\n",
            "  return (input_length - kernel_size) // stride + 1\n",
            "The following columns in the evaluation set  don't have a corresponding argument in `Wav2Vec2ForCTC.forward` and have been ignored: input_length.\n",
            "***** Running Evaluation *****\n",
            "  Num examples = 2606\n",
            "  Batch size = 8\n",
            "Saving model checkpoint to /content/outputdir/checkpoint-800\n",
            "Configuration saved in /content/outputdir/checkpoint-800/config.json\n",
            "Model weights saved in /content/outputdir/checkpoint-800/pytorch_model.bin\n",
            "Configuration saved in /content/outputdir/checkpoint-800/preprocessor_config.json\n",
            "/usr/local/lib/python3.7/dist-packages/transformers/models/wav2vec2/modeling_wav2vec2.py:882: UserWarning: __floordiv__ is deprecated, and its behavior will change in a future version of pytorch. It currently rounds toward 0 (like the 'trunc' function NOT 'floor'). This results in incorrect rounding for negative values. To keep the current behavior, use torch.div(a, b, rounding_mode='trunc'), or for actual floor division, use torch.div(a, b, rounding_mode='floor').\n",
            "  return (input_length - kernel_size) // stride + 1\n",
            "The following columns in the evaluation set  don't have a corresponding argument in `Wav2Vec2ForCTC.forward` and have been ignored: input_length.\n",
            "***** Running Evaluation *****\n",
            "  Num examples = 2606\n",
            "  Batch size = 8\n",
            "Saving model checkpoint to /content/outputdir/checkpoint-1200\n",
            "Configuration saved in /content/outputdir/checkpoint-1200/config.json\n",
            "Model weights saved in /content/outputdir/checkpoint-1200/pytorch_model.bin\n",
            "Configuration saved in /content/outputdir/checkpoint-1200/preprocessor_config.json\n",
            "Deleting older checkpoint [/content/outputdir/checkpoint-400] due to args.save_total_limit\n",
            "/usr/local/lib/python3.7/dist-packages/transformers/models/wav2vec2/modeling_wav2vec2.py:882: UserWarning: __floordiv__ is deprecated, and its behavior will change in a future version of pytorch. It currently rounds toward 0 (like the 'trunc' function NOT 'floor'). This results in incorrect rounding for negative values. To keep the current behavior, use torch.div(a, b, rounding_mode='trunc'), or for actual floor division, use torch.div(a, b, rounding_mode='floor').\n",
            "  return (input_length - kernel_size) // stride + 1\n",
            "The following columns in the evaluation set  don't have a corresponding argument in `Wav2Vec2ForCTC.forward` and have been ignored: input_length.\n",
            "***** Running Evaluation *****\n",
            "  Num examples = 2606\n",
            "  Batch size = 8\n",
            "Saving model checkpoint to /content/outputdir/checkpoint-1600\n",
            "Configuration saved in /content/outputdir/checkpoint-1600/config.json\n",
            "Model weights saved in /content/outputdir/checkpoint-1600/pytorch_model.bin\n",
            "Configuration saved in /content/outputdir/checkpoint-1600/preprocessor_config.json\n",
            "Deleting older checkpoint [/content/outputdir/checkpoint-800] due to args.save_total_limit\n",
            "/usr/local/lib/python3.7/dist-packages/transformers/models/wav2vec2/modeling_wav2vec2.py:882: UserWarning: __floordiv__ is deprecated, and its behavior will change in a future version of pytorch. It currently rounds toward 0 (like the 'trunc' function NOT 'floor'). This results in incorrect rounding for negative values. To keep the current behavior, use torch.div(a, b, rounding_mode='trunc'), or for actual floor division, use torch.div(a, b, rounding_mode='floor').\n",
            "  return (input_length - kernel_size) // stride + 1\n",
            "The following columns in the evaluation set  don't have a corresponding argument in `Wav2Vec2ForCTC.forward` and have been ignored: input_length.\n",
            "***** Running Evaluation *****\n",
            "  Num examples = 2606\n",
            "  Batch size = 8\n",
            "Saving model checkpoint to /content/outputdir/checkpoint-2000\n",
            "Configuration saved in /content/outputdir/checkpoint-2000/config.json\n",
            "Model weights saved in /content/outputdir/checkpoint-2000/pytorch_model.bin\n",
            "Configuration saved in /content/outputdir/checkpoint-2000/preprocessor_config.json\n",
            "Deleting older checkpoint [/content/outputdir/checkpoint-1200] due to args.save_total_limit\n",
            "/usr/local/lib/python3.7/dist-packages/transformers/models/wav2vec2/modeling_wav2vec2.py:882: UserWarning: __floordiv__ is deprecated, and its behavior will change in a future version of pytorch. It currently rounds toward 0 (like the 'trunc' function NOT 'floor'). This results in incorrect rounding for negative values. To keep the current behavior, use torch.div(a, b, rounding_mode='trunc'), or for actual floor division, use torch.div(a, b, rounding_mode='floor').\n",
            "  return (input_length - kernel_size) // stride + 1\n",
            "The following columns in the evaluation set  don't have a corresponding argument in `Wav2Vec2ForCTC.forward` and have been ignored: input_length.\n",
            "***** Running Evaluation *****\n",
            "  Num examples = 2606\n",
            "  Batch size = 8\n",
            "Saving model checkpoint to /content/outputdir/checkpoint-2400\n",
            "Configuration saved in /content/outputdir/checkpoint-2400/config.json\n",
            "Model weights saved in /content/outputdir/checkpoint-2400/pytorch_model.bin\n",
            "Configuration saved in /content/outputdir/checkpoint-2400/preprocessor_config.json\n",
            "Deleting older checkpoint [/content/outputdir/checkpoint-1600] due to args.save_total_limit\n",
            "/usr/local/lib/python3.7/dist-packages/transformers/models/wav2vec2/modeling_wav2vec2.py:882: UserWarning: __floordiv__ is deprecated, and its behavior will change in a future version of pytorch. It currently rounds toward 0 (like the 'trunc' function NOT 'floor'). This results in incorrect rounding for negative values. To keep the current behavior, use torch.div(a, b, rounding_mode='trunc'), or for actual floor division, use torch.div(a, b, rounding_mode='floor').\n",
            "  return (input_length - kernel_size) // stride + 1\n",
            "The following columns in the evaluation set  don't have a corresponding argument in `Wav2Vec2ForCTC.forward` and have been ignored: input_length.\n",
            "***** Running Evaluation *****\n",
            "  Num examples = 2606\n",
            "  Batch size = 8\n",
            "Saving model checkpoint to /content/outputdir/checkpoint-2800\n",
            "Configuration saved in /content/outputdir/checkpoint-2800/config.json\n",
            "Model weights saved in /content/outputdir/checkpoint-2800/pytorch_model.bin\n",
            "Configuration saved in /content/outputdir/checkpoint-2800/preprocessor_config.json\n",
            "Deleting older checkpoint [/content/outputdir/checkpoint-2000] due to args.save_total_limit\n",
            "/usr/local/lib/python3.7/dist-packages/transformers/models/wav2vec2/modeling_wav2vec2.py:882: UserWarning: __floordiv__ is deprecated, and its behavior will change in a future version of pytorch. It currently rounds toward 0 (like the 'trunc' function NOT 'floor'). This results in incorrect rounding for negative values. To keep the current behavior, use torch.div(a, b, rounding_mode='trunc'), or for actual floor division, use torch.div(a, b, rounding_mode='floor').\n",
            "  return (input_length - kernel_size) // stride + 1\n",
            "The following columns in the evaluation set  don't have a corresponding argument in `Wav2Vec2ForCTC.forward` and have been ignored: input_length.\n",
            "***** Running Evaluation *****\n",
            "  Num examples = 2606\n",
            "  Batch size = 8\n",
            "Saving model checkpoint to /content/outputdir/checkpoint-3200\n",
            "Configuration saved in /content/outputdir/checkpoint-3200/config.json\n",
            "Model weights saved in /content/outputdir/checkpoint-3200/pytorch_model.bin\n",
            "Configuration saved in /content/outputdir/checkpoint-3200/preprocessor_config.json\n",
            "Deleting older checkpoint [/content/outputdir/checkpoint-2400] due to args.save_total_limit\n",
            "/usr/local/lib/python3.7/dist-packages/transformers/models/wav2vec2/modeling_wav2vec2.py:882: UserWarning: __floordiv__ is deprecated, and its behavior will change in a future version of pytorch. It currently rounds toward 0 (like the 'trunc' function NOT 'floor'). This results in incorrect rounding for negative values. To keep the current behavior, use torch.div(a, b, rounding_mode='trunc'), or for actual floor division, use torch.div(a, b, rounding_mode='floor').\n",
            "  return (input_length - kernel_size) // stride + 1\n",
            "The following columns in the evaluation set  don't have a corresponding argument in `Wav2Vec2ForCTC.forward` and have been ignored: input_length.\n",
            "***** Running Evaluation *****\n",
            "  Num examples = 2606\n",
            "  Batch size = 8\n",
            "Saving model checkpoint to /content/outputdir/checkpoint-3600\n",
            "Configuration saved in /content/outputdir/checkpoint-3600/config.json\n",
            "Model weights saved in /content/outputdir/checkpoint-3600/pytorch_model.bin\n",
            "Configuration saved in /content/outputdir/checkpoint-3600/preprocessor_config.json\n",
            "Deleting older checkpoint [/content/outputdir/checkpoint-2800] due to args.save_total_limit\n",
            "/usr/local/lib/python3.7/dist-packages/transformers/models/wav2vec2/modeling_wav2vec2.py:882: UserWarning: __floordiv__ is deprecated, and its behavior will change in a future version of pytorch. It currently rounds toward 0 (like the 'trunc' function NOT 'floor'). This results in incorrect rounding for negative values. To keep the current behavior, use torch.div(a, b, rounding_mode='trunc'), or for actual floor division, use torch.div(a, b, rounding_mode='floor').\n",
            "  return (input_length - kernel_size) // stride + 1\n",
            "The following columns in the evaluation set  don't have a corresponding argument in `Wav2Vec2ForCTC.forward` and have been ignored: input_length.\n",
            "***** Running Evaluation *****\n",
            "  Num examples = 2606\n",
            "  Batch size = 8\n",
            "Saving model checkpoint to /content/outputdir/checkpoint-4000\n",
            "Configuration saved in /content/outputdir/checkpoint-4000/config.json\n",
            "Model weights saved in /content/outputdir/checkpoint-4000/pytorch_model.bin\n",
            "Configuration saved in /content/outputdir/checkpoint-4000/preprocessor_config.json\n",
            "Deleting older checkpoint [/content/outputdir/checkpoint-3200] due to args.save_total_limit\n",
            "/usr/local/lib/python3.7/dist-packages/transformers/models/wav2vec2/modeling_wav2vec2.py:882: UserWarning: __floordiv__ is deprecated, and its behavior will change in a future version of pytorch. It currently rounds toward 0 (like the 'trunc' function NOT 'floor'). This results in incorrect rounding for negative values. To keep the current behavior, use torch.div(a, b, rounding_mode='trunc'), or for actual floor division, use torch.div(a, b, rounding_mode='floor').\n",
            "  return (input_length - kernel_size) // stride + 1\n",
            "The following columns in the evaluation set  don't have a corresponding argument in `Wav2Vec2ForCTC.forward` and have been ignored: input_length.\n",
            "***** Running Evaluation *****\n",
            "  Num examples = 2606\n",
            "  Batch size = 8\n",
            "Saving model checkpoint to /content/outputdir/checkpoint-4400\n",
            "Configuration saved in /content/outputdir/checkpoint-4400/config.json\n",
            "Model weights saved in /content/outputdir/checkpoint-4400/pytorch_model.bin\n",
            "Configuration saved in /content/outputdir/checkpoint-4400/preprocessor_config.json\n",
            "Deleting older checkpoint [/content/outputdir/checkpoint-3600] due to args.save_total_limit\n",
            "/usr/local/lib/python3.7/dist-packages/transformers/models/wav2vec2/modeling_wav2vec2.py:882: UserWarning: __floordiv__ is deprecated, and its behavior will change in a future version of pytorch. It currently rounds toward 0 (like the 'trunc' function NOT 'floor'). This results in incorrect rounding for negative values. To keep the current behavior, use torch.div(a, b, rounding_mode='trunc'), or for actual floor division, use torch.div(a, b, rounding_mode='floor').\n",
            "  return (input_length - kernel_size) // stride + 1\n",
            "The following columns in the evaluation set  don't have a corresponding argument in `Wav2Vec2ForCTC.forward` and have been ignored: input_length.\n",
            "***** Running Evaluation *****\n",
            "  Num examples = 2606\n",
            "  Batch size = 8\n",
            "Saving model checkpoint to /content/outputdir/checkpoint-4800\n",
            "Configuration saved in /content/outputdir/checkpoint-4800/config.json\n",
            "Model weights saved in /content/outputdir/checkpoint-4800/pytorch_model.bin\n",
            "Configuration saved in /content/outputdir/checkpoint-4800/preprocessor_config.json\n",
            "Deleting older checkpoint [/content/outputdir/checkpoint-4000] due to args.save_total_limit\n",
            "/usr/local/lib/python3.7/dist-packages/transformers/models/wav2vec2/modeling_wav2vec2.py:882: UserWarning: __floordiv__ is deprecated, and its behavior will change in a future version of pytorch. It currently rounds toward 0 (like the 'trunc' function NOT 'floor'). This results in incorrect rounding for negative values. To keep the current behavior, use torch.div(a, b, rounding_mode='trunc'), or for actual floor division, use torch.div(a, b, rounding_mode='floor').\n",
            "  return (input_length - kernel_size) // stride + 1\n",
            "The following columns in the evaluation set  don't have a corresponding argument in `Wav2Vec2ForCTC.forward` and have been ignored: input_length.\n",
            "***** Running Evaluation *****\n",
            "  Num examples = 2606\n",
            "  Batch size = 8\n",
            "Saving model checkpoint to /content/outputdir/checkpoint-5200\n",
            "Configuration saved in /content/outputdir/checkpoint-5200/config.json\n",
            "Model weights saved in /content/outputdir/checkpoint-5200/pytorch_model.bin\n",
            "Configuration saved in /content/outputdir/checkpoint-5200/preprocessor_config.json\n",
            "Deleting older checkpoint [/content/outputdir/checkpoint-4400] due to args.save_total_limit\n",
            "/usr/local/lib/python3.7/dist-packages/transformers/models/wav2vec2/modeling_wav2vec2.py:882: UserWarning: __floordiv__ is deprecated, and its behavior will change in a future version of pytorch. It currently rounds toward 0 (like the 'trunc' function NOT 'floor'). This results in incorrect rounding for negative values. To keep the current behavior, use torch.div(a, b, rounding_mode='trunc'), or for actual floor division, use torch.div(a, b, rounding_mode='floor').\n",
            "  return (input_length - kernel_size) // stride + 1\n",
            "The following columns in the evaluation set  don't have a corresponding argument in `Wav2Vec2ForCTC.forward` and have been ignored: input_length.\n",
            "***** Running Evaluation *****\n",
            "  Num examples = 2606\n",
            "  Batch size = 8\n",
            "Saving model checkpoint to /content/outputdir/checkpoint-5600\n",
            "Configuration saved in /content/outputdir/checkpoint-5600/config.json\n",
            "Model weights saved in /content/outputdir/checkpoint-5600/pytorch_model.bin\n",
            "Configuration saved in /content/outputdir/checkpoint-5600/preprocessor_config.json\n",
            "Deleting older checkpoint [/content/outputdir/checkpoint-4800] due to args.save_total_limit\n",
            "/usr/local/lib/python3.7/dist-packages/transformers/models/wav2vec2/modeling_wav2vec2.py:882: UserWarning: __floordiv__ is deprecated, and its behavior will change in a future version of pytorch. It currently rounds toward 0 (like the 'trunc' function NOT 'floor'). This results in incorrect rounding for negative values. To keep the current behavior, use torch.div(a, b, rounding_mode='trunc'), or for actual floor division, use torch.div(a, b, rounding_mode='floor').\n",
            "  return (input_length - kernel_size) // stride + 1\n",
            "The following columns in the evaluation set  don't have a corresponding argument in `Wav2Vec2ForCTC.forward` and have been ignored: input_length.\n",
            "***** Running Evaluation *****\n",
            "  Num examples = 2606\n",
            "  Batch size = 8\n",
            "Saving model checkpoint to /content/outputdir/checkpoint-6000\n",
            "Configuration saved in /content/outputdir/checkpoint-6000/config.json\n",
            "Model weights saved in /content/outputdir/checkpoint-6000/pytorch_model.bin\n",
            "Configuration saved in /content/outputdir/checkpoint-6000/preprocessor_config.json\n",
            "Deleting older checkpoint [/content/outputdir/checkpoint-5200] due to args.save_total_limit\n",
            "/usr/local/lib/python3.7/dist-packages/transformers/models/wav2vec2/modeling_wav2vec2.py:882: UserWarning: __floordiv__ is deprecated, and its behavior will change in a future version of pytorch. It currently rounds toward 0 (like the 'trunc' function NOT 'floor'). This results in incorrect rounding for negative values. To keep the current behavior, use torch.div(a, b, rounding_mode='trunc'), or for actual floor division, use torch.div(a, b, rounding_mode='floor').\n",
            "  return (input_length - kernel_size) // stride + 1\n",
            "The following columns in the evaluation set  don't have a corresponding argument in `Wav2Vec2ForCTC.forward` and have been ignored: input_length.\n",
            "***** Running Evaluation *****\n",
            "  Num examples = 2606\n",
            "  Batch size = 8\n",
            "Saving model checkpoint to /content/outputdir/checkpoint-6400\n",
            "Configuration saved in /content/outputdir/checkpoint-6400/config.json\n",
            "Model weights saved in /content/outputdir/checkpoint-6400/pytorch_model.bin\n",
            "Configuration saved in /content/outputdir/checkpoint-6400/preprocessor_config.json\n",
            "Deleting older checkpoint [/content/outputdir/checkpoint-5600] due to args.save_total_limit\n",
            "/usr/local/lib/python3.7/dist-packages/transformers/models/wav2vec2/modeling_wav2vec2.py:882: UserWarning: __floordiv__ is deprecated, and its behavior will change in a future version of pytorch. It currently rounds toward 0 (like the 'trunc' function NOT 'floor'). This results in incorrect rounding for negative values. To keep the current behavior, use torch.div(a, b, rounding_mode='trunc'), or for actual floor division, use torch.div(a, b, rounding_mode='floor').\n",
            "  return (input_length - kernel_size) // stride + 1\n",
            "The following columns in the evaluation set  don't have a corresponding argument in `Wav2Vec2ForCTC.forward` and have been ignored: input_length.\n",
            "***** Running Evaluation *****\n",
            "  Num examples = 2606\n",
            "  Batch size = 8\n"
          ]
        },
        {
          "output_type": "display_data",
          "data": {
            "text/plain": [
              "<IPython.core.display.HTML object>"
            ],
            "text/html": [
              "\n",
              "    <div>\n",
              "      \n",
              "      <progress value='7343' max='9570' style='width:300px; height:20px; vertical-align: middle;'></progress>\n",
              "      [7343/9570 5:15:49 < 1:35:48, 0.39 it/s, Epoch 23.02/30]\n",
              "    </div>\n",
              "    <table border=\"1\" class=\"dataframe\">\n",
              "  <thead>\n",
              "    <tr style=\"text-align: left;\">\n",
              "      <th>Step</th>\n",
              "      <th>Training Loss</th>\n",
              "      <th>Validation Loss</th>\n",
              "      <th>Wer</th>\n",
              "    </tr>\n",
              "  </thead>\n",
              "  <tbody>\n",
              "    <tr>\n",
              "      <td>400</td>\n",
              "      <td>4.760600</td>\n",
              "      <td>2.923453</td>\n",
              "      <td>1.000000</td>\n",
              "    </tr>\n",
              "    <tr>\n",
              "      <td>800</td>\n",
              "      <td>2.957700</td>\n",
              "      <td>2.916942</td>\n",
              "      <td>1.000000</td>\n",
              "    </tr>\n",
              "    <tr>\n",
              "      <td>1200</td>\n",
              "      <td>3.054100</td>\n",
              "      <td>2.961579</td>\n",
              "      <td>1.000000</td>\n",
              "    </tr>\n",
              "    <tr>\n",
              "      <td>1600</td>\n",
              "      <td>3.122500</td>\n",
              "      <td>2.955826</td>\n",
              "      <td>1.000000</td>\n",
              "    </tr>\n",
              "    <tr>\n",
              "      <td>2000</td>\n",
              "      <td>3.103200</td>\n",
              "      <td>2.963847</td>\n",
              "      <td>1.000000</td>\n",
              "    </tr>\n",
              "    <tr>\n",
              "      <td>2400</td>\n",
              "      <td>3.100000</td>\n",
              "      <td>2.950157</td>\n",
              "      <td>1.000000</td>\n",
              "    </tr>\n",
              "    <tr>\n",
              "      <td>2800</td>\n",
              "      <td>3.099600</td>\n",
              "      <td>2.953998</td>\n",
              "      <td>1.000000</td>\n",
              "    </tr>\n",
              "    <tr>\n",
              "      <td>3200</td>\n",
              "      <td>3.092000</td>\n",
              "      <td>2.952397</td>\n",
              "      <td>1.000000</td>\n",
              "    </tr>\n",
              "    <tr>\n",
              "      <td>3600</td>\n",
              "      <td>3.091500</td>\n",
              "      <td>2.952860</td>\n",
              "      <td>1.000000</td>\n",
              "    </tr>\n",
              "    <tr>\n",
              "      <td>4000</td>\n",
              "      <td>3.094100</td>\n",
              "      <td>2.952940</td>\n",
              "      <td>1.000000</td>\n",
              "    </tr>\n",
              "    <tr>\n",
              "      <td>4400</td>\n",
              "      <td>3.089400</td>\n",
              "      <td>2.964869</td>\n",
              "      <td>1.000000</td>\n",
              "    </tr>\n",
              "    <tr>\n",
              "      <td>4800</td>\n",
              "      <td>3.086900</td>\n",
              "      <td>2.951479</td>\n",
              "      <td>1.000000</td>\n",
              "    </tr>\n",
              "    <tr>\n",
              "      <td>5200</td>\n",
              "      <td>3.088100</td>\n",
              "      <td>2.951607</td>\n",
              "      <td>1.000000</td>\n",
              "    </tr>\n",
              "    <tr>\n",
              "      <td>5600</td>\n",
              "      <td>3.086700</td>\n",
              "      <td>2.960079</td>\n",
              "      <td>1.000000</td>\n",
              "    </tr>\n",
              "    <tr>\n",
              "      <td>6000</td>\n",
              "      <td>3.082900</td>\n",
              "      <td>2.952501</td>\n",
              "      <td>1.000000</td>\n",
              "    </tr>\n",
              "    <tr>\n",
              "      <td>6400</td>\n",
              "      <td>3.081600</td>\n",
              "      <td>2.952893</td>\n",
              "      <td>1.000000</td>\n",
              "    </tr>\n",
              "    <tr>\n",
              "      <td>6800</td>\n",
              "      <td>3.086400</td>\n",
              "      <td>2.955020</td>\n",
              "      <td>1.000000</td>\n",
              "    </tr>\n",
              "    <tr>\n",
              "      <td>7200</td>\n",
              "      <td>3.081600</td>\n",
              "      <td>2.957456</td>\n",
              "      <td>1.000000</td>\n",
              "    </tr>\n",
              "  </tbody>\n",
              "</table><p>"
            ]
          },
          "metadata": {}
        },
        {
          "output_type": "stream",
          "name": "stderr",
          "text": [
            "Saving model checkpoint to /content/outputdir/checkpoint-6800\n",
            "Configuration saved in /content/outputdir/checkpoint-6800/config.json\n",
            "Model weights saved in /content/outputdir/checkpoint-6800/pytorch_model.bin\n",
            "Configuration saved in /content/outputdir/checkpoint-6800/preprocessor_config.json\n",
            "Deleting older checkpoint [/content/outputdir/checkpoint-6000] due to args.save_total_limit\n",
            "/usr/local/lib/python3.7/dist-packages/transformers/models/wav2vec2/modeling_wav2vec2.py:882: UserWarning: __floordiv__ is deprecated, and its behavior will change in a future version of pytorch. It currently rounds toward 0 (like the 'trunc' function NOT 'floor'). This results in incorrect rounding for negative values. To keep the current behavior, use torch.div(a, b, rounding_mode='trunc'), or for actual floor division, use torch.div(a, b, rounding_mode='floor').\n",
            "  return (input_length - kernel_size) // stride + 1\n",
            "The following columns in the evaluation set  don't have a corresponding argument in `Wav2Vec2ForCTC.forward` and have been ignored: input_length.\n",
            "***** Running Evaluation *****\n",
            "  Num examples = 2606\n",
            "  Batch size = 8\n",
            "Saving model checkpoint to /content/outputdir/checkpoint-7200\n",
            "Configuration saved in /content/outputdir/checkpoint-7200/config.json\n",
            "Model weights saved in /content/outputdir/checkpoint-7200/pytorch_model.bin\n",
            "Configuration saved in /content/outputdir/checkpoint-7200/preprocessor_config.json\n",
            "Deleting older checkpoint [/content/outputdir/checkpoint-6400] due to args.save_total_limit\n",
            "/usr/local/lib/python3.7/dist-packages/transformers/models/wav2vec2/modeling_wav2vec2.py:882: UserWarning: __floordiv__ is deprecated, and its behavior will change in a future version of pytorch. It currently rounds toward 0 (like the 'trunc' function NOT 'floor'). This results in incorrect rounding for negative values. To keep the current behavior, use torch.div(a, b, rounding_mode='trunc'), or for actual floor division, use torch.div(a, b, rounding_mode='floor').\n",
            "  return (input_length - kernel_size) // stride + 1\n"
          ]
        }
      ]
    },
    {
      "cell_type": "markdown",
      "metadata": {
        "id": "a9q4mgMZplr_"
      },
      "source": [
        "The training loss and validation WER go down nicely."
      ]
    },
    {
      "cell_type": "markdown",
      "metadata": {
        "id": "4Ya7WEy0pd13"
      },
      "source": [
        "You can now upload the result of the training to the 🤗 Hub, just execute this instruction:"
      ]
    },
    {
      "cell_type": "code",
      "metadata": {
        "colab": {
          "background_save": true,
          "referenced_widgets": [
            "2d2f71d2c70d466cb9a0d3317fb3095e",
            "2e894a5b95cb489db8b27c6617fd9533"
          ]
        },
        "id": "ArG1Thf6NBWm",
        "outputId": "62ef1c3d-786c-4e25-f9c5-4020e71aa298"
      },
      "source": [
        "trainer.push_to_hub()"
      ],
      "execution_count": null,
      "outputs": [
        {
          "name": "stderr",
          "output_type": "stream",
          "text": [
            "Saving model checkpoint to wav2vec2-large-xls-r-300m-turkish-colab\n",
            "Configuration saved in wav2vec2-large-xls-r-300m-turkish-colab/config.json\n",
            "Model weights saved in wav2vec2-large-xls-r-300m-turkish-colab/pytorch_model.bin\n",
            "Configuration saved in wav2vec2-large-xls-r-300m-turkish-colab/preprocessor_config.json\n",
            "Several commits (2) will be pushed upstream.\n",
            "The progress bars may be unreliable.\n"
          ]
        },
        {
          "data": {
            "application/vnd.jupyter.widget-view+json": {
              "model_id": "2d2f71d2c70d466cb9a0d3317fb3095e",
              "version_major": 2,
              "version_minor": 0
            },
            "text/plain": [
              "Upload file pytorch_model.bin:   0%|          | 3.35k/1.18G [00:00<?, ?B/s]"
            ]
          },
          "metadata": {},
          "output_type": "display_data"
        },
        {
          "data": {
            "application/vnd.jupyter.widget-view+json": {
              "model_id": "2e894a5b95cb489db8b27c6617fd9533",
              "version_major": 2,
              "version_minor": 0
            },
            "text/plain": [
              "Upload file runs/Nov12_14-33-48_c2d4142f9305/events.out.tfevents.1636727730.c2d4142f9305.1468.0:  41%|####1   …"
            ]
          },
          "metadata": {},
          "output_type": "display_data"
        },
        {
          "name": "stderr",
          "output_type": "stream",
          "text": [
            "To https://huggingface.co/patrickvonplaten/wav2vec2-large-xls-r-300m-turkish-colab\n",
            "   56ebe74..fe76946  main -> main\n",
            "\n",
            "Dropping the following result as it does not have all the necessary field:\n",
            "{'dataset': {'name': 'common_voice', 'type': 'common_voice', 'args': 'tr'}}\n",
            "To https://huggingface.co/patrickvonplaten/wav2vec2-large-xls-r-300m-turkish-colab\n",
            "   fe76946..5f0d67b  main -> main\n",
            "\n"
          ]
        },
        {
          "data": {
            "application/vnd.google.colaboratory.intrinsic+json": {
              "type": "string"
            },
            "text/plain": [
              "'https://huggingface.co/patrickvonplaten/wav2vec2-large-xls-r-300m-turkish-colab/commit/fe769461e4e2fb9534740e6c278a0cfabf268474'"
            ]
          },
          "execution_count": null,
          "metadata": {},
          "output_type": "execute_result"
        }
      ]
    },
    {
      "cell_type": "markdown",
      "metadata": {
        "id": "RHIVc44_fY2N"
      },
      "source": [
        "You can now share this model with all your friends, family, favorite pets: they can all load it with the identifier \"your-username/the-name-you-picked\" so for instance:"
      ]
    },
    {
      "cell_type": "markdown",
      "metadata": {
        "id": "5lWWIKyBpx1h"
      },
      "source": [
        "```python\n",
        "from transformers import AutoModelForCTC, Wav2Vec2Processor\n",
        "\n",
        "model = AutoModelForCTC.from_pretrained(\"patrickvonplaten/wav2vec2-large-xls-r-300m-tr-colab\")\n",
        "processor = Wav2Vec2Processor.from_pretrained(\"patrickvonplaten/wav2vec2-large-xls-r-300m-tr-colab\")\n",
        "```"
      ]
    },
    {
      "cell_type": "markdown",
      "metadata": {
        "id": "pmi1cX0fRBit"
      },
      "source": [
        "For more examples of how XLS-R can be fine-tuned, please take a look at the [official speech recognition examples](https://github.com/huggingface/transformers/tree/master/examples/pytorch/speech-recognition#examples)."
      ]
    },
    {
      "cell_type": "markdown",
      "metadata": {
        "id": "L8b8Qkoy3KyS"
      },
      "source": [
        "### Evaluation\n",
        "\n",
        "As a final check, let's load the model and verify that it indeed has learned to transcribe Turkish speech.\n",
        "\n",
        "Let's first load the pretrained checkpoint."
      ]
    },
    {
      "cell_type": "code",
      "metadata": {
        "colab": {
          "background_save": true
        },
        "id": "R351I9IQp_9D",
        "outputId": "f2a2ee99-7db6-4962-e140-0107054102d3"
      },
      "source": [
        "model = Wav2Vec2ForCTC.from_pretrained(repo_name).to(\"cuda\")\n",
        "processor = Wav2Vec2Processor.from_pretrained(repo_name)"
      ],
      "execution_count": null,
      "outputs": [
        {
          "name": "stderr",
          "output_type": "stream",
          "text": [
            "loading configuration file wav2vec2-large-xls-r-300m-turkish-colab/config.json\n",
            "Model config Wav2Vec2Config {\n",
            "  \"_name_or_path\": \"facebook/wav2vec2-xls-r-300m\",\n",
            "  \"activation_dropout\": 0.0,\n",
            "  \"apply_spec_augment\": true,\n",
            "  \"architectures\": [\n",
            "    \"Wav2Vec2ForCTC\"\n",
            "  ],\n",
            "  \"attention_dropout\": 0.0,\n",
            "  \"bos_token_id\": 1,\n",
            "  \"classifier_proj_size\": 256,\n",
            "  \"codevector_dim\": 768,\n",
            "  \"contrastive_logits_temperature\": 0.1,\n",
            "  \"conv_bias\": true,\n",
            "  \"conv_dim\": [\n",
            "    512,\n",
            "    512,\n",
            "    512,\n",
            "    512,\n",
            "    512,\n",
            "    512,\n",
            "    512\n",
            "  ],\n",
            "  \"conv_kernel\": [\n",
            "    10,\n",
            "    3,\n",
            "    3,\n",
            "    3,\n",
            "    3,\n",
            "    2,\n",
            "    2\n",
            "  ],\n",
            "  \"conv_stride\": [\n",
            "    5,\n",
            "    2,\n",
            "    2,\n",
            "    2,\n",
            "    2,\n",
            "    2,\n",
            "    2\n",
            "  ],\n",
            "  \"ctc_loss_reduction\": \"mean\",\n",
            "  \"ctc_zero_infinity\": false,\n",
            "  \"diversity_loss_weight\": 0.1,\n",
            "  \"do_stable_layer_norm\": true,\n",
            "  \"eos_token_id\": 2,\n",
            "  \"feat_extract_activation\": \"gelu\",\n",
            "  \"feat_extract_dropout\": 0.0,\n",
            "  \"feat_extract_norm\": \"layer\",\n",
            "  \"feat_proj_dropout\": 0.0,\n",
            "  \"feat_quantizer_dropout\": 0.0,\n",
            "  \"final_dropout\": 0.0,\n",
            "  \"gradient_checkpointing\": false,\n",
            "  \"hidden_act\": \"gelu\",\n",
            "  \"hidden_dropout\": 0.0,\n",
            "  \"hidden_size\": 1024,\n",
            "  \"initializer_range\": 0.02,\n",
            "  \"intermediate_size\": 4096,\n",
            "  \"layer_norm_eps\": 1e-05,\n",
            "  \"layerdrop\": 0.0,\n",
            "  \"mask_feature_length\": 10,\n",
            "  \"mask_feature_prob\": 0.0,\n",
            "  \"mask_time_length\": 10,\n",
            "  \"mask_time_prob\": 0.05,\n",
            "  \"model_type\": \"wav2vec2\",\n",
            "  \"num_attention_heads\": 16,\n",
            "  \"num_codevector_groups\": 2,\n",
            "  \"num_codevectors_per_group\": 320,\n",
            "  \"num_conv_pos_embedding_groups\": 16,\n",
            "  \"num_conv_pos_embeddings\": 128,\n",
            "  \"num_feat_extract_layers\": 7,\n",
            "  \"num_hidden_layers\": 24,\n",
            "  \"num_negatives\": 100,\n",
            "  \"pad_token_id\": 36,\n",
            "  \"proj_codevector_dim\": 768,\n",
            "  \"torch_dtype\": \"float32\",\n",
            "  \"transformers_version\": \"4.11.3\",\n",
            "  \"use_weighted_layer_sum\": false,\n",
            "  \"vocab_size\": 39\n",
            "}\n",
            "\n",
            "loading weights file wav2vec2-large-xls-r-300m-turkish-colab/pytorch_model.bin\n",
            "All model checkpoint weights were used when initializing Wav2Vec2ForCTC.\n",
            "\n",
            "All the weights of Wav2Vec2ForCTC were initialized from the model checkpoint at wav2vec2-large-xls-r-300m-turkish-colab.\n",
            "If your task is similar to the task the model of the checkpoint was trained on, you can already use Wav2Vec2ForCTC for predictions without further training.\n",
            "loading feature extractor configuration file wav2vec2-large-xls-r-300m-turkish-colab/preprocessor_config.json\n",
            "Feature extractor Wav2Vec2FeatureExtractor {\n",
            "  \"do_normalize\": true,\n",
            "  \"feature_extractor_type\": \"Wav2Vec2FeatureExtractor\",\n",
            "  \"feature_size\": 1,\n",
            "  \"padding_side\": \"right\",\n",
            "  \"padding_value\": 0.0,\n",
            "  \"return_attention_mask\": true,\n",
            "  \"sampling_rate\": 16000\n",
            "}\n",
            "\n",
            "Didn't find file wav2vec2-large-xls-r-300m-turkish-colab/tokenizer.json. We won't load it.\n",
            "loading file wav2vec2-large-xls-r-300m-turkish-colab/vocab.json\n",
            "loading file wav2vec2-large-xls-r-300m-turkish-colab/tokenizer_config.json\n",
            "loading file wav2vec2-large-xls-r-300m-turkish-colab/added_tokens.json\n",
            "loading file wav2vec2-large-xls-r-300m-turkish-colab/special_tokens_map.json\n",
            "loading file None\n",
            "Adding <s> to the vocabulary\n",
            "Adding </s> to the vocabulary\n"
          ]
        }
      ]
    },
    {
      "cell_type": "markdown",
      "metadata": {
        "id": "jD7TZ1YS3S_K"
      },
      "source": [
        "\n",
        "Now, we will just take the first example of the test set, run it through the model and take the `argmax(...)` of the logits to retrieve the predicted token ids."
      ]
    },
    {
      "cell_type": "code",
      "metadata": {
        "colab": {
          "background_save": true
        },
        "id": "pax07TnL3WZn",
        "outputId": "867787ff-0cb7-41e9-f926-96f7b53e7134"
      },
      "source": [
        "input_dict = processor(common_voice_test[0][\"input_values\"], return_tensors=\"pt\", padding=True)\n",
        "\n",
        "logits = model(input_dict.input_values.to(\"cuda\")).logits\n",
        "\n",
        "pred_ids = torch.argmax(logits, dim=-1)[0]"
      ],
      "execution_count": null,
      "outputs": [
        {
          "name": "stderr",
          "output_type": "stream",
          "text": [
            "It is strongly recommended to pass the ``sampling_rate`` argument to this function.Failing to do so can result in silent errors that might be hard to debug.\n"
          ]
        }
      ]
    },
    {
      "cell_type": "markdown",
      "metadata": {
        "id": "7nkzSQu53Zs2"
      },
      "source": [
        "We adapted `common_voice_test` quite a bit so that the dataset instance does not contain the original sentence label anymore. Thus, we re-use the original dataset to get the label of the first example."
      ]
    },
    {
      "cell_type": "code",
      "metadata": {
        "colab": {
          "background_save": true,
          "referenced_widgets": [
            "54097a6c744849128d7cc3da8aad6609",
            "b8827ecbec9e44f09216f62c1ee12840",
            "8728bb32478240b7abe576375b01e640",
            "19b8a530352a423794395979e6415bea",
            "5fc8ec04870e4bb7b63b20844c355ab6"
          ]
        },
        "id": "fe2AE-2xqKHx",
        "outputId": "1d8321b3-4f41-4d71-e74e-f33f32a7b261"
      },
      "source": [
        "common_voice_test_transcription = load_dataset(\"common_voice\", \"tr\", data_dir=\"./cv-corpus-6.1-2020-12-11\", split=\"test\")"
      ],
      "execution_count": null,
      "outputs": [
        {
          "name": "stderr",
          "output_type": "stream",
          "text": [
            "Using custom data configuration tr-ad9f7b76efa9f3a0\n"
          ]
        },
        {
          "name": "stdout",
          "output_type": "stream",
          "text": [
            "Downloading and preparing dataset common_voice/tr (download: 592.09 MiB, generated: 2.89 MiB, post-processed: Unknown size, total: 594.98 MiB) to /root/.cache/huggingface/datasets/common_voice/tr-ad9f7b76efa9f3a0/6.1.0/f7a9d973839b7706e9e281c19b7e512f31badf3c0fdbd21c671f3c4bf9acf3b9...\n"
          ]
        },
        {
          "data": {
            "application/vnd.jupyter.widget-view+json": {
              "model_id": "54097a6c744849128d7cc3da8aad6609",
              "version_major": 2,
              "version_minor": 0
            },
            "text/plain": [
              "0 examples [00:00, ? examples/s]"
            ]
          },
          "metadata": {},
          "output_type": "display_data"
        },
        {
          "data": {
            "application/vnd.jupyter.widget-view+json": {
              "model_id": "b8827ecbec9e44f09216f62c1ee12840",
              "version_major": 2,
              "version_minor": 0
            },
            "text/plain": [
              "0 examples [00:00, ? examples/s]"
            ]
          },
          "metadata": {},
          "output_type": "display_data"
        },
        {
          "data": {
            "application/vnd.jupyter.widget-view+json": {
              "model_id": "8728bb32478240b7abe576375b01e640",
              "version_major": 2,
              "version_minor": 0
            },
            "text/plain": [
              "0 examples [00:00, ? examples/s]"
            ]
          },
          "metadata": {},
          "output_type": "display_data"
        },
        {
          "data": {
            "application/vnd.jupyter.widget-view+json": {
              "model_id": "19b8a530352a423794395979e6415bea",
              "version_major": 2,
              "version_minor": 0
            },
            "text/plain": [
              "0 examples [00:00, ? examples/s]"
            ]
          },
          "metadata": {},
          "output_type": "display_data"
        },
        {
          "data": {
            "application/vnd.jupyter.widget-view+json": {
              "model_id": "5fc8ec04870e4bb7b63b20844c355ab6",
              "version_major": 2,
              "version_minor": 0
            },
            "text/plain": [
              "0 examples [00:00, ? examples/s]"
            ]
          },
          "metadata": {},
          "output_type": "display_data"
        },
        {
          "name": "stdout",
          "output_type": "stream",
          "text": [
            "Dataset common_voice downloaded and prepared to /root/.cache/huggingface/datasets/common_voice/tr-ad9f7b76efa9f3a0/6.1.0/f7a9d973839b7706e9e281c19b7e512f31badf3c0fdbd21c671f3c4bf9acf3b9. Subsequent calls will reuse this data.\n"
          ]
        }
      ]
    },
    {
      "cell_type": "markdown",
      "metadata": {
        "id": "epu8kCQZ3h70"
      },
      "source": [
        "\n",
        "Finally, we can decode the example."
      ]
    },
    {
      "cell_type": "code",
      "metadata": {
        "colab": {
          "background_save": true
        },
        "id": "K4xWqmk_qMn0",
        "outputId": "d9e40b3c-f02a-48a1-d081-6d7e8b37dcaf"
      },
      "source": [
        "print(\"Prediction:\")\n",
        "print(processor.decode(pred_ids))\n",
        "\n",
        "print(\"\\nReference:\")\n",
        "print(common_voice_test_transcription[0][\"sentence\"].lower())"
      ],
      "execution_count": null,
      "outputs": [
        {
          "name": "stdout",
          "output_type": "stream",
          "text": [
            "Prediction:\n",
            "ha ta küçük şeyleri için bir büyük biş şeylir koğoluyor ve yeneküçük şeyler için bir birmizi incilkiyoruz\n",
            "\n",
            "Reference:\n",
            "hayatta küçük şeyleri kovalıyor ve yine küçük şeyler için birbirimizi incitiyoruz.\n"
          ]
        }
      ]
    },
    {
      "cell_type": "markdown",
      "metadata": {
        "id": "HwhyoMml3oOT"
      },
      "source": [
        "Alright! The transcription can definitely be recognized from our prediction, but it is not perfect yet. Training the model a bit longer, spending more time on the data preprocessing, and especially using a language model for decoding would certainly improve the model's overall performance.\n",
        "\n",
        "For a demonstration model on a low-resource language, the results are quite acceptable however 🤗."
      ]
    }
  ]
}